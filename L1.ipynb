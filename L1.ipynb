{
 "cells": [
  {
   "cell_type": "markdown",
   "id": "dd94b1f9",
   "metadata": {},
   "source": [
    "# Laboratorio 1\n",
    "#### Agustina Guzmán"
   ]
  },
  {
   "cell_type": "markdown",
   "id": "4d09b295",
   "metadata": {},
   "source": [
    "#### Imports\n",
    "* abc: Libreria utilizada para la abstraccion de clases "
   ]
  },
  {
   "cell_type": "code",
   "execution_count": null,
   "id": "6da98656",
   "metadata": {},
   "outputs": [],
   "source": [
    "from abc import ABCMeta, abstractmethod"
   ]
  },
  {
   "cell_type": "markdown",
   "id": "05ab390c",
   "metadata": {},
   "source": [
    "### Leer datos y crear las clases necesarias"
   ]
  },
  {
   "cell_type": "markdown",
   "id": "ddf583e6",
   "metadata": {},
   "source": [
    "Primero, se tiene que importar el archivo que sera usado"
   ]
  },
  {
   "cell_type": "code",
   "execution_count": null,
   "id": "167fa12f",
   "metadata": {},
   "outputs": [],
   "source": [
    "archivo = input()"
   ]
  },
  {
   "cell_type": "markdown",
   "id": "a44f9232",
   "metadata": {},
   "source": [
    "#### Funciones"
   ]
  },
  {
   "cell_type": "code",
   "execution_count": null,
   "id": "e280af54",
   "metadata": {},
   "outputs": [],
   "source": [
    "def get_caracteristicas(archivo):\n",
    "    \"\"\"\n",
    "    Esta funcion recibe el archivo, lo abre, lo lee, y, retorna las caracteristicas en una lista.\n",
    "    \"\"\"\n",
    "  with open(archivo) as file:\n",
    "    lines = file.read().split(\"\\n\")\n",
    "  caracteristicas = lines[1].split(\",\")\n",
    "  return caracteristicas\n",
    "\n",
    "def obtener_info_especies(archivo):\n",
    "    \"\"\"\n",
    "    Esta funcion recibe el archivo, lo abre, lo lee, y, retorna un diccionario de de diccionarios, de la forma\n",
    "    {especie:{caracteristica: booleano}}\n",
    "    \"\"\"\n",
    "  with open(archivo) as file:\n",
    "    lista = file.read().split(\"\\n\")\n",
    "    linea_caracteristicas_y_especies = lista[0]\n",
    "    lista_linea_c_y_e = []\n",
    "    for i in range (0 , len(linea_caracteristicas_y_especies)):\n",
    "        if linea_caracteristicas_y_especies[i] != \" \":\n",
    "            lista_linea_c_y_e.append(linea_caracteristicas_y_especies[i])\n",
    "    linea_caracteristicas_y_especies = lista_linea_c_y_e\n",
    "    numero_caracteristicas = linea_caracteristicas_y_especies[0]\n",
    "    numero_caracteristicas = int(numero_caracteristicas)\n",
    "    numero_especies = linea_caracteristicas_y_especies[1]\n",
    "    numero_especies = int(numero_especies)\n",
    "    caracteristicas = lista[1]\n",
    "    lista_caracteristicas = caracteristicas.split(\",\")\n",
    "    diccionario = {}\n",
    "    for i in range (2, (2 + numero_especies)):\n",
    "        linea = lista[i]\n",
    "        lista_linea = linea.split(\",\")\n",
    "        especie = lista_linea.pop(0)\n",
    "        caracteristicas_por_especie = {}\n",
    "        for e in range (0 , numero_caracteristicas):\n",
    "          if lista_linea[e] == \"false\":\n",
    "            caracteristicas_por_especie[lista_caracteristicas[e]] = False\n",
    "          else:\n",
    "            caracteristicas_por_especie[lista_caracteristicas[e]] = True\n",
    "        diccionario[especie] = caracteristicas_por_especie\n",
    "    return diccionario\n",
    "\n",
    "def get_num_caracteriscticas_cambiadas(diccionario):\n",
    "    \"\"\"\n",
    "    Esta fucnion recibe el diccionario, y retorna un diccionario de la forma {especie: numero de caracteristicas\n",
    "    nuevas de la especie}\n",
    "    \"\"\"\n",
    "  num_caracteristicas_cambiadas = {}\n",
    "  for i in diccionario:\n",
    "    numero_nuevas = 0\n",
    "    for e in diccionario[i]:\n",
    "      if diccionario[i][e]:\n",
    "        numero_nuevas = numero_nuevas + 1\n",
    "    num_caracteristicas_cambiadas[i] = numero_nuevas\n",
    "  return num_caracteristicas_cambiadas\n",
    "\n",
    "def ordenar_diccionario(num_caracteristicas_cambiadas, diccionario):\n",
    "    \"\"\"\n",
    "    Esta funcion recibe el diccionario de numero de caracteristicas nuveas por animal y el diccionario con toda la\n",
    "    informacion de los animales, y devuelve este ultimo diccionario, ordenado de mayor a menor (en cuanto al numero de\n",
    "    caracteristicas nuevas)\n",
    "    \"\"\"\n",
    "  de_mas_a_menos_cambios = sorted(num_caracteristicas_cambiadas.items(), key = lambda x: x[1], reverse = True)\n",
    "    \"\"\"\n",
    "    Se usa la funcion sorted para ordenar el diccionario que tiene la informacion del numero de caracteristicas\n",
    "    cambiadas de mayor a menor caracteristicas cambiadas (para esto de usa reverse = True, o sino seria de menor a\n",
    "    mayor). Esto retorma una lista de tuplas de la forma [(especie , numero),...].\n",
    "    La funcion sorted fue sacada de: \n",
    "    https://www.analyticslane.com/2019/01/14/ordenacion-de-diccionarios-en-python-mediante-clave-o-valor/\n",
    "    \"\"\"\n",
    "  de_mas_a_menos_cambios\n",
    "  diccionario_en_orden = {}\n",
    "  for e in de_mas_a_menos_cambios:\n",
    "    \"\"\"\n",
    "    Aca se ordena el diccionario en base a la informacion entregada por la lista de tuplas que se obtuvo por sorted. \n",
    "    \"\"\"\n",
    "    for a in diccionario:\n",
    "      if e[0] == a:\n",
    "        diccionario_en_orden[a] = diccionario[a]\n",
    "  return diccionario_en_orden\n",
    "\n",
    "def ordenar_caracteristicas(caracteristicas, diccionario):\n",
    "    \"\"\"\n",
    "    Esta funcion recibe una lista con todas las caracteristicas y el diccionario con toda la informacion de los\n",
    "    animales, y retorna una lista de tuplas de la forma [(caracteristica, numero de especies),...], pero ordenada de \n",
    "    mayor a menor (en cuanto a cauntos animales las poseen).\n",
    "    \"\"\"\n",
    "  caracteristica_veces_T = {}\n",
    "  for c in caracteristicas:\n",
    "    veces_repetida_c = 0\n",
    "    for e in diccionario:\n",
    "      if diccionario[e][c]:\n",
    "        veces_repetida_c = veces_repetida_c + 1\n",
    "    caracteristica_veces_T[c] = veces_repetida_c\n",
    "    \"\"\"\n",
    "    Arriba se conto cuantas especies (e) tenian la caracteristica c\n",
    "    \"\"\"\n",
    "  de_mas_a_menos_repetidas = sorted(caracteristica_veces_T.items(), key = lambda x: x[1], reverse = True)\n",
    "    \"\"\"\n",
    "    Se usa la funcion sorted para ordenar el diccionario que tiene la informacion de cuantos animales tiene cada \n",
    "    caracteristica de mayor a menor cantidad de especies (para esto de usa reverse = True, o sino seria de menor a\n",
    "    mayor). Esto retorma una lista de tuplas de la forma [(especie , numero),...].\n",
    "    La funcion sorted fue sacada de: \n",
    "    https://www.analyticslane.com/2019/01/14/ordenacion-de-diccionarios-en-python-mediante-clave-o-valor/\n",
    "    \"\"\"\n",
    "  de_mas_a_menos_repetidas\n",
    "  lista_caracteristicas_ordenadas = []\n",
    "  for i in de_mas_a_menos_repetidas:\n",
    "    \"\"\"\n",
    "    Aca se ordena una lista de tuplas en base a la informacion entregada por la lista de tuplas que se obtuvo por \n",
    "    sorted. \n",
    "    \"\"\"\n",
    "    agregar = i[0]\n",
    "    lista_caracteristicas_ordenadas.append(agregar)\n",
    "  return lista_caracteristicas_ordenadas"
   ]
  },
  {
   "cell_type": "markdown",
   "id": "ac35a1f9",
   "metadata": {},
   "source": [
    "#### Clases"
   ]
  },
  {
   "cell_type": "code",
   "execution_count": null,
   "id": "d05e099b",
   "metadata": {},
   "outputs": [],
   "source": [
    "class Arbol:\n",
    "    \"\"\"\n",
    "    Este codigo fue sacado de Syllabus/Material de clases/Capítulo 1/Parte B/Notebooks Ejemplo/06 - Árboles.ipynb\n",
    "    \"\"\"\n",
    "    # Creamos la estructura básica del árbol. Los nodos hijos pueden ser guardados en alguna \n",
    "    # estructura como listas o diccionarios. Sin pérdidad de generalidad, en este ejemplo los\n",
    "    # nodos hijos serán guardados en un diccionario.\n",
    "    \n",
    "    def __init__(self, id_nodo, valor=None, id_padre=None):\n",
    "        self.id_nodo = id_nodo\n",
    "        self.id_padre = id_padre\n",
    "        self.valor = valor\n",
    "        self.hijos = {}       \n",
    "    \n",
    "    def agregar_nodo(self, id_nodo, valor=None, id_padre=None):\n",
    "        # Cada vez que agregamos un nodo verificamos primero si corresponde al nodo padre \n",
    "        # donde queremos agregar el nuevo nodo. Si no es el nodo, buscamos recursivamente \n",
    "        # a través de todos los nodos existentes hasta que encontremos el nodo correspondiente.\n",
    "        \n",
    "        if self.id_nodo == id_padre:\n",
    "            # Si el nodo es el nodo padre, entonces actualizamos el diccionario \n",
    "            # con los hijos\n",
    "            \n",
    "            self.hijos.update({id_nodo: Arbol(id_nodo, valor, id_padre)})\n",
    "            \n",
    "        else:\n",
    "            # Si no, recursivamente seguimos buscando en el árbol el nodo padre\n",
    "            \n",
    "            for hijo in self.hijos.values():\n",
    "                hijo.agregar_nodo(id_nodo, valor, id_padre)\n",
    "                \n",
    "    def obtener_nodo(self, id_nodo):\n",
    "        # recursivamente obtenemos el nodo siempre y cuando exista la posicion.\n",
    "        \n",
    "        if self.id_nodo == id_nodo:\n",
    "            return self\n",
    "        else:\n",
    "            for hijo in self.hijos.values():\n",
    "                nodo = hijo.obtener_nodo(id_nodo)\n",
    "                \n",
    "                if nodo:\n",
    "                    # retorna el nodo si es que existe en el árbol\n",
    "                    return nodo\n",
    "                             \n",
    "    def __repr__(self):\n",
    "        # Para visualizar el arbol redefinimos el método __repr__ para recorrer recursivamente\n",
    "        # todos los nodos del árbol.\n",
    "        \n",
    "        def recorrer_arbol(raiz):\n",
    "            for hijo in raiz.hijos.values():\n",
    "                self.ret += \"id-nodo: {} -> id_padre: {} -> valor: {}\\n\".format(hijo.id_nodo, hijo.id_padre, hijo.valor)\n",
    "                recorrer_arbol(hijo)\n",
    "                \n",
    "            return self\n",
    "\n",
    "        self.ret = 'RAIZ:\\nroot-id: {} -> valor: {}\\n\\nHIJOS:\\n'.format(self.id_nodo, self.valor)\n",
    "        recorrer_arbol(self)        \n",
    "        return self.ret\n",
    "\n",
    "\n",
    "\n",
    "class Nodo(metaclass = ABCMeta):\n",
    "    \n",
    "    def __init__(self, tipo, id_nodo, valor, id_padre):\n",
    "        self.tipo = tipo\n",
    "        self.valor = valor\n",
    "        self.id_nodo = id_nodo\n",
    "        self.id_padre = id_padre\n",
    "\n",
    "    @abstractmethod   \n",
    "    def __repr__(self) -> str:\n",
    "        \"\"\"\n",
    "        Este metodo debe ser sobreescrito en cada clase que lo herede. Nos dara una lista de la forma [id_nodo(1):\n",
    "        numero id_nodo , valor(1): valor nodo , id_padre(1): numero id_padre, id_nodo(2),,,]\n",
    "        \"\"\"\n",
    "       return f\"id_nodo:{self.id_nodo}, valor:{self.valor}, id_padre:{self.id_padre}\"\n",
    "\n",
    "\n",
    "\n",
    "class Caracteristica(Nodo):\n",
    "    def __init__(self, id_nodo, valor, id_padre = None):\n",
    "        Nodo.__init__(self, \"caracteristica\", id_nodo, valor, id_padre)\n",
    "\n",
    "    def __repr__(self) -> str:\n",
    "       return super().__repr__()\n",
    "\n",
    "\n",
    "class Especie(Nodo):\n",
    "    def __init__(self, id_nodo, valor, id_padre = None, caracteristicas ={}):\n",
    "        Nodo.__init__(self, \"especie\", id_nodo, valor, id_padre)\n",
    "        self.caracteristicas = caracteristicas\n",
    "      \n",
    "    def __repr__(self) -> str:\n",
    "       return super().__repr__()\n",
    "\n",
    "\n",
    "\n",
    "class Ancestro(Nodo):\n",
    "  def __init__(self, id_nodo = 0, valor = \"Ancestro Comun\", id_padre = 0):\n",
    "    Nodo.__init__(self, \"ancestro\", id_nodo, valor, id_padre)\n",
    "    \n",
    "  def __repr__(self) -> str:\n",
    "       return super().__repr__()"
   ]
  },
  {
   "cell_type": "markdown",
   "id": "707d8478",
   "metadata": {},
   "source": [
    "### Armar un árbol filogenético de los datos"
   ]
  },
  {
   "cell_type": "markdown",
   "id": "cb85350f",
   "metadata": {},
   "source": [
    "#### Funciones"
   ]
  },
  {
   "cell_type": "code",
   "execution_count": null,
   "id": "421c1763",
   "metadata": {},
   "outputs": [],
   "source": [
    "def generar_arbol(nodos_caracteristicas, nodos_especies, caracteristicas_ordenadas, info_especies_ordenado):\n",
    "    \"\"\"\n",
    "    Esta funcion le otroga los id_padre a las instancias de las clases.\n",
    "    Esta funcion recibe una lista de instancias de la clase Caracteristica, otra lista con instancias de la clase\n",
    "    Especie, otra lista con las caracteristicas ordenada de mayor a menor (en cuanto a la cantidad de especies que las\n",
    "    poseen), y un diccionario con la infomacion de todas las especies, ordenado de mayor a menos (en cuanto a la\n",
    "    cantidad de caracteristicas que poseen). Retorna dos listas una con instancias de la clase Caracteristica y otra\n",
    "    con instancias de la clase Especie.\n",
    "    \"\"\"\n",
    "  for c in caracteristicas_ordenadas:\n",
    "    for e in info_especies_ordenado:\n",
    "      if info_especies_ordenado[e][c]:\n",
    "        \"\"\"\n",
    "        Se revisa que la especie tenga esa caracteristica\n",
    "        \"\"\"\n",
    "        for ne in nodos_especies:\n",
    "          if ne.valor == e:\n",
    "            \"\"\"\n",
    "            Se revisa que sea la especie con la que empezamos\n",
    "            \"\"\"\n",
    "            for nc in nodos_caracteristicas:\n",
    "              if nc.valor == c:\n",
    "                \"\"\"\n",
    "                Se revisa que sea la caracteristica con la que empezamos, si es, el nodo padre de la especie es el \n",
    "                nodo de la caracteristica.\n",
    "                \"\"\"\n",
    "                if ne.id_padre != 0:\n",
    "                    \"\"\"\n",
    "                    Si la especie tiene mas de una caracteristica el nodo padre de la nueva caracteristica es el nodo\n",
    "                    de la caracteristica anterios (por eto tenian que estar en orden de mayor a menor).\n",
    "                    \"\"\"\n",
    "                  nc.id_padre = ne.id_padre\n",
    "                ne.id_padre = nc.id_nodo\n",
    "  for nc in nodos_caracteristicas:\n",
    "    \"\"\"\n",
    "    Si alguna caracteristica sigue sin tener nodo padre, su nodo padre es el ancestro comun, que siempre tiene id_nodo\n",
    "    = 0.\n",
    "    \"\"\"\n",
    "    if nc.id_padre == None:\n",
    "      nc.id_padre = 0\n",
    "  for ne in nodos_especies:\n",
    "    \"\"\"\n",
    "    Si alguna especie sigue sin tener nodo padre, su nodo padre es el ancestro comun, que siempre tiene id_nodo = 0\n",
    "    \"\"\"\n",
    "    if ne.id_padre == None:\n",
    "      ne.id_padre = 0\n",
    "  return nodos_especies , nodos_caracteristicas"
   ]
  },
  {
   "cell_type": "markdown",
   "id": "fd5641ff",
   "metadata": {},
   "source": [
    "#### Correr Codigos"
   ]
  },
  {
   "cell_type": "markdown",
   "id": "c5e66c87",
   "metadata": {},
   "source": [
    "Una vez que ya se tiene el archivo, se podran correr las funciones"
   ]
  },
  {
   "cell_type": "code",
   "execution_count": null,
   "id": "be0faac8",
   "metadata": {},
   "outputs": [],
   "source": [
    "info_especies = obtener_info_especies(archivo)"
   ]
  },
  {
   "cell_type": "markdown",
   "id": "a691eace",
   "metadata": {},
   "source": [
    "Se quiere ordenar toda la informacion que se tenga de mas caracteristicas a menos caracteristicas, en el caso de las especies, y, de mas animales a menos animales, en el caso de las caracteristicas."
   ]
  },
  {
   "cell_type": "code",
   "execution_count": null,
   "id": "b870c70a",
   "metadata": {},
   "outputs": [],
   "source": [
    "caracteristicas = get_caracteristicas(archivo)\n",
    "\n",
    "caracteristicas_ordenadas = ordenar_caracteristicas(caracteristicas, info_especies)\n",
    "\n",
    "caracteristicas_cambiadas = get_num_caracteriscticas_cambiadas(info_especies)\n",
    "\n",
    "info_especies_ordenado = ordenar_diccionario(caracteristicas_cambiadas, info_especies)"
   ]
  },
  {
   "cell_type": "code",
   "execution_count": null,
   "id": "f2dceb0b",
   "metadata": {},
   "outputs": [],
   "source": [
    "nodos_caracteristicas = []\n",
    "\"\"\"\n",
    "Se crea una lista con instancias de la clase Caracteristica\n",
    "\"\"\"\n",
    "for idx,c in enumerate(caracteristicas_ordenadas):\n",
    "  nodo = Caracteristica(id_nodo = idx + 1 , valor = c)\n",
    "  nodos_caracteristicas.append(nodo)"
   ]
  },
  {
   "cell_type": "code",
   "execution_count": null,
   "id": "26a7948b",
   "metadata": {},
   "outputs": [],
   "source": [
    "nodos_especies = []\n",
    "\"\"\"\n",
    "Se crea una lista con instancias de la clas Especie\n",
    "\"\"\"\n",
    "for idx,key in enumerate(info_especies_ordenado):\n",
    "  nombre_especie = key\n",
    "  caracteristica = info_especies_ordenado[key]\n",
    "  nodo = Especie(id_nodo = idx + len(nodos_caracteristicas) + 1 , valor = nombre_especie, caracteristicas = caracteristica)\n",
    "  nodos_especies.append(nodo)"
   ]
  },
  {
   "cell_type": "code",
   "execution_count": null,
   "id": "33f5a017",
   "metadata": {},
   "outputs": [],
   "source": [
    "relaciones_arbol = generar_arbol(nodos_caracteristicas, nodos_especies, caracteristicas_ordenadas, info_especies_ordenado)"
   ]
  },
  {
   "cell_type": "code",
   "execution_count": null,
   "id": "da70bdee",
   "metadata": {},
   "outputs": [],
   "source": [
    "T = Arbol(0, \"Ancestro Comun\")\n",
    "for n in nodos_caracteristicas:\n",
    "  T.agregar_nodo(n.id_nodo , n.valor, n.id_padre)\n",
    "for n in nodos_especies:\n",
    "  T.agregar_nodo(n.id_nodo , n.valor, n.id_padre)"
   ]
  },
  {
   "cell_type": "markdown",
   "id": "3f63b00d",
   "metadata": {},
   "source": [
    "### Lista de consultas"
   ]
  },
  {
   "cell_type": "markdown",
   "id": "e75b9708",
   "metadata": {},
   "source": [
    "#### Funciones"
   ]
  },
  {
   "cell_type": "code",
   "execution_count": null,
   "id": "e982d218",
   "metadata": {},
   "outputs": [],
   "source": [
    "def buscar_rama_evolutiva (especie_buscada, nodos_especies, nodos_caracteristicas):\n",
    "    \"\"\"\n",
    "    Esta funcion recibe la especie buscada, la lista con instancias de la clase especie y la lista con instancias de \n",
    "    la clase caracteristicas y retorna una lista de clases especie y caracteristicas con la rama evolutiva de la \n",
    "    especie buscada\n",
    "    \"\"\"\n",
    "    rama_evolutiva = []\n",
    "    for e in nodos_especies:\n",
    "        if e.valor == especie_buscada:\n",
    "          id_buscado = e.id_padre \n",
    "          rama_evolutiva.append(e)\n",
    "    padre_es_raiz = False\n",
    "    while not padre_es_raiz:\n",
    "        for e in nodos_caracteristicas:\n",
    "            if e.id_nodo == id_buscado:\n",
    "                nuevo_padre = [e]\n",
    "                id_buscado = e.id_padre\n",
    "                for r in rama_evolutiva:\n",
    "                    nuevo_padre.append(r)\n",
    "                rama_evolutiva = nuevo_padre\n",
    "                if id_buscado == 0:\n",
    "                    padre_es_raiz = True\n",
    "    nuevo_padre = [e]\n",
    "    id_buscado = e.id_padre\n",
    "    for r in rama_evolutiva:\n",
    "        nuevo_padre.append(r)\n",
    "    rama_evolutiva = nuevo_padre\n",
    "    if id_buscado == 0:\n",
    "        padre_es_raiz = True\n",
    "    return rama_evolutiva"
   ]
  },
  {
   "cell_type": "markdown",
   "id": "467f14e1",
   "metadata": {},
   "source": [
    "Ahora, se corre la funcion buscar_rama_evolutiva para encontrar la rama de la especie buscada"
   ]
  },
  {
   "cell_type": "code",
   "execution_count": null,
   "id": "289a72d7",
   "metadata": {},
   "outputs": [],
   "source": [
    "rama_evolutiva = buscar_rama_evolutiva (especie_buscada, nodos_especies, nodos_caracteristicas)"
   ]
  },
  {
   "cell_type": "markdown",
   "id": "9e5d4baa",
   "metadata": {},
   "source": [
    "Con la misma funcion que se uso para hacer el arbol se imprime a rama evolutiva"
   ]
  },
  {
   "cell_type": "code",
   "execution_count": null,
   "id": "05ffebb3",
   "metadata": {},
   "outputs": [],
   "source": [
    "T_rama_evolutiva = Arbol(0, \"Ancestro Comun\")\n",
    "for n in rama_evolutiva:\n",
    "  T_rama_evolutiva.agregar_nodo(n.id_nodo , n.valor, n.id_padre)\n",
    "print(T_rama_avolutiva)"
   ]
  },
  {
   "cell_type": "code",
   "execution_count": null,
   "id": "cc216eab",
   "metadata": {},
   "outputs": [],
   "source": []
  }
 ],
 "metadata": {
  "kernelspec": {
   "display_name": "Python 3 (ipykernel)",
   "language": "python",
   "name": "python3"
  },
  "language_info": {
   "codemirror_mode": {
    "name": "ipython",
    "version": 3
   },
   "file_extension": ".py",
   "mimetype": "text/x-python",
   "name": "python",
   "nbconvert_exporter": "python",
   "pygments_lexer": "ipython3",
   "version": "3.10.6"
  }
 },
 "nbformat": 4,
 "nbformat_minor": 5
}
