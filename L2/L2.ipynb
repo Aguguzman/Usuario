{
 "cells": [
  {
   "cell_type": "markdown",
   "metadata": {},
   "source": [
    "# Laboratorio 2\n",
    "#### Agustina Guzmán"
   ]
  },
  {
   "cell_type": "markdown",
   "metadata": {},
   "source": [
    "### 3.1 Carga y exploración de datos"
   ]
  },
  {
   "cell_type": "markdown",
   "metadata": {},
   "source": [
    "Se necesitaran las siguientes librerias y funciones"
   ]
  },
  {
   "cell_type": "code",
   "execution_count": 307,
   "metadata": {},
   "outputs": [
    {
     "name": "stdout",
     "output_type": "stream",
     "text": [
      "Requirement already satisfied: pandas in /Library/Frameworks/Python.framework/Versions/3.10/lib/python3.10/site-packages (1.5.0)\n",
      "Requirement already satisfied: pytz>=2020.1 in /Library/Frameworks/Python.framework/Versions/3.10/lib/python3.10/site-packages (from pandas) (2022.4)\n",
      "Requirement already satisfied: numpy>=1.21.0 in /Library/Frameworks/Python.framework/Versions/3.10/lib/python3.10/site-packages (from pandas) (1.23.3)\n",
      "Requirement already satisfied: python-dateutil>=2.8.1 in /Library/Frameworks/Python.framework/Versions/3.10/lib/python3.10/site-packages (from pandas) (2.8.2)\n",
      "Requirement already satisfied: six>=1.5 in /Library/Frameworks/Python.framework/Versions/3.10/lib/python3.10/site-packages (from python-dateutil>=2.8.1->pandas) (1.16.0)\n",
      "\n",
      "\u001b[1m[\u001b[0m\u001b[34;49mnotice\u001b[0m\u001b[1;39;49m]\u001b[0m\u001b[39;49m A new release of pip available: \u001b[0m\u001b[31;49m22.2.1\u001b[0m\u001b[39;49m -> \u001b[0m\u001b[32;49m22.2.2\u001b[0m\n",
      "\u001b[1m[\u001b[0m\u001b[34;49mnotice\u001b[0m\u001b[1;39;49m]\u001b[0m\u001b[39;49m To update, run: \u001b[0m\u001b[32;49mpip3 install --upgrade pip\u001b[0m\n",
      "Requirement already satisfied: matplotlib in /Library/Frameworks/Python.framework/Versions/3.10/lib/python3.10/site-packages (3.6.0)\n",
      "Requirement already satisfied: kiwisolver>=1.0.1 in /Library/Frameworks/Python.framework/Versions/3.10/lib/python3.10/site-packages (from matplotlib) (1.4.4)\n",
      "Requirement already satisfied: cycler>=0.10 in /Library/Frameworks/Python.framework/Versions/3.10/lib/python3.10/site-packages (from matplotlib) (0.11.0)\n",
      "Requirement already satisfied: contourpy>=1.0.1 in /Library/Frameworks/Python.framework/Versions/3.10/lib/python3.10/site-packages (from matplotlib) (1.0.5)\n",
      "Requirement already satisfied: fonttools>=4.22.0 in /Library/Frameworks/Python.framework/Versions/3.10/lib/python3.10/site-packages (from matplotlib) (4.37.4)\n",
      "Requirement already satisfied: python-dateutil>=2.7 in /Library/Frameworks/Python.framework/Versions/3.10/lib/python3.10/site-packages (from matplotlib) (2.8.2)\n",
      "Requirement already satisfied: packaging>=20.0 in /Library/Frameworks/Python.framework/Versions/3.10/lib/python3.10/site-packages (from matplotlib) (21.3)\n",
      "Requirement already satisfied: numpy>=1.19 in /Library/Frameworks/Python.framework/Versions/3.10/lib/python3.10/site-packages (from matplotlib) (1.23.3)\n",
      "Requirement already satisfied: pyparsing>=2.2.1 in /Library/Frameworks/Python.framework/Versions/3.10/lib/python3.10/site-packages (from matplotlib) (3.0.9)\n",
      "Requirement already satisfied: pillow>=6.2.0 in /Library/Frameworks/Python.framework/Versions/3.10/lib/python3.10/site-packages (from matplotlib) (9.2.0)\n",
      "Requirement already satisfied: six>=1.5 in /Library/Frameworks/Python.framework/Versions/3.10/lib/python3.10/site-packages (from python-dateutil>=2.7->matplotlib) (1.16.0)\n",
      "\n",
      "\u001b[1m[\u001b[0m\u001b[34;49mnotice\u001b[0m\u001b[1;39;49m]\u001b[0m\u001b[39;49m A new release of pip available: \u001b[0m\u001b[31;49m22.2.1\u001b[0m\u001b[39;49m -> \u001b[0m\u001b[32;49m22.2.2\u001b[0m\n",
      "\u001b[1m[\u001b[0m\u001b[34;49mnotice\u001b[0m\u001b[1;39;49m]\u001b[0m\u001b[39;49m To update, run: \u001b[0m\u001b[32;49mpip3 install --upgrade pip\u001b[0m\n"
     ]
    }
   ],
   "source": [
    "!pip3 install pandas # Se instala la libreria pandas\n",
    "!pip3 install matplotlib #Se instala la libreria matplotlib"
   ]
  },
  {
   "cell_type": "code",
   "execution_count": 308,
   "metadata": {
    "scrolled": true
   },
   "outputs": [],
   "source": [
    "import pandas as pd #Importacion de la libreria pandas\n",
    "import numpy as np #Importacion de la libreria NumPy\n",
    "import matplotlib as mpl #Importacion de la libreria matplotlib\n",
    "import matplotlib.pyplot as plt #Importacion de la coleccion de funciones matplotlib.pyplot\n",
    "from IPython.display import display #Importacion de display de IPython.display. Sirve para mostrar más de un elemento por celda de Jupyter"
   ]
  },
  {
   "cell_type": "markdown",
   "metadata": {
    "id": "ZOte-N0QZzbk"
   },
   "source": [
    "**Store**"
   ]
  },
  {
   "cell_type": "code",
   "execution_count": 309,
   "metadata": {
    "colab": {
     "base_uri": "https://localhost:8080/",
     "height": 363
    },
    "id": "AIs3ErF9Q6Ma",
    "outputId": "cff2e95a-45b9-4e88-8557-0a34e2761f15"
   },
   "outputs": [
    {
     "data": {
      "text/html": [
       "<div>\n",
       "<style scoped>\n",
       "    .dataframe tbody tr th:only-of-type {\n",
       "        vertical-align: middle;\n",
       "    }\n",
       "\n",
       "    .dataframe tbody tr th {\n",
       "        vertical-align: top;\n",
       "    }\n",
       "\n",
       "    .dataframe thead th {\n",
       "        text-align: right;\n",
       "    }\n",
       "</style>\n",
       "<table border=\"1\" class=\"dataframe\">\n",
       "  <thead>\n",
       "    <tr style=\"text-align: right;\">\n",
       "      <th></th>\n",
       "      <th>Store</th>\n",
       "      <th>StoreType</th>\n",
       "      <th>Assortment</th>\n",
       "      <th>CompetitionDistance</th>\n",
       "      <th>Promo2</th>\n",
       "    </tr>\n",
       "  </thead>\n",
       "  <tbody>\n",
       "    <tr>\n",
       "      <th>0</th>\n",
       "      <td>1</td>\n",
       "      <td>c</td>\n",
       "      <td>a</td>\n",
       "      <td>1270.0</td>\n",
       "      <td>0</td>\n",
       "    </tr>\n",
       "    <tr>\n",
       "      <th>1</th>\n",
       "      <td>2</td>\n",
       "      <td>a</td>\n",
       "      <td>a</td>\n",
       "      <td>570.0</td>\n",
       "      <td>1</td>\n",
       "    </tr>\n",
       "    <tr>\n",
       "      <th>2</th>\n",
       "      <td>3</td>\n",
       "      <td>a</td>\n",
       "      <td>a</td>\n",
       "      <td>14130.0</td>\n",
       "      <td>1</td>\n",
       "    </tr>\n",
       "    <tr>\n",
       "      <th>3</th>\n",
       "      <td>4</td>\n",
       "      <td>c</td>\n",
       "      <td>c</td>\n",
       "      <td>620.0</td>\n",
       "      <td>0</td>\n",
       "    </tr>\n",
       "    <tr>\n",
       "      <th>4</th>\n",
       "      <td>5</td>\n",
       "      <td>a</td>\n",
       "      <td>a</td>\n",
       "      <td>29910.0</td>\n",
       "      <td>0</td>\n",
       "    </tr>\n",
       "    <tr>\n",
       "      <th>5</th>\n",
       "      <td>6</td>\n",
       "      <td>a</td>\n",
       "      <td>a</td>\n",
       "      <td>310.0</td>\n",
       "      <td>0</td>\n",
       "    </tr>\n",
       "    <tr>\n",
       "      <th>6</th>\n",
       "      <td>7</td>\n",
       "      <td>a</td>\n",
       "      <td>c</td>\n",
       "      <td>24000.0</td>\n",
       "      <td>0</td>\n",
       "    </tr>\n",
       "    <tr>\n",
       "      <th>7</th>\n",
       "      <td>8</td>\n",
       "      <td>a</td>\n",
       "      <td>a</td>\n",
       "      <td>7520.0</td>\n",
       "      <td>0</td>\n",
       "    </tr>\n",
       "    <tr>\n",
       "      <th>8</th>\n",
       "      <td>9</td>\n",
       "      <td>a</td>\n",
       "      <td>c</td>\n",
       "      <td>2030.0</td>\n",
       "      <td>0</td>\n",
       "    </tr>\n",
       "    <tr>\n",
       "      <th>9</th>\n",
       "      <td>10</td>\n",
       "      <td>a</td>\n",
       "      <td>a</td>\n",
       "      <td>3160.0</td>\n",
       "      <td>0</td>\n",
       "    </tr>\n",
       "  </tbody>\n",
       "</table>\n",
       "</div>"
      ],
      "text/plain": [
       "   Store StoreType Assortment  CompetitionDistance  Promo2\n",
       "0      1         c          a               1270.0       0\n",
       "1      2         a          a                570.0       1\n",
       "2      3         a          a              14130.0       1\n",
       "3      4         c          c                620.0       0\n",
       "4      5         a          a              29910.0       0\n",
       "5      6         a          a                310.0       0\n",
       "6      7         a          c              24000.0       0\n",
       "7      8         a          a               7520.0       0\n",
       "8      9         a          c               2030.0       0\n",
       "9     10         a          a               3160.0       0"
      ]
     },
     "metadata": {},
     "output_type": "display_data"
    }
   ],
   "source": [
    "df_store = pd.read_csv(\"store_data.csv\", index_col=0)\n",
    "display(df_store.head(10))"
   ]
  },
  {
   "cell_type": "code",
   "execution_count": 310,
   "metadata": {
    "colab": {
     "base_uri": "https://localhost:8080/"
    },
    "id": "Jk39Vg2uUZFj",
    "outputId": "203fe223-a6db-42a1-8108-20c71648aa2a"
   },
   "outputs": [
    {
     "data": {
      "text/plain": [
       "Store                    int64\n",
       "StoreType               object\n",
       "Assortment              object\n",
       "CompetitionDistance    float64\n",
       "Promo2                   int64\n",
       "dtype: object"
      ]
     },
     "execution_count": 310,
     "metadata": {},
     "output_type": "execute_result"
    }
   ],
   "source": [
    "df_store.dtypes"
   ]
  },
  {
   "cell_type": "markdown",
   "metadata": {
    "id": "CmNtLEn42FF3"
   },
   "source": [
    "dtypes nos entrega el tipo de dato de cada columna. En este caso, Store y Promo 2 son numeros enteros, CompetitionDistance numeros reales y StoreType y Assortment objetos.\n",
    "Funcion de \n",
    "https://aprendeia.com/explorando-los-datos-con-python/"
   ]
  },
  {
   "cell_type": "code",
   "execution_count": 311,
   "metadata": {
    "colab": {
     "base_uri": "https://localhost:8080/",
     "height": 300
    },
    "id": "HRoGE6vCTGq1",
    "outputId": "390a9335-ab02-4ef7-c4de-d046da520645"
   },
   "outputs": [
    {
     "data": {
      "text/html": [
       "<div>\n",
       "<style scoped>\n",
       "    .dataframe tbody tr th:only-of-type {\n",
       "        vertical-align: middle;\n",
       "    }\n",
       "\n",
       "    .dataframe tbody tr th {\n",
       "        vertical-align: top;\n",
       "    }\n",
       "\n",
       "    .dataframe thead th {\n",
       "        text-align: right;\n",
       "    }\n",
       "</style>\n",
       "<table border=\"1\" class=\"dataframe\">\n",
       "  <thead>\n",
       "    <tr style=\"text-align: right;\">\n",
       "      <th></th>\n",
       "      <th>Store</th>\n",
       "      <th>CompetitionDistance</th>\n",
       "      <th>Promo2</th>\n",
       "    </tr>\n",
       "  </thead>\n",
       "  <tbody>\n",
       "    <tr>\n",
       "      <th>count</th>\n",
       "      <td>1115.00000</td>\n",
       "      <td>1112.000000</td>\n",
       "      <td>1115.000000</td>\n",
       "    </tr>\n",
       "    <tr>\n",
       "      <th>mean</th>\n",
       "      <td>558.00000</td>\n",
       "      <td>5404.901079</td>\n",
       "      <td>0.512108</td>\n",
       "    </tr>\n",
       "    <tr>\n",
       "      <th>std</th>\n",
       "      <td>322.01708</td>\n",
       "      <td>7663.174720</td>\n",
       "      <td>0.500078</td>\n",
       "    </tr>\n",
       "    <tr>\n",
       "      <th>min</th>\n",
       "      <td>1.00000</td>\n",
       "      <td>20.000000</td>\n",
       "      <td>0.000000</td>\n",
       "    </tr>\n",
       "    <tr>\n",
       "      <th>25%</th>\n",
       "      <td>279.50000</td>\n",
       "      <td>717.500000</td>\n",
       "      <td>0.000000</td>\n",
       "    </tr>\n",
       "    <tr>\n",
       "      <th>50%</th>\n",
       "      <td>558.00000</td>\n",
       "      <td>2325.000000</td>\n",
       "      <td>1.000000</td>\n",
       "    </tr>\n",
       "    <tr>\n",
       "      <th>75%</th>\n",
       "      <td>836.50000</td>\n",
       "      <td>6882.500000</td>\n",
       "      <td>1.000000</td>\n",
       "    </tr>\n",
       "    <tr>\n",
       "      <th>max</th>\n",
       "      <td>1115.00000</td>\n",
       "      <td>75860.000000</td>\n",
       "      <td>1.000000</td>\n",
       "    </tr>\n",
       "  </tbody>\n",
       "</table>\n",
       "</div>"
      ],
      "text/plain": [
       "            Store  CompetitionDistance       Promo2\n",
       "count  1115.00000          1112.000000  1115.000000\n",
       "mean    558.00000          5404.901079     0.512108\n",
       "std     322.01708          7663.174720     0.500078\n",
       "min       1.00000            20.000000     0.000000\n",
       "25%     279.50000           717.500000     0.000000\n",
       "50%     558.00000          2325.000000     1.000000\n",
       "75%     836.50000          6882.500000     1.000000\n",
       "max    1115.00000         75860.000000     1.000000"
      ]
     },
     "execution_count": 311,
     "metadata": {},
     "output_type": "execute_result"
    }
   ],
   "source": [
    "df_store.describe()"
   ]
  },
  {
   "cell_type": "markdown",
   "metadata": {
    "id": "7mRjw-j7_85x"
   },
   "source": [
    "CompetitionDistance: El minimo y el maximo son 20 y 758960, respectivamente, mientras que el 75% de los datos estan entre 717.5 y 6882.5, por lo tanto la distribucion de estos datos es muy dispersa, y se esperan valores muy por fuera del rango intercuartil."
   ]
  },
  {
   "cell_type": "code",
   "execution_count": 312,
   "metadata": {
    "colab": {
     "base_uri": "https://localhost:8080/"
    },
    "id": "lBX3zLeD2Wy3",
    "outputId": "c585dec2-4b13-42bb-d7cc-1cd44f344ea3"
   },
   "outputs": [
    {
     "data": {
      "text/plain": [
       "a    602\n",
       "d    348\n",
       "c    148\n",
       "b     17\n",
       "Name: StoreType, dtype: int64"
      ]
     },
     "execution_count": 312,
     "metadata": {},
     "output_type": "execute_result"
    }
   ],
   "source": [
    "store_type = df_store[\"StoreType\"]\n",
    "store_type.value_counts()"
   ]
  },
  {
   "cell_type": "markdown",
   "metadata": {
    "id": "jlHjys_8BHtN"
   },
   "source": [
    "La mayoria de las tiendas son de tipo \"a\", y la minoria de tipo \"b\""
   ]
  },
  {
   "cell_type": "code",
   "execution_count": 313,
   "metadata": {
    "colab": {
     "base_uri": "https://localhost:8080/"
    },
    "id": "q4YelEBf5c4B",
    "outputId": "9d26f17c-f27e-4f17-a3cd-8fc335544662"
   },
   "outputs": [
    {
     "data": {
      "text/plain": [
       "a    593\n",
       "c    513\n",
       "b      9\n",
       "Name: Assortment, dtype: int64"
      ]
     },
     "execution_count": 313,
     "metadata": {},
     "output_type": "execute_result"
    }
   ],
   "source": [
    "assortment = df_store[\"Assortment\"]\n",
    "assortment.value_counts()"
   ]
  },
  {
   "cell_type": "markdown",
   "metadata": {
    "id": "cv38a6YRBcPF"
   },
   "source": [
    "Las cantidades de tiendas con variedad de productos \"a\" y \"c\" son similares, mucho mayores que la cantidad de tiendas con variedad de productos \"b\""
   ]
  },
  {
   "cell_type": "code",
   "execution_count": 314,
   "metadata": {
    "colab": {
     "base_uri": "https://localhost:8080/"
    },
    "id": "nzbEkMac5dRW",
    "outputId": "fe43d198-913f-4cbb-f1aa-a7f700792e2f"
   },
   "outputs": [
    {
     "data": {
      "text/plain": [
       "1    571\n",
       "0    544\n",
       "Name: Promo2, dtype: int64"
      ]
     },
     "execution_count": 314,
     "metadata": {},
     "output_type": "execute_result"
    }
   ],
   "source": [
    "promo = df_store[\"Promo2\"]\n",
    "promo.value_counts()"
   ]
  },
  {
   "cell_type": "markdown",
   "metadata": {
    "id": "Mlo_KTYdBy-a"
   },
   "source": [
    "Hay una cantidad similar de tiendas con y sin promocion"
   ]
  },
  {
   "cell_type": "code",
   "execution_count": 315,
   "metadata": {
    "colab": {
     "base_uri": "https://localhost:8080/",
     "height": 513
    },
    "id": "3kZFG9mI75Vq",
    "outputId": "dc2689cb-5581-4c77-c834-b136581bcee9"
   },
   "outputs": [
    {
     "data": {
      "image/png": "[encoded data removed]",
      "text/plain": [
       "<Figure size 432x288 with 1 Axes>"
      ]
     },
     "metadata": {
      "needs_background": "light"
     },
     "output_type": "display_data"
    },
    {
     "data": {
      "image/png": "[encoded data removed]",
      "text/plain": [
       "<Figure size 432x288 with 1 Axes>"
      ]
     },
     "metadata": {
      "needs_background": "light"
     },
     "output_type": "display_data"
    }
   ],
   "source": [
    "df_store[\"CompetitionDistance\"].hist(bins=60)\n",
    "plt.show()\n",
    "df_store.boxplot(column = \"CompetitionDistance\")\n",
    "plt.show()"
   ]
  },
  {
   "cell_type": "markdown",
   "metadata": {
    "id": "C5sV7FSaPkyp"
   },
   "source": [
    "En el primer grafico que corresponde a un histograma se puede observar la presencia de algunos valores extremos, lo que se ve mas claro en el segundo grafico, un box plot. "
   ]
  },
  {
   "cell_type": "markdown",
   "metadata": {
    "id": "t8DHAX4VQKTw"
   },
   "source": [
    "Para analizar sin hay alguna relacion entre los valores extremos y alguna caracteristica, se haran tres box plots diferentes."
   ]
  },
  {
   "cell_type": "code",
   "execution_count": 316,
   "metadata": {
    "colab": {
     "base_uri": "https://localhost:8080/",
     "height": 356
    },
    "id": "7DmK1ZTP75zU",
    "outputId": "6ee03b53-e325-45c2-f51e-e7279e86e06c"
   },
   "outputs": [
    {
     "data": {
      "image/png": "[encoded data removed]",
      "text/plain": [
       "<Figure size 432x288 with 1 Axes>"
      ]
     },
     "metadata": {
      "needs_background": "light"
     },
     "output_type": "display_data"
    }
   ],
   "source": [
    "df_store.boxplot(column= \"CompetitionDistance\", by = \"StoreType\")\n",
    "plt.show()"
   ]
  },
  {
   "cell_type": "markdown",
   "metadata": {
    "id": "QzcHFC2BQ7J7"
   },
   "source": [
    "En este grafico se puede observar que los valores que mas se alejan de los demas datos correspondes al tipo de tienda \"a\""
   ]
  },
  {
   "cell_type": "code",
   "execution_count": 317,
   "metadata": {
    "colab": {
     "base_uri": "https://localhost:8080/"
    },
    "id": "Vx1AiE2laO9s",
    "outputId": "30dc59d7-7f03-47f5-81bd-c6b5669f6d00"
   },
   "outputs": [
    {
     "data": {
      "text/plain": [
       "StoreType\n",
       "a    5123.061564\n",
       "b    1060.588235\n",
       "c    3522.567568\n",
       "d    6913.063584\n",
       "Name: CompetitionDistance, dtype: float64"
      ]
     },
     "execution_count": 317,
     "metadata": {},
     "output_type": "execute_result"
    }
   ],
   "source": [
    "media_por_tipo = df_store.groupby(\"StoreType\")[\"CompetitionDistance\"].mean()\n",
    "media_por_tipo"
   ]
  },
  {
   "cell_type": "code",
   "execution_count": 318,
   "metadata": {
    "colab": {
     "base_uri": "https://localhost:8080/"
    },
    "id": "D5de0D6GeilX",
    "outputId": "ef3e1bfa-1da1-4c2d-db47-eea5d0d46493"
   },
   "outputs": [
    {
     "data": {
      "text/plain": [
       "StoreType\n",
       "a    601\n",
       "b     17\n",
       "c    148\n",
       "d    346\n",
       "Name: CompetitionDistance, dtype: int64"
      ]
     },
     "execution_count": 318,
     "metadata": {},
     "output_type": "execute_result"
    }
   ],
   "source": [
    "cantidad_por_tipo = df_store.groupby(\"StoreType\")[\"CompetitionDistance\"].count()\n",
    "cantidad_por_tipo"
   ]
  },
  {
   "cell_type": "code",
   "execution_count": 319,
   "metadata": {
    "colab": {
     "base_uri": "https://localhost:8080/",
     "height": 356
    },
    "id": "nb0wS3V-759O",
    "outputId": "f472d9bc-6b2e-4992-fd19-f5f29af36387"
   },
   "outputs": [
    {
     "data": {
      "image/png": "[encoded data removed]",
      "text/plain": [
       "<Figure size 432x288 with 1 Axes>"
      ]
     },
     "metadata": {
      "needs_background": "light"
     },
     "output_type": "display_data"
    }
   ],
   "source": [
    "df_store.boxplot(column= \"CompetitionDistance\", by = \"Assortment\")\n",
    "plt.show()"
   ]
  },
  {
   "cell_type": "markdown",
   "metadata": {
    "id": "o1OZF6wJRZnX"
   },
   "source": [
    "En este grafico se puede observar que los valores que mas se alejan de los demas datos correspondes a la variedad de producto \"c\""
   ]
  },
  {
   "cell_type": "code",
   "execution_count": 320,
   "metadata": {
    "colab": {
     "base_uri": "https://localhost:8080/"
    },
    "id": "dUc0ZdEEd7b1",
    "outputId": "dec16990-bd1a-4141-d994-ba8adb018540"
   },
   "outputs": [
    {
     "data": {
      "text/plain": [
       "Assortment\n",
       "a    4400.338409\n",
       "b    1177.777778\n",
       "c    6638.769531\n",
       "Name: CompetitionDistance, dtype: float64"
      ]
     },
     "execution_count": 320,
     "metadata": {},
     "output_type": "execute_result"
    }
   ],
   "source": [
    "media_por_variedad = df_store.groupby(\"Assortment\")[\"CompetitionDistance\"].mean()\n",
    "media_por_variedad"
   ]
  },
  {
   "cell_type": "code",
   "execution_count": 321,
   "metadata": {
    "colab": {
     "base_uri": "https://localhost:8080/"
    },
    "id": "0x7mw9mJemoo",
    "outputId": "32f12b0e-87a5-4cf5-ef15-29e3d53d2c8a"
   },
   "outputs": [
    {
     "data": {
      "text/plain": [
       "Assortment\n",
       "a    591\n",
       "b      9\n",
       "c    512\n",
       "Name: CompetitionDistance, dtype: int64"
      ]
     },
     "execution_count": 321,
     "metadata": {},
     "output_type": "execute_result"
    }
   ],
   "source": [
    "cantidad_por_variedad = df_store.groupby(\"Assortment\")[\"CompetitionDistance\"].count()\n",
    "cantidad_por_variedad"
   ]
  },
  {
   "cell_type": "code",
   "execution_count": 322,
   "metadata": {
    "colab": {
     "base_uri": "https://localhost:8080/",
     "height": 356
    },
    "id": "Dz-q-d90-JWo",
    "outputId": "56a8a887-2389-4a95-9db6-1b5ce1f97850"
   },
   "outputs": [
    {
     "data": {
      "image/png": "[encoded data removed]",
      "text/plain": [
       "<Figure size 432x288 with 1 Axes>"
      ]
     },
     "metadata": {
      "needs_background": "light"
     },
     "output_type": "display_data"
    }
   ],
   "source": [
    "df_store.boxplot(column= \"CompetitionDistance\", by = \"Promo2\")\n",
    "plt.show()"
   ]
  },
  {
   "cell_type": "markdown",
   "metadata": {
    "id": "3Pur9jfSRwY6"
   },
   "source": [
    "En este grafico se puede observar que los valores que mas se alejan de los demas datos correspondes a las tiendas que no tienen promocion"
   ]
  },
  {
   "cell_type": "code",
   "execution_count": 323,
   "metadata": {
    "colab": {
     "base_uri": "https://localhost:8080/"
    },
    "id": "iP-Op2IteJ-l",
    "outputId": "32f18738-a59c-4122-b8c7-42a12305639d"
   },
   "outputs": [
    {
     "data": {
      "text/plain": [
       "Promo2\n",
       "0    6549.520295\n",
       "1    4316.508772\n",
       "Name: CompetitionDistance, dtype: float64"
      ]
     },
     "execution_count": 323,
     "metadata": {},
     "output_type": "execute_result"
    }
   ],
   "source": [
    "media_por_promo = df_store.groupby(\"Promo2\")[\"CompetitionDistance\"].mean()\n",
    "media_por_promo"
   ]
  },
  {
   "cell_type": "code",
   "execution_count": 324,
   "metadata": {
    "colab": {
     "base_uri": "https://localhost:8080/"
    },
    "id": "IULVT8Axe11A",
    "outputId": "a4d07bc0-434b-4464-8bb7-deaa19b07df1"
   },
   "outputs": [
    {
     "data": {
      "text/plain": [
       "Promo2\n",
       "0    542\n",
       "1    570\n",
       "Name: CompetitionDistance, dtype: int64"
      ]
     },
     "execution_count": 324,
     "metadata": {},
     "output_type": "execute_result"
    }
   ],
   "source": [
    "cantidad_por_promo = df_store.groupby(\"Promo2\")[\"CompetitionDistance\"].count()\n",
    "cantidad_por_promo"
   ]
  },
  {
   "cell_type": "code",
   "execution_count": 325,
   "metadata": {
    "colab": {
     "base_uri": "https://localhost:8080/"
    },
    "id": "rAcAq2PcTZg6",
    "outputId": "b145e726-03b4-42b3-c474-db56303660ce"
   },
   "outputs": [
    {
     "data": {
      "text/plain": [
       "Store                  0\n",
       "StoreType              0\n",
       "Assortment             0\n",
       "CompetitionDistance    3\n",
       "Promo2                 0\n",
       "dtype: int64"
      ]
     },
     "execution_count": 325,
     "metadata": {},
     "output_type": "execute_result"
    }
   ],
   "source": [
    "df_store.apply(lambda x: sum(x.isnull()),axis=0) "
   ]
  },
  {
   "cell_type": "markdown",
   "metadata": {},
   "source": [
    "Se sabe que hay solo hay valores nulos el la columna \"CompetitionDistance\", los cuales son tres. Para saber que hacer con ellos se analizaran los datos de las otras columnas"
   ]
  },
  {
   "cell_type": "code",
   "execution_count": 326,
   "metadata": {
    "colab": {
     "base_uri": "https://localhost:8080/",
     "height": 143
    },
    "id": "yoCiYNDWfq-8",
    "outputId": "fd9cbe55-02c0-45f3-ea68-cd387d6f6706"
   },
   "outputs": [
    {
     "data": {
      "text/html": [
       "<div>\n",
       "<style scoped>\n",
       "    .dataframe tbody tr th:only-of-type {\n",
       "        vertical-align: middle;\n",
       "    }\n",
       "\n",
       "    .dataframe tbody tr th {\n",
       "        vertical-align: top;\n",
       "    }\n",
       "\n",
       "    .dataframe thead th {\n",
       "        text-align: right;\n",
       "    }\n",
       "</style>\n",
       "<table border=\"1\" class=\"dataframe\">\n",
       "  <thead>\n",
       "    <tr style=\"text-align: right;\">\n",
       "      <th></th>\n",
       "      <th>Store</th>\n",
       "      <th>StoreType</th>\n",
       "      <th>Assortment</th>\n",
       "      <th>CompetitionDistance</th>\n",
       "      <th>Promo2</th>\n",
       "    </tr>\n",
       "  </thead>\n",
       "  <tbody>\n",
       "    <tr>\n",
       "      <th>290</th>\n",
       "      <td>291</td>\n",
       "      <td>d</td>\n",
       "      <td>a</td>\n",
       "      <td>NaN</td>\n",
       "      <td>0</td>\n",
       "    </tr>\n",
       "    <tr>\n",
       "      <th>621</th>\n",
       "      <td>622</td>\n",
       "      <td>a</td>\n",
       "      <td>c</td>\n",
       "      <td>NaN</td>\n",
       "      <td>0</td>\n",
       "    </tr>\n",
       "    <tr>\n",
       "      <th>878</th>\n",
       "      <td>879</td>\n",
       "      <td>d</td>\n",
       "      <td>a</td>\n",
       "      <td>NaN</td>\n",
       "      <td>1</td>\n",
       "    </tr>\n",
       "  </tbody>\n",
       "</table>\n",
       "</div>"
      ],
      "text/plain": [
       "     Store StoreType Assortment  CompetitionDistance  Promo2\n",
       "290    291         d          a                  NaN       0\n",
       "621    622         a          c                  NaN       0\n",
       "878    879         d          a                  NaN       1"
      ]
     },
     "metadata": {},
     "output_type": "display_data"
    }
   ],
   "source": [
    "nulos = df_store[df_store[\"CompetitionDistance\"].isnull()]\n",
    "display(nulos)"
   ]
  },
  {
   "cell_type": "markdown",
   "metadata": {
    "id": "lXUupEzvgxKw"
   },
   "source": [
    "De https://datatofish.com/rows-with-nan-pandas-dataframe/"
   ]
  },
  {
   "cell_type": "markdown",
   "metadata": {
    "id": "jEFAyItySMYe"
   },
   "source": [
    "Los tipos de tienda de las filas con valores nulos son \"a\" y \"d\", que tienen medias de 5123,06 y 6913,06, respectivamente, que no estan muy lejos de 5404,9, la media al tener en cuenta todos los datos. Las variedades de estas filas son \"a\" y \"c\", con medias de 4400,34 y 6638,77, respectivamente, y a dos tiendas que no tienen promocion y una que si, con medias 6549,52 y 4316,51, respectivamente. Todos estos valores estan cerca de la media total, por lo tanto, los valores nulos seran reemplazados por la media total. "
   ]
  },
  {
   "cell_type": "code",
   "execution_count": 327,
   "metadata": {
    "colab": {
     "base_uri": "https://localhost:8080/"
    },
    "id": "ZIK-hcvIg02f",
    "outputId": "88841bd3-d76e-4cca-942c-ddee59299913"
   },
   "outputs": [
    {
     "data": {
      "text/plain": [
       "Store                  0\n",
       "StoreType              0\n",
       "Assortment             0\n",
       "CompetitionDistance    0\n",
       "Promo2                 0\n",
       "dtype: int64"
      ]
     },
     "execution_count": 327,
     "metadata": {},
     "output_type": "execute_result"
    }
   ],
   "source": [
    "df_store[\"CompetitionDistance\"].fillna(df_store[\"CompetitionDistance\"].mean(), inplace=True)\n",
    "df_store.apply(lambda x: sum(x.isnull()),axis=0) "
   ]
  },
  {
   "cell_type": "markdown",
   "metadata": {
    "id": "__bQpxirVTAi"
   },
   "source": [
    "Para los outliers, usara una aproximacion logaritmica para anular su efecto, y, asi no se perderan datos para el siguiente paso del problema."
   ]
  },
  {
   "cell_type": "code",
   "execution_count": 328,
   "metadata": {
    "colab": {
     "base_uri": "https://localhost:8080/",
     "height": 514
    },
    "id": "XcHhsBXUnJVF",
    "outputId": "7a5bfb94-e4ea-46be-c40e-c4a8347e5d1f"
   },
   "outputs": [
    {
     "data": {
      "image/png": "[encoded data removed]",
      "text/plain": [
       "<Figure size 432x288 with 1 Axes>"
      ]
     },
     "metadata": {
      "needs_background": "light"
     },
     "output_type": "display_data"
    },
    {
     "data": {
      "image/png": "[encoded data removed]",
      "text/plain": [
       "<Figure size 432x288 with 1 Axes>"
      ]
     },
     "metadata": {
      "needs_background": "light"
     },
     "output_type": "display_data"
    }
   ],
   "source": [
    "df_store[\"CompetitionDistance_log\"] = np.log(df_store[\"CompetitionDistance\"])\n",
    "df_store[\"CompetitionDistance_log\"].hist(bins=100)\n",
    "plt.show()\n",
    "df_store.boxplot(column = \"CompetitionDistance_log\")\n",
    "plt.show()"
   ]
  },
  {
   "cell_type": "code",
   "execution_count": 329,
   "metadata": {
    "colab": {
     "base_uri": "https://localhost:8080/",
     "height": 424
    },
    "id": "Kz7dnMTFo_QP",
    "outputId": "a4d9cac5-4d6d-4e47-8aa0-4a2d53293712"
   },
   "outputs": [
    {
     "data": {
      "text/html": [
       "<div>\n",
       "<style scoped>\n",
       "    .dataframe tbody tr th:only-of-type {\n",
       "        vertical-align: middle;\n",
       "    }\n",
       "\n",
       "    .dataframe tbody tr th {\n",
       "        vertical-align: top;\n",
       "    }\n",
       "\n",
       "    .dataframe thead th {\n",
       "        text-align: right;\n",
       "    }\n",
       "</style>\n",
       "<table border=\"1\" class=\"dataframe\">\n",
       "  <thead>\n",
       "    <tr style=\"text-align: right;\">\n",
       "      <th></th>\n",
       "      <th>Store</th>\n",
       "      <th>StoreType</th>\n",
       "      <th>Assortment</th>\n",
       "      <th>CompetitionDistance</th>\n",
       "      <th>Promo2</th>\n",
       "      <th>CompetitionDistance_log</th>\n",
       "    </tr>\n",
       "  </thead>\n",
       "  <tbody>\n",
       "    <tr>\n",
       "      <th>0</th>\n",
       "      <td>1</td>\n",
       "      <td>c</td>\n",
       "      <td>a</td>\n",
       "      <td>1270.0</td>\n",
       "      <td>0</td>\n",
       "      <td>7.146772</td>\n",
       "    </tr>\n",
       "    <tr>\n",
       "      <th>1</th>\n",
       "      <td>2</td>\n",
       "      <td>a</td>\n",
       "      <td>a</td>\n",
       "      <td>570.0</td>\n",
       "      <td>1</td>\n",
       "      <td>6.345636</td>\n",
       "    </tr>\n",
       "    <tr>\n",
       "      <th>2</th>\n",
       "      <td>3</td>\n",
       "      <td>a</td>\n",
       "      <td>a</td>\n",
       "      <td>14130.0</td>\n",
       "      <td>1</td>\n",
       "      <td>9.556055</td>\n",
       "    </tr>\n",
       "    <tr>\n",
       "      <th>3</th>\n",
       "      <td>4</td>\n",
       "      <td>c</td>\n",
       "      <td>c</td>\n",
       "      <td>620.0</td>\n",
       "      <td>0</td>\n",
       "      <td>6.429719</td>\n",
       "    </tr>\n",
       "    <tr>\n",
       "      <th>4</th>\n",
       "      <td>5</td>\n",
       "      <td>a</td>\n",
       "      <td>a</td>\n",
       "      <td>29910.0</td>\n",
       "      <td>0</td>\n",
       "      <td>10.305948</td>\n",
       "    </tr>\n",
       "    <tr>\n",
       "      <th>...</th>\n",
       "      <td>...</td>\n",
       "      <td>...</td>\n",
       "      <td>...</td>\n",
       "      <td>...</td>\n",
       "      <td>...</td>\n",
       "      <td>...</td>\n",
       "    </tr>\n",
       "    <tr>\n",
       "      <th>1110</th>\n",
       "      <td>1111</td>\n",
       "      <td>a</td>\n",
       "      <td>a</td>\n",
       "      <td>1900.0</td>\n",
       "      <td>1</td>\n",
       "      <td>7.549609</td>\n",
       "    </tr>\n",
       "    <tr>\n",
       "      <th>1111</th>\n",
       "      <td>1112</td>\n",
       "      <td>c</td>\n",
       "      <td>c</td>\n",
       "      <td>1880.0</td>\n",
       "      <td>0</td>\n",
       "      <td>7.539027</td>\n",
       "    </tr>\n",
       "    <tr>\n",
       "      <th>1112</th>\n",
       "      <td>1113</td>\n",
       "      <td>a</td>\n",
       "      <td>c</td>\n",
       "      <td>9260.0</td>\n",
       "      <td>0</td>\n",
       "      <td>9.133459</td>\n",
       "    </tr>\n",
       "    <tr>\n",
       "      <th>1113</th>\n",
       "      <td>1114</td>\n",
       "      <td>a</td>\n",
       "      <td>c</td>\n",
       "      <td>870.0</td>\n",
       "      <td>0</td>\n",
       "      <td>6.768493</td>\n",
       "    </tr>\n",
       "    <tr>\n",
       "      <th>1114</th>\n",
       "      <td>1115</td>\n",
       "      <td>d</td>\n",
       "      <td>c</td>\n",
       "      <td>5350.0</td>\n",
       "      <td>1</td>\n",
       "      <td>8.584852</td>\n",
       "    </tr>\n",
       "  </tbody>\n",
       "</table>\n",
       "<p>1115 rows × 6 columns</p>\n",
       "</div>"
      ],
      "text/plain": [
       "      Store StoreType Assortment  CompetitionDistance  Promo2  \\\n",
       "0         1         c          a               1270.0       0   \n",
       "1         2         a          a                570.0       1   \n",
       "2         3         a          a              14130.0       1   \n",
       "3         4         c          c                620.0       0   \n",
       "4         5         a          a              29910.0       0   \n",
       "...     ...       ...        ...                  ...     ...   \n",
       "1110   1111         a          a               1900.0       1   \n",
       "1111   1112         c          c               1880.0       0   \n",
       "1112   1113         a          c               9260.0       0   \n",
       "1113   1114         a          c                870.0       0   \n",
       "1114   1115         d          c               5350.0       1   \n",
       "\n",
       "      CompetitionDistance_log  \n",
       "0                    7.146772  \n",
       "1                    6.345636  \n",
       "2                    9.556055  \n",
       "3                    6.429719  \n",
       "4                   10.305948  \n",
       "...                       ...  \n",
       "1110                 7.549609  \n",
       "1111                 7.539027  \n",
       "1112                 9.133459  \n",
       "1113                 6.768493  \n",
       "1114                 8.584852  \n",
       "\n",
       "[1115 rows x 6 columns]"
      ]
     },
     "metadata": {},
     "output_type": "display_data"
    }
   ],
   "source": [
    "display(df_store)"
   ]
  },
  {
   "cell_type": "markdown",
   "metadata": {
    "id": "gImro7V_aBw3"
   },
   "source": [
    "#### Sales"
   ]
  },
  {
   "cell_type": "code",
   "execution_count": 330,
   "metadata": {
    "colab": {
     "base_uri": "https://localhost:8080/",
     "height": 424
    },
    "id": "n9_2MWgnTkyh",
    "outputId": "ab79a4f5-5ddb-4a89-9c3f-f8d90d51ddad"
   },
   "outputs": [
    {
     "data": {
      "text/html": [
       "<div>\n",
       "<style scoped>\n",
       "    .dataframe tbody tr th:only-of-type {\n",
       "        vertical-align: middle;\n",
       "    }\n",
       "\n",
       "    .dataframe tbody tr th {\n",
       "        vertical-align: top;\n",
       "    }\n",
       "\n",
       "    .dataframe thead th {\n",
       "        text-align: right;\n",
       "    }\n",
       "</style>\n",
       "<table border=\"1\" class=\"dataframe\">\n",
       "  <thead>\n",
       "    <tr style=\"text-align: right;\">\n",
       "      <th></th>\n",
       "      <th>Store</th>\n",
       "      <th>Sales</th>\n",
       "      <th>Customers</th>\n",
       "      <th>Date</th>\n",
       "    </tr>\n",
       "  </thead>\n",
       "  <tbody>\n",
       "    <tr>\n",
       "      <th>0</th>\n",
       "      <td>1</td>\n",
       "      <td>5263</td>\n",
       "      <td>555</td>\n",
       "      <td>2015-07-31</td>\n",
       "    </tr>\n",
       "    <tr>\n",
       "      <th>1</th>\n",
       "      <td>2</td>\n",
       "      <td>6064</td>\n",
       "      <td>625</td>\n",
       "      <td>2015-07-31</td>\n",
       "    </tr>\n",
       "    <tr>\n",
       "      <th>2</th>\n",
       "      <td>3</td>\n",
       "      <td>8314</td>\n",
       "      <td>821</td>\n",
       "      <td>2015-07-31</td>\n",
       "    </tr>\n",
       "    <tr>\n",
       "      <th>3</th>\n",
       "      <td>4</td>\n",
       "      <td>13995</td>\n",
       "      <td>1498</td>\n",
       "      <td>2015-07-31</td>\n",
       "    </tr>\n",
       "    <tr>\n",
       "      <th>4</th>\n",
       "      <td>5</td>\n",
       "      <td>4822</td>\n",
       "      <td>559</td>\n",
       "      <td>2015-07-31</td>\n",
       "    </tr>\n",
       "    <tr>\n",
       "      <th>...</th>\n",
       "      <td>...</td>\n",
       "      <td>...</td>\n",
       "      <td>...</td>\n",
       "      <td>...</td>\n",
       "    </tr>\n",
       "    <tr>\n",
       "      <th>1017204</th>\n",
       "      <td>1111</td>\n",
       "      <td>0</td>\n",
       "      <td>0</td>\n",
       "      <td>2013-01-01</td>\n",
       "    </tr>\n",
       "    <tr>\n",
       "      <th>1017205</th>\n",
       "      <td>1112</td>\n",
       "      <td>0</td>\n",
       "      <td>0</td>\n",
       "      <td>2013-01-01</td>\n",
       "    </tr>\n",
       "    <tr>\n",
       "      <th>1017206</th>\n",
       "      <td>1113</td>\n",
       "      <td>0</td>\n",
       "      <td>0</td>\n",
       "      <td>2013-01-01</td>\n",
       "    </tr>\n",
       "    <tr>\n",
       "      <th>1017207</th>\n",
       "      <td>1114</td>\n",
       "      <td>0</td>\n",
       "      <td>0</td>\n",
       "      <td>2013-01-01</td>\n",
       "    </tr>\n",
       "    <tr>\n",
       "      <th>1017208</th>\n",
       "      <td>1115</td>\n",
       "      <td>0</td>\n",
       "      <td>0</td>\n",
       "      <td>2013-01-01</td>\n",
       "    </tr>\n",
       "  </tbody>\n",
       "</table>\n",
       "<p>1017209 rows × 4 columns</p>\n",
       "</div>"
      ],
      "text/plain": [
       "         Store  Sales  Customers        Date\n",
       "0            1   5263        555  2015-07-31\n",
       "1            2   6064        625  2015-07-31\n",
       "2            3   8314        821  2015-07-31\n",
       "3            4  13995       1498  2015-07-31\n",
       "4            5   4822        559  2015-07-31\n",
       "...        ...    ...        ...         ...\n",
       "1017204   1111      0          0  2013-01-01\n",
       "1017205   1112      0          0  2013-01-01\n",
       "1017206   1113      0          0  2013-01-01\n",
       "1017207   1114      0          0  2013-01-01\n",
       "1017208   1115      0          0  2013-01-01\n",
       "\n",
       "[1017209 rows x 4 columns]"
      ]
     },
     "metadata": {},
     "output_type": "display_data"
    }
   ],
   "source": [
    "df_sales = pd.read_csv(\"sales_data.csv\", index_col = 0)\n",
    "display(df_sales)"
   ]
  },
  {
   "cell_type": "code",
   "execution_count": 331,
   "metadata": {
    "colab": {
     "base_uri": "https://localhost:8080/"
    },
    "id": "Y3oxG-smUiJp",
    "outputId": "4e375c79-a8bb-42a8-dabc-8144bb04a7da"
   },
   "outputs": [
    {
     "data": {
      "text/plain": [
       "Store         int64\n",
       "Sales         int64\n",
       "Customers     int64\n",
       "Date         object\n",
       "dtype: object"
      ]
     },
     "execution_count": 331,
     "metadata": {},
     "output_type": "execute_result"
    }
   ],
   "source": [
    "df_sales.dtypes"
   ]
  },
  {
   "cell_type": "markdown",
   "metadata": {},
   "source": [
    "Se puede notar que Store, Sales y Customers tienen datos de tipo enteros y Date son objetos.\n",
    "De  https://aprendeia.com/explorando-los-datos-con-python/ "
   ]
  },
  {
   "cell_type": "code",
   "execution_count": 332,
   "metadata": {
    "colab": {
     "base_uri": "https://localhost:8080/",
     "height": 300
    },
    "id": "9HhGpeODTRad",
    "outputId": "00729a3d-2a8e-4660-95c0-d026cacad279"
   },
   "outputs": [
    {
     "data": {
      "text/html": [
       "<div>\n",
       "<style scoped>\n",
       "    .dataframe tbody tr th:only-of-type {\n",
       "        vertical-align: middle;\n",
       "    }\n",
       "\n",
       "    .dataframe tbody tr th {\n",
       "        vertical-align: top;\n",
       "    }\n",
       "\n",
       "    .dataframe thead th {\n",
       "        text-align: right;\n",
       "    }\n",
       "</style>\n",
       "<table border=\"1\" class=\"dataframe\">\n",
       "  <thead>\n",
       "    <tr style=\"text-align: right;\">\n",
       "      <th></th>\n",
       "      <th>Store</th>\n",
       "      <th>Sales</th>\n",
       "      <th>Customers</th>\n",
       "    </tr>\n",
       "  </thead>\n",
       "  <tbody>\n",
       "    <tr>\n",
       "      <th>count</th>\n",
       "      <td>1.017209e+06</td>\n",
       "      <td>1.017209e+06</td>\n",
       "      <td>1.017209e+06</td>\n",
       "    </tr>\n",
       "    <tr>\n",
       "      <th>mean</th>\n",
       "      <td>5.584297e+02</td>\n",
       "      <td>5.773819e+03</td>\n",
       "      <td>6.331459e+02</td>\n",
       "    </tr>\n",
       "    <tr>\n",
       "      <th>std</th>\n",
       "      <td>3.219087e+02</td>\n",
       "      <td>3.849926e+03</td>\n",
       "      <td>4.644117e+02</td>\n",
       "    </tr>\n",
       "    <tr>\n",
       "      <th>min</th>\n",
       "      <td>1.000000e+00</td>\n",
       "      <td>0.000000e+00</td>\n",
       "      <td>0.000000e+00</td>\n",
       "    </tr>\n",
       "    <tr>\n",
       "      <th>25%</th>\n",
       "      <td>2.800000e+02</td>\n",
       "      <td>3.727000e+03</td>\n",
       "      <td>4.050000e+02</td>\n",
       "    </tr>\n",
       "    <tr>\n",
       "      <th>50%</th>\n",
       "      <td>5.580000e+02</td>\n",
       "      <td>5.744000e+03</td>\n",
       "      <td>6.090000e+02</td>\n",
       "    </tr>\n",
       "    <tr>\n",
       "      <th>75%</th>\n",
       "      <td>8.380000e+02</td>\n",
       "      <td>7.856000e+03</td>\n",
       "      <td>8.370000e+02</td>\n",
       "    </tr>\n",
       "    <tr>\n",
       "      <th>max</th>\n",
       "      <td>1.115000e+03</td>\n",
       "      <td>4.155100e+04</td>\n",
       "      <td>7.388000e+03</td>\n",
       "    </tr>\n",
       "  </tbody>\n",
       "</table>\n",
       "</div>"
      ],
      "text/plain": [
       "              Store         Sales     Customers\n",
       "count  1.017209e+06  1.017209e+06  1.017209e+06\n",
       "mean   5.584297e+02  5.773819e+03  6.331459e+02\n",
       "std    3.219087e+02  3.849926e+03  4.644117e+02\n",
       "min    1.000000e+00  0.000000e+00  0.000000e+00\n",
       "25%    2.800000e+02  3.727000e+03  4.050000e+02\n",
       "50%    5.580000e+02  5.744000e+03  6.090000e+02\n",
       "75%    8.380000e+02  7.856000e+03  8.370000e+02\n",
       "max    1.115000e+03  4.155100e+04  7.388000e+03"
      ]
     },
     "execution_count": 332,
     "metadata": {},
     "output_type": "execute_result"
    }
   ],
   "source": [
    "df_sales.describe()"
   ]
  },
  {
   "cell_type": "markdown",
   "metadata": {
    "id": "MGCt5pG4Cr93"
   },
   "source": [
    "Sales: El minimo de las ventas es 0 y el maximo 41551, mientras que el 75% de los datos esta entre 3727 y 7856, por lo otanto, probablemente hayan outliers\n",
    "Customers: El minimo de clientes es 0 y el maximo 7388, mientras que el 75% de los datos esta entre 405 y 837, por lo otanto, probablemente hayan outliers"
   ]
  },
  {
   "cell_type": "code",
   "execution_count": 333,
   "metadata": {
    "colab": {
     "base_uri": "https://localhost:8080/"
    },
    "id": "bFUqcAjKaVNv",
    "outputId": "5a300e89-7940-47a4-c00b-ed8cd1d4377b"
   },
   "outputs": [
    {
     "data": {
      "text/plain": [
       "Store        0\n",
       "Sales        0\n",
       "Customers    0\n",
       "Date         0\n",
       "dtype: int64"
      ]
     },
     "execution_count": 333,
     "metadata": {},
     "output_type": "execute_result"
    }
   ],
   "source": [
    "df_sales.apply(lambda x: sum(x.isnull()),axis=0) "
   ]
  },
  {
   "cell_type": "markdown",
   "metadata": {
    "id": "EPK86qd5aaXL"
   },
   "source": [
    "Se puede notar que no hay valores nulos "
   ]
  },
  {
   "cell_type": "code",
   "execution_count": 334,
   "metadata": {
    "colab": {
     "base_uri": "https://localhost:8080/"
    },
    "id": "t1FC4FGq2Zdz",
    "outputId": "4e4eaecd-48bf-4eb5-f9c8-cd93d0366636"
   },
   "outputs": [
    {
     "data": {
      "text/plain": [
       "2015-07-31    1115\n",
       "2013-11-06    1115\n",
       "2013-11-18    1115\n",
       "2013-11-17    1115\n",
       "2013-11-16    1115\n",
       "              ... \n",
       "2014-10-28     935\n",
       "2014-10-27     935\n",
       "2014-10-26     935\n",
       "2014-10-25     935\n",
       "2014-12-08     935\n",
       "Name: Date, Length: 942, dtype: int64"
      ]
     },
     "execution_count": 334,
     "metadata": {},
     "output_type": "execute_result"
    }
   ],
   "source": [
    "date_sales = df_sales[\"Date\"]\n",
    "date_sales.value_counts()"
   ]
  },
  {
   "cell_type": "markdown",
   "metadata": {},
   "source": [
    "El data frame tiene 1017209 filas, mientras que solo hay 942 fechas diferentes, por lo tanto estas se repiten."
   ]
  },
  {
   "cell_type": "code",
   "execution_count": 335,
   "metadata": {
    "colab": {
     "base_uri": "https://localhost:8080/",
     "height": 516
    },
    "id": "K4M4CyLg-hmG",
    "outputId": "1d2b04a5-c0c0-4be7-9bb4-4e792795a111"
   },
   "outputs": [
    {
     "data": {
      "image/png": "[encoded data removed]",
      "text/plain": [
       "<Figure size 432x288 with 1 Axes>"
      ]
     },
     "metadata": {
      "needs_background": "light"
     },
     "output_type": "display_data"
    },
    {
     "data": {
      "image/png": "[encoded data removed]",
      "text/plain": [
       "<Figure size 432x288 with 1 Axes>"
      ]
     },
     "metadata": {
      "needs_background": "light"
     },
     "output_type": "display_data"
    }
   ],
   "source": [
    "df_sales[\"Customers\"].hist(bins=50)\n",
    "plt.show()\n",
    "df_sales.boxplot(column = \"Customers\")\n",
    "plt.show()"
   ]
  },
  {
   "cell_type": "markdown",
   "metadata": {
    "id": "cb-uBbE-ZGoW"
   },
   "source": [
    "Al ver la distribucion de la cantidad de clientas, se nota que hay un punto que se aleja en una gran cantidad de los demas valores. Como la cantidad de datos es muy alta, la fila con este dato se eliminara, y su efecto sera casi nulo en el analisis."
   ]
  },
  {
   "cell_type": "code",
   "execution_count": 336,
   "metadata": {
    "id": "p2drp6v3rZ7N"
   },
   "outputs": [],
   "source": [
    "df_sales = df_sales.drop(df_sales[df_sales[\"Customers\"] > 6000].index)"
   ]
  },
  {
   "cell_type": "markdown",
   "metadata": {
    "id": "Vm-qDfcDtkRM"
   },
   "source": [
    "De: http://exponentis.es/como-eliminar-filas-de-un-dataframe-de-python-pandas-segun-una-condicion"
   ]
  },
  {
   "cell_type": "code",
   "execution_count": 337,
   "metadata": {
    "colab": {
     "base_uri": "https://localhost:8080/",
     "height": 513
    },
    "id": "r3r8mVNvrpAC",
    "outputId": "ade9ddf5-75b9-4b0e-db95-1b6fc231590f"
   },
   "outputs": [
    {
     "data": {
      "image/png": "[encoded data removed]",
      "text/plain": [
       "<Figure size 432x288 with 1 Axes>"
      ]
     },
     "metadata": {
      "needs_background": "light"
     },
     "output_type": "display_data"
    },
    {
     "data": {
      "image/png": "[encoded data removed]",
      "text/plain": [
       "<Figure size 432x288 with 1 Axes>"
      ]
     },
     "metadata": {
      "needs_background": "light"
     },
     "output_type": "display_data"
    }
   ],
   "source": [
    "df_sales[\"Customers\"].hist(bins=50)\n",
    "plt.show()\n",
    "df_sales.boxplot(column = \"Customers\")\n",
    "plt.show()"
   ]
  },
  {
   "cell_type": "code",
   "execution_count": 338,
   "metadata": {
    "colab": {
     "base_uri": "https://localhost:8080/",
     "height": 513
    },
    "id": "POz3BRcq-h_1",
    "outputId": "7ed56f03-16e5-4f50-a15c-def7becbd1a7"
   },
   "outputs": [
    {
     "data": {
      "image/png": "[encoded data removed]",
      "text/plain": [
       "<Figure size 432x288 with 1 Axes>"
      ]
     },
     "metadata": {
      "needs_background": "light"
     },
     "output_type": "display_data"
    },
    {
     "data": {
      "image/png": "[encoded data removed]",
      "text/plain": [
       "<Figure size 432x288 with 1 Axes>"
      ]
     },
     "metadata": {
      "needs_background": "light"
     },
     "output_type": "display_data"
    }
   ],
   "source": [
    "df_sales[\"Sales\"].hist(bins=50)\n",
    "plt.show()\n",
    "df_sales.boxplot(column = \"Sales\")\n",
    "plt.show()"
   ]
  },
  {
   "cell_type": "markdown",
   "metadata": {
    "id": "i8jiy2w3Z9ZD"
   },
   "source": [
    "Al ver la distribucion de la cantidad de ventas, tambien se nota que hay un punto que se aleja en una gran cantidad de los demas valores. Por la misma razon anterior, la fila con este dato se eliminara, y su efecto sera casi nulo en el analisis."
   ]
  },
  {
   "cell_type": "code",
   "execution_count": 339,
   "metadata": {
    "id": "jJYY-PMArt-t"
   },
   "outputs": [],
   "source": [
    "df_sales = df_sales.drop(df_sales[df_sales[\"Sales\"] > 40000].index)"
   ]
  },
  {
   "cell_type": "markdown",
   "metadata": {
    "id": "0cO0KJNZtpSg"
   },
   "source": [
    "De: http://exponentis.es/como-eliminar-filas-de-un-dataframe-de-python-pandas-segun-una-condicion"
   ]
  },
  {
   "cell_type": "code",
   "execution_count": 340,
   "metadata": {
    "colab": {
     "base_uri": "https://localhost:8080/",
     "height": 515
    },
    "id": "HLYFvPRDr2L_",
    "outputId": "6a400ef5-6436-4645-f773-4f8966897010"
   },
   "outputs": [
    {
     "data": {
      "image/png": "[encoded data removed]",
      "text/plain": [
       "<Figure size 432x288 with 1 Axes>"
      ]
     },
     "metadata": {
      "needs_background": "light"
     },
     "output_type": "display_data"
    },
    {
     "data": {
      "image/png": "[encoded data removed]",
      "text/plain": [
       "<Figure size 432x288 with 1 Axes>"
      ]
     },
     "metadata": {
      "needs_background": "light"
     },
     "output_type": "display_data"
    }
   ],
   "source": [
    "df_sales[\"Sales\"].hist(bins=10)\n",
    "plt.show()\n",
    "df_sales.boxplot(column = \"Sales\")\n",
    "plt.show()"
   ]
  },
  {
   "cell_type": "code",
   "execution_count": 341,
   "metadata": {
    "colab": {
     "base_uri": "https://localhost:8080/",
     "height": 424
    },
    "id": "V7PNzdIbsRFC",
    "outputId": "6a7c8ccb-dd47-4bb3-b297-f6888ff8a9bb"
   },
   "outputs": [
    {
     "data": {
      "text/html": [
       "<div>\n",
       "<style scoped>\n",
       "    .dataframe tbody tr th:only-of-type {\n",
       "        vertical-align: middle;\n",
       "    }\n",
       "\n",
       "    .dataframe tbody tr th {\n",
       "        vertical-align: top;\n",
       "    }\n",
       "\n",
       "    .dataframe thead th {\n",
       "        text-align: right;\n",
       "    }\n",
       "</style>\n",
       "<table border=\"1\" class=\"dataframe\">\n",
       "  <thead>\n",
       "    <tr style=\"text-align: right;\">\n",
       "      <th></th>\n",
       "      <th>Store</th>\n",
       "      <th>Sales</th>\n",
       "      <th>Customers</th>\n",
       "      <th>Date</th>\n",
       "    </tr>\n",
       "  </thead>\n",
       "  <tbody>\n",
       "    <tr>\n",
       "      <th>0</th>\n",
       "      <td>1</td>\n",
       "      <td>5263</td>\n",
       "      <td>555</td>\n",
       "      <td>2015-07-31</td>\n",
       "    </tr>\n",
       "    <tr>\n",
       "      <th>1</th>\n",
       "      <td>2</td>\n",
       "      <td>6064</td>\n",
       "      <td>625</td>\n",
       "      <td>2015-07-31</td>\n",
       "    </tr>\n",
       "    <tr>\n",
       "      <th>2</th>\n",
       "      <td>3</td>\n",
       "      <td>8314</td>\n",
       "      <td>821</td>\n",
       "      <td>2015-07-31</td>\n",
       "    </tr>\n",
       "    <tr>\n",
       "      <th>3</th>\n",
       "      <td>4</td>\n",
       "      <td>13995</td>\n",
       "      <td>1498</td>\n",
       "      <td>2015-07-31</td>\n",
       "    </tr>\n",
       "    <tr>\n",
       "      <th>4</th>\n",
       "      <td>5</td>\n",
       "      <td>4822</td>\n",
       "      <td>559</td>\n",
       "      <td>2015-07-31</td>\n",
       "    </tr>\n",
       "    <tr>\n",
       "      <th>...</th>\n",
       "      <td>...</td>\n",
       "      <td>...</td>\n",
       "      <td>...</td>\n",
       "      <td>...</td>\n",
       "    </tr>\n",
       "    <tr>\n",
       "      <th>1017204</th>\n",
       "      <td>1111</td>\n",
       "      <td>0</td>\n",
       "      <td>0</td>\n",
       "      <td>2013-01-01</td>\n",
       "    </tr>\n",
       "    <tr>\n",
       "      <th>1017205</th>\n",
       "      <td>1112</td>\n",
       "      <td>0</td>\n",
       "      <td>0</td>\n",
       "      <td>2013-01-01</td>\n",
       "    </tr>\n",
       "    <tr>\n",
       "      <th>1017206</th>\n",
       "      <td>1113</td>\n",
       "      <td>0</td>\n",
       "      <td>0</td>\n",
       "      <td>2013-01-01</td>\n",
       "    </tr>\n",
       "    <tr>\n",
       "      <th>1017207</th>\n",
       "      <td>1114</td>\n",
       "      <td>0</td>\n",
       "      <td>0</td>\n",
       "      <td>2013-01-01</td>\n",
       "    </tr>\n",
       "    <tr>\n",
       "      <th>1017208</th>\n",
       "      <td>1115</td>\n",
       "      <td>0</td>\n",
       "      <td>0</td>\n",
       "      <td>2013-01-01</td>\n",
       "    </tr>\n",
       "  </tbody>\n",
       "</table>\n",
       "<p>1017207 rows × 4 columns</p>\n",
       "</div>"
      ],
      "text/plain": [
       "         Store  Sales  Customers        Date\n",
       "0            1   5263        555  2015-07-31\n",
       "1            2   6064        625  2015-07-31\n",
       "2            3   8314        821  2015-07-31\n",
       "3            4  13995       1498  2015-07-31\n",
       "4            5   4822        559  2015-07-31\n",
       "...        ...    ...        ...         ...\n",
       "1017204   1111      0          0  2013-01-01\n",
       "1017205   1112      0          0  2013-01-01\n",
       "1017206   1113      0          0  2013-01-01\n",
       "1017207   1114      0          0  2013-01-01\n",
       "1017208   1115      0          0  2013-01-01\n",
       "\n",
       "[1017207 rows x 4 columns]"
      ]
     },
     "metadata": {},
     "output_type": "display_data"
    }
   ],
   "source": [
    "display(df_sales)"
   ]
  },
  {
   "cell_type": "markdown",
   "metadata": {
    "id": "79hEBzaPrpYX"
   },
   "source": [
    "### 3.2 Generar Dataframe para la predicción"
   ]
  },
  {
   "cell_type": "markdown",
   "metadata": {},
   "source": [
    "Se necesitaran las siguientes librerias y funciones."
   ]
  },
  {
   "cell_type": "code",
   "execution_count": 342,
   "metadata": {},
   "outputs": [
    {
     "name": "stdout",
     "output_type": "stream",
     "text": [
      "Requirement already satisfied: sklearn in /Library/Frameworks/Python.framework/Versions/3.10/lib/python3.10/site-packages (0.0)\n",
      "Requirement already satisfied: scikit-learn in /Library/Frameworks/Python.framework/Versions/3.10/lib/python3.10/site-packages (from sklearn) (1.1.2)\n",
      "Requirement already satisfied: numpy>=1.17.3 in /Library/Frameworks/Python.framework/Versions/3.10/lib/python3.10/site-packages (from scikit-learn->sklearn) (1.23.3)\n",
      "Requirement already satisfied: threadpoolctl>=2.0.0 in /Library/Frameworks/Python.framework/Versions/3.10/lib/python3.10/site-packages (from scikit-learn->sklearn) (3.1.0)\n",
      "Requirement already satisfied: scipy>=1.3.2 in /Library/Frameworks/Python.framework/Versions/3.10/lib/python3.10/site-packages (from scikit-learn->sklearn) (1.9.1)\n",
      "Requirement already satisfied: joblib>=1.0.0 in /Library/Frameworks/Python.framework/Versions/3.10/lib/python3.10/site-packages (from scikit-learn->sklearn) (1.2.0)\n",
      "\n",
      "\u001b[1m[\u001b[0m\u001b[34;49mnotice\u001b[0m\u001b[1;39;49m]\u001b[0m\u001b[39;49m A new release of pip available: \u001b[0m\u001b[31;49m22.2.1\u001b[0m\u001b[39;49m -> \u001b[0m\u001b[32;49m22.2.2\u001b[0m\n",
      "\u001b[1m[\u001b[0m\u001b[34;49mnotice\u001b[0m\u001b[1;39;49m]\u001b[0m\u001b[39;49m To update, run: \u001b[0m\u001b[32;49mpip3 install --upgrade pip\u001b[0m\n"
     ]
    }
   ],
   "source": [
    "!pip3 install sklearn"
   ]
  },
  {
   "cell_type": "code",
   "execution_count": 343,
   "metadata": {
    "id": "_bTSmD_dyEMS"
   },
   "outputs": [],
   "source": [
    "from sklearn.model_selection import train_test_split #Importacion de train_test_split de sklearn.model_selection. Se usa para dividir un dataset en dos bloques."
   ]
  },
  {
   "cell_type": "code",
   "execution_count": 344,
   "metadata": {
    "colab": {
     "base_uri": "https://localhost:8080/",
     "height": 545
    },
    "id": "u14EqS2Ljk4q",
    "outputId": "6880c3be-c982-47e5-a9fb-58cddb18af75"
   },
   "outputs": [
    {
     "name": "stderr",
     "output_type": "stream",
     "text": [
      "/var/folders/48/wkr0wgfs17l214pnqtqh2yl80000gn/T/ipykernel_66449/1339784297.py:1: FutureWarning: Indexing with multiple keys (implicitly converted to a tuple of keys) will be deprecated, use a list instead.\n",
      "  df_sales_por_tienda = df_sales.groupby(\"Store\")[\"Sales\", \"Customers\"].mean()\n"
     ]
    },
    {
     "data": {
      "text/html": [
       "<div>\n",
       "<style scoped>\n",
       "    .dataframe tbody tr th:only-of-type {\n",
       "        vertical-align: middle;\n",
       "    }\n",
       "\n",
       "    .dataframe tbody tr th {\n",
       "        vertical-align: top;\n",
       "    }\n",
       "\n",
       "    .dataframe thead th {\n",
       "        text-align: right;\n",
       "    }\n",
       "</style>\n",
       "<table border=\"1\" class=\"dataframe\">\n",
       "  <thead>\n",
       "    <tr style=\"text-align: right;\">\n",
       "      <th></th>\n",
       "      <th>Sales</th>\n",
       "      <th>Customers</th>\n",
       "    </tr>\n",
       "    <tr>\n",
       "      <th>Store</th>\n",
       "      <th></th>\n",
       "      <th></th>\n",
       "    </tr>\n",
       "  </thead>\n",
       "  <tbody>\n",
       "    <tr>\n",
       "      <th>1</th>\n",
       "      <td>3945.704883</td>\n",
       "      <td>467.646497</td>\n",
       "    </tr>\n",
       "    <tr>\n",
       "      <th>2</th>\n",
       "      <td>4122.991507</td>\n",
       "      <td>486.045648</td>\n",
       "    </tr>\n",
       "    <tr>\n",
       "      <th>3</th>\n",
       "      <td>5741.253715</td>\n",
       "      <td>620.286624</td>\n",
       "    </tr>\n",
       "    <tr>\n",
       "      <th>4</th>\n",
       "      <td>8021.769639</td>\n",
       "      <td>1100.057325</td>\n",
       "    </tr>\n",
       "    <tr>\n",
       "      <th>5</th>\n",
       "      <td>3867.110403</td>\n",
       "      <td>444.360934</td>\n",
       "    </tr>\n",
       "    <tr>\n",
       "      <th>...</th>\n",
       "      <td>...</td>\n",
       "      <td>...</td>\n",
       "    </tr>\n",
       "    <tr>\n",
       "      <th>1111</th>\n",
       "      <td>4342.968153</td>\n",
       "      <td>373.548832</td>\n",
       "    </tr>\n",
       "    <tr>\n",
       "      <th>1112</th>\n",
       "      <td>8465.280255</td>\n",
       "      <td>693.498938</td>\n",
       "    </tr>\n",
       "    <tr>\n",
       "      <th>1113</th>\n",
       "      <td>5516.180467</td>\n",
       "      <td>596.763270</td>\n",
       "    </tr>\n",
       "    <tr>\n",
       "      <th>1114</th>\n",
       "      <td>17200.196391</td>\n",
       "      <td>2664.057325</td>\n",
       "    </tr>\n",
       "    <tr>\n",
       "      <th>1115</th>\n",
       "      <td>5225.296178</td>\n",
       "      <td>358.687898</td>\n",
       "    </tr>\n",
       "  </tbody>\n",
       "</table>\n",
       "<p>1115 rows × 2 columns</p>\n",
       "</div>"
      ],
      "text/plain": [
       "              Sales    Customers\n",
       "Store                           \n",
       "1       3945.704883   467.646497\n",
       "2       4122.991507   486.045648\n",
       "3       5741.253715   620.286624\n",
       "4       8021.769639  1100.057325\n",
       "5       3867.110403   444.360934\n",
       "...             ...          ...\n",
       "1111    4342.968153   373.548832\n",
       "1112    8465.280255   693.498938\n",
       "1113    5516.180467   596.763270\n",
       "1114   17200.196391  2664.057325\n",
       "1115    5225.296178   358.687898\n",
       "\n",
       "[1115 rows x 2 columns]"
      ]
     },
     "metadata": {},
     "output_type": "display_data"
    },
    {
     "data": {
      "text/plain": [
       "'\\nSe crea una tabla con columnas Store, Sales y Customers, pero, para cada tienda, da la media de los datos, asi, se podra agregar a la tabla de \"store\", ya que tendran la misma cantidad de datos\\n'"
      ]
     },
     "execution_count": 344,
     "metadata": {},
     "output_type": "execute_result"
    }
   ],
   "source": [
    "df_sales_por_tienda = df_sales.groupby(\"Store\")[\"Sales\", \"Customers\"].mean()\n",
    "display(df_sales_por_tienda)\n",
    "\"\"\"\n",
    "Se crea una tabla con columnas Store, Sales y Customers, pero, para cada tienda, da la media de los datos, asi, se podra agregar a la tabla de \"store\", ya que tendran la misma cantidad de datos\n",
    "\"\"\""
   ]
  },
  {
   "cell_type": "code",
   "execution_count": 345,
   "metadata": {
    "colab": {
     "base_uri": "https://localhost:8080/",
     "height": 459
    },
    "id": "wHjz6t5tzwYG",
    "outputId": "d7140508-2fb1-40b2-fe59-2bde5df8bff7"
   },
   "outputs": [
    {
     "data": {
      "text/html": [
       "<div>\n",
       "<style scoped>\n",
       "    .dataframe tbody tr th:only-of-type {\n",
       "        vertical-align: middle;\n",
       "    }\n",
       "\n",
       "    .dataframe tbody tr th {\n",
       "        vertical-align: top;\n",
       "    }\n",
       "\n",
       "    .dataframe thead th {\n",
       "        text-align: right;\n",
       "    }\n",
       "</style>\n",
       "<table border=\"1\" class=\"dataframe\">\n",
       "  <thead>\n",
       "    <tr style=\"text-align: right;\">\n",
       "      <th></th>\n",
       "      <th>Store</th>\n",
       "      <th>Date</th>\n",
       "    </tr>\n",
       "  </thead>\n",
       "  <tbody>\n",
       "    <tr>\n",
       "      <th>0</th>\n",
       "      <td>1</td>\n",
       "      <td>2013-12-23</td>\n",
       "    </tr>\n",
       "    <tr>\n",
       "      <th>1</th>\n",
       "      <td>2</td>\n",
       "      <td>2014-06-30</td>\n",
       "    </tr>\n",
       "    <tr>\n",
       "      <th>2</th>\n",
       "      <td>3</td>\n",
       "      <td>2014-06-30</td>\n",
       "    </tr>\n",
       "    <tr>\n",
       "      <th>3</th>\n",
       "      <td>4</td>\n",
       "      <td>2013-12-30</td>\n",
       "    </tr>\n",
       "    <tr>\n",
       "      <th>4</th>\n",
       "      <td>5</td>\n",
       "      <td>2013-12-16</td>\n",
       "    </tr>\n",
       "    <tr>\n",
       "      <th>...</th>\n",
       "      <td>...</td>\n",
       "      <td>...</td>\n",
       "    </tr>\n",
       "    <tr>\n",
       "      <th>1110</th>\n",
       "      <td>1111</td>\n",
       "      <td>2013-12-16</td>\n",
       "    </tr>\n",
       "    <tr>\n",
       "      <th>1111</th>\n",
       "      <td>1112</td>\n",
       "      <td>2013-01-07</td>\n",
       "    </tr>\n",
       "    <tr>\n",
       "      <th>1112</th>\n",
       "      <td>1113</td>\n",
       "      <td>2013-12-23</td>\n",
       "    </tr>\n",
       "    <tr>\n",
       "      <th>1113</th>\n",
       "      <td>1114</td>\n",
       "      <td>2013-12-23</td>\n",
       "    </tr>\n",
       "    <tr>\n",
       "      <th>1114</th>\n",
       "      <td>1115</td>\n",
       "      <td>2014-12-15</td>\n",
       "    </tr>\n",
       "  </tbody>\n",
       "</table>\n",
       "<p>1115 rows × 2 columns</p>\n",
       "</div>"
      ],
      "text/plain": [
       "      Store        Date\n",
       "0         1  2013-12-23\n",
       "1         2  2014-06-30\n",
       "2         3  2014-06-30\n",
       "3         4  2013-12-30\n",
       "4         5  2013-12-16\n",
       "...     ...         ...\n",
       "1110   1111  2013-12-16\n",
       "1111   1112  2013-01-07\n",
       "1112   1113  2013-12-23\n",
       "1113   1114  2013-12-23\n",
       "1114   1115  2014-12-15\n",
       "\n",
       "[1115 rows x 2 columns]"
      ]
     },
     "metadata": {},
     "output_type": "display_data"
    },
    {
     "data": {
      "text/plain": [
       "'\\nCada tienda vende en mas de una fecha, porlo tanto, la fecha que se mostrara sera la que mas se repite por tienda\\n'"
      ]
     },
     "execution_count": 345,
     "metadata": {},
     "output_type": "execute_result"
    }
   ],
   "source": [
    "mayor_fecha_por_tienda = df_sales.loc[df_sales.groupby([\"Store\"])[\"Sales\"].idxmax()].reset_index(drop = True)\n",
    "mayor_fecha_por_tienda = mayor_fecha_por_tienda.drop([\"Sales\", \"Customers\"], axis = 1)\n",
    "display(mayor_fecha_por_tienda)\n",
    "\"\"\"\n",
    "Cada tienda vende en mas de una fecha, porlo tanto, la fecha que se mostrara sera la que mas se repite por tienda\n",
    "\"\"\""
   ]
  },
  {
   "cell_type": "code",
   "execution_count": 346,
   "metadata": {
    "colab": {
     "base_uri": "https://localhost:8080/",
     "height": 424
    },
    "id": "d0t53iKB6hzm",
    "outputId": "f2ec34ec-d3ed-43f4-83bf-d4f547c2d3f4"
   },
   "outputs": [
    {
     "data": {
      "text/html": [
       "<div>\n",
       "<style scoped>\n",
       "    .dataframe tbody tr th:only-of-type {\n",
       "        vertical-align: middle;\n",
       "    }\n",
       "\n",
       "    .dataframe tbody tr th {\n",
       "        vertical-align: top;\n",
       "    }\n",
       "\n",
       "    .dataframe thead th {\n",
       "        text-align: right;\n",
       "    }\n",
       "</style>\n",
       "<table border=\"1\" class=\"dataframe\">\n",
       "  <thead>\n",
       "    <tr style=\"text-align: right;\">\n",
       "      <th></th>\n",
       "      <th>Store</th>\n",
       "      <th>Sales</th>\n",
       "      <th>Customers</th>\n",
       "      <th>Date</th>\n",
       "    </tr>\n",
       "  </thead>\n",
       "  <tbody>\n",
       "    <tr>\n",
       "      <th>0</th>\n",
       "      <td>1</td>\n",
       "      <td>3945.704883</td>\n",
       "      <td>467.646497</td>\n",
       "      <td>2013-12-23</td>\n",
       "    </tr>\n",
       "    <tr>\n",
       "      <th>1</th>\n",
       "      <td>2</td>\n",
       "      <td>4122.991507</td>\n",
       "      <td>486.045648</td>\n",
       "      <td>2014-06-30</td>\n",
       "    </tr>\n",
       "    <tr>\n",
       "      <th>2</th>\n",
       "      <td>3</td>\n",
       "      <td>5741.253715</td>\n",
       "      <td>620.286624</td>\n",
       "      <td>2014-06-30</td>\n",
       "    </tr>\n",
       "    <tr>\n",
       "      <th>3</th>\n",
       "      <td>4</td>\n",
       "      <td>8021.769639</td>\n",
       "      <td>1100.057325</td>\n",
       "      <td>2013-12-30</td>\n",
       "    </tr>\n",
       "    <tr>\n",
       "      <th>4</th>\n",
       "      <td>5</td>\n",
       "      <td>3867.110403</td>\n",
       "      <td>444.360934</td>\n",
       "      <td>2013-12-16</td>\n",
       "    </tr>\n",
       "    <tr>\n",
       "      <th>...</th>\n",
       "      <td>...</td>\n",
       "      <td>...</td>\n",
       "      <td>...</td>\n",
       "      <td>...</td>\n",
       "    </tr>\n",
       "    <tr>\n",
       "      <th>1110</th>\n",
       "      <td>1111</td>\n",
       "      <td>4342.968153</td>\n",
       "      <td>373.548832</td>\n",
       "      <td>2013-12-16</td>\n",
       "    </tr>\n",
       "    <tr>\n",
       "      <th>1111</th>\n",
       "      <td>1112</td>\n",
       "      <td>8465.280255</td>\n",
       "      <td>693.498938</td>\n",
       "      <td>2013-01-07</td>\n",
       "    </tr>\n",
       "    <tr>\n",
       "      <th>1112</th>\n",
       "      <td>1113</td>\n",
       "      <td>5516.180467</td>\n",
       "      <td>596.763270</td>\n",
       "      <td>2013-12-23</td>\n",
       "    </tr>\n",
       "    <tr>\n",
       "      <th>1113</th>\n",
       "      <td>1114</td>\n",
       "      <td>17200.196391</td>\n",
       "      <td>2664.057325</td>\n",
       "      <td>2013-12-23</td>\n",
       "    </tr>\n",
       "    <tr>\n",
       "      <th>1114</th>\n",
       "      <td>1115</td>\n",
       "      <td>5225.296178</td>\n",
       "      <td>358.687898</td>\n",
       "      <td>2014-12-15</td>\n",
       "    </tr>\n",
       "  </tbody>\n",
       "</table>\n",
       "<p>1115 rows × 4 columns</p>\n",
       "</div>"
      ],
      "text/plain": [
       "      Store         Sales    Customers        Date\n",
       "0         1   3945.704883   467.646497  2013-12-23\n",
       "1         2   4122.991507   486.045648  2014-06-30\n",
       "2         3   5741.253715   620.286624  2014-06-30\n",
       "3         4   8021.769639  1100.057325  2013-12-30\n",
       "4         5   3867.110403   444.360934  2013-12-16\n",
       "...     ...           ...          ...         ...\n",
       "1110   1111   4342.968153   373.548832  2013-12-16\n",
       "1111   1112   8465.280255   693.498938  2013-01-07\n",
       "1112   1113   5516.180467   596.763270  2013-12-23\n",
       "1113   1114  17200.196391  2664.057325  2013-12-23\n",
       "1114   1115   5225.296178   358.687898  2014-12-15\n",
       "\n",
       "[1115 rows x 4 columns]"
      ]
     },
     "metadata": {},
     "output_type": "display_data"
    }
   ],
   "source": [
    "df_sales_por_tienda = pd.merge(df_sales_por_tienda, mayor_fecha_por_tienda, on = \"Store\")\n",
    "display(df_sales_por_tienda)"
   ]
  },
  {
   "cell_type": "markdown",
   "metadata": {
    "id": "_V7OhoMCuUSC"
   },
   "source": [
    "De: https://www.geeksforgeeks.org/how-to-drop-one-or-multiple-columns-in-pandas-dataframe/"
   ]
  },
  {
   "cell_type": "code",
   "execution_count": 347,
   "metadata": {
    "colab": {
     "base_uri": "https://localhost:8080/",
     "height": 661
    },
    "id": "U_qLY29jrp37",
    "outputId": "c1463dce-1de1-4d40-845b-744406ee1646"
   },
   "outputs": [
    {
     "data": {
      "text/html": [
       "<div>\n",
       "<style scoped>\n",
       "    .dataframe tbody tr th:only-of-type {\n",
       "        vertical-align: middle;\n",
       "    }\n",
       "\n",
       "    .dataframe tbody tr th {\n",
       "        vertical-align: top;\n",
       "    }\n",
       "\n",
       "    .dataframe thead th {\n",
       "        text-align: right;\n",
       "    }\n",
       "</style>\n",
       "<table border=\"1\" class=\"dataframe\">\n",
       "  <thead>\n",
       "    <tr style=\"text-align: right;\">\n",
       "      <th></th>\n",
       "      <th>Store</th>\n",
       "      <th>StoreType</th>\n",
       "      <th>Assortment</th>\n",
       "      <th>CompetitionDistance</th>\n",
       "      <th>Promo2</th>\n",
       "      <th>CompetitionDistance_log</th>\n",
       "      <th>Sales</th>\n",
       "      <th>Customers</th>\n",
       "      <th>Date</th>\n",
       "    </tr>\n",
       "  </thead>\n",
       "  <tbody>\n",
       "    <tr>\n",
       "      <th>0</th>\n",
       "      <td>1</td>\n",
       "      <td>c</td>\n",
       "      <td>a</td>\n",
       "      <td>1270.0</td>\n",
       "      <td>0</td>\n",
       "      <td>7.146772</td>\n",
       "      <td>3945.704883</td>\n",
       "      <td>467.646497</td>\n",
       "      <td>2013-12-23</td>\n",
       "    </tr>\n",
       "    <tr>\n",
       "      <th>1</th>\n",
       "      <td>2</td>\n",
       "      <td>a</td>\n",
       "      <td>a</td>\n",
       "      <td>570.0</td>\n",
       "      <td>1</td>\n",
       "      <td>6.345636</td>\n",
       "      <td>4122.991507</td>\n",
       "      <td>486.045648</td>\n",
       "      <td>2014-06-30</td>\n",
       "    </tr>\n",
       "    <tr>\n",
       "      <th>2</th>\n",
       "      <td>3</td>\n",
       "      <td>a</td>\n",
       "      <td>a</td>\n",
       "      <td>14130.0</td>\n",
       "      <td>1</td>\n",
       "      <td>9.556055</td>\n",
       "      <td>5741.253715</td>\n",
       "      <td>620.286624</td>\n",
       "      <td>2014-06-30</td>\n",
       "    </tr>\n",
       "    <tr>\n",
       "      <th>3</th>\n",
       "      <td>4</td>\n",
       "      <td>c</td>\n",
       "      <td>c</td>\n",
       "      <td>620.0</td>\n",
       "      <td>0</td>\n",
       "      <td>6.429719</td>\n",
       "      <td>8021.769639</td>\n",
       "      <td>1100.057325</td>\n",
       "      <td>2013-12-30</td>\n",
       "    </tr>\n",
       "    <tr>\n",
       "      <th>4</th>\n",
       "      <td>5</td>\n",
       "      <td>a</td>\n",
       "      <td>a</td>\n",
       "      <td>29910.0</td>\n",
       "      <td>0</td>\n",
       "      <td>10.305948</td>\n",
       "      <td>3867.110403</td>\n",
       "      <td>444.360934</td>\n",
       "      <td>2013-12-16</td>\n",
       "    </tr>\n",
       "    <tr>\n",
       "      <th>...</th>\n",
       "      <td>...</td>\n",
       "      <td>...</td>\n",
       "      <td>...</td>\n",
       "      <td>...</td>\n",
       "      <td>...</td>\n",
       "      <td>...</td>\n",
       "      <td>...</td>\n",
       "      <td>...</td>\n",
       "      <td>...</td>\n",
       "    </tr>\n",
       "    <tr>\n",
       "      <th>1110</th>\n",
       "      <td>1111</td>\n",
       "      <td>a</td>\n",
       "      <td>a</td>\n",
       "      <td>1900.0</td>\n",
       "      <td>1</td>\n",
       "      <td>7.549609</td>\n",
       "      <td>4342.968153</td>\n",
       "      <td>373.548832</td>\n",
       "      <td>2013-12-16</td>\n",
       "    </tr>\n",
       "    <tr>\n",
       "      <th>1111</th>\n",
       "      <td>1112</td>\n",
       "      <td>c</td>\n",
       "      <td>c</td>\n",
       "      <td>1880.0</td>\n",
       "      <td>0</td>\n",
       "      <td>7.539027</td>\n",
       "      <td>8465.280255</td>\n",
       "      <td>693.498938</td>\n",
       "      <td>2013-01-07</td>\n",
       "    </tr>\n",
       "    <tr>\n",
       "      <th>1112</th>\n",
       "      <td>1113</td>\n",
       "      <td>a</td>\n",
       "      <td>c</td>\n",
       "      <td>9260.0</td>\n",
       "      <td>0</td>\n",
       "      <td>9.133459</td>\n",
       "      <td>5516.180467</td>\n",
       "      <td>596.763270</td>\n",
       "      <td>2013-12-23</td>\n",
       "    </tr>\n",
       "    <tr>\n",
       "      <th>1113</th>\n",
       "      <td>1114</td>\n",
       "      <td>a</td>\n",
       "      <td>c</td>\n",
       "      <td>870.0</td>\n",
       "      <td>0</td>\n",
       "      <td>6.768493</td>\n",
       "      <td>17200.196391</td>\n",
       "      <td>2664.057325</td>\n",
       "      <td>2013-12-23</td>\n",
       "    </tr>\n",
       "    <tr>\n",
       "      <th>1114</th>\n",
       "      <td>1115</td>\n",
       "      <td>d</td>\n",
       "      <td>c</td>\n",
       "      <td>5350.0</td>\n",
       "      <td>1</td>\n",
       "      <td>8.584852</td>\n",
       "      <td>5225.296178</td>\n",
       "      <td>358.687898</td>\n",
       "      <td>2014-12-15</td>\n",
       "    </tr>\n",
       "  </tbody>\n",
       "</table>\n",
       "<p>1115 rows × 9 columns</p>\n",
       "</div>"
      ],
      "text/plain": [
       "      Store StoreType Assortment  CompetitionDistance  Promo2  \\\n",
       "0         1         c          a               1270.0       0   \n",
       "1         2         a          a                570.0       1   \n",
       "2         3         a          a              14130.0       1   \n",
       "3         4         c          c                620.0       0   \n",
       "4         5         a          a              29910.0       0   \n",
       "...     ...       ...        ...                  ...     ...   \n",
       "1110   1111         a          a               1900.0       1   \n",
       "1111   1112         c          c               1880.0       0   \n",
       "1112   1113         a          c               9260.0       0   \n",
       "1113   1114         a          c                870.0       0   \n",
       "1114   1115         d          c               5350.0       1   \n",
       "\n",
       "      CompetitionDistance_log         Sales    Customers        Date  \n",
       "0                    7.146772   3945.704883   467.646497  2013-12-23  \n",
       "1                    6.345636   4122.991507   486.045648  2014-06-30  \n",
       "2                    9.556055   5741.253715   620.286624  2014-06-30  \n",
       "3                    6.429719   8021.769639  1100.057325  2013-12-30  \n",
       "4                   10.305948   3867.110403   444.360934  2013-12-16  \n",
       "...                       ...           ...          ...         ...  \n",
       "1110                 7.549609   4342.968153   373.548832  2013-12-16  \n",
       "1111                 7.539027   8465.280255   693.498938  2013-01-07  \n",
       "1112                 9.133459   5516.180467   596.763270  2013-12-23  \n",
       "1113                 6.768493  17200.196391  2664.057325  2013-12-23  \n",
       "1114                 8.584852   5225.296178   358.687898  2014-12-15  \n",
       "\n",
       "[1115 rows x 9 columns]"
      ]
     },
     "metadata": {},
     "output_type": "display_data"
    }
   ],
   "source": [
    "df = pd.merge(df_store, df_sales_por_tienda, on = \"Store\")\n",
    "display(df)"
   ]
  },
  {
   "cell_type": "markdown",
   "metadata": {
    "id": "07Bqv-cTuRl5"
   },
   "source": [
    "De: https://www.geeksforgeeks.org/how-to-combine-two-dataframe-in-python-pandas/"
   ]
  },
  {
   "cell_type": "code",
   "execution_count": 348,
   "metadata": {
    "colab": {
     "base_uri": "https://localhost:8080/",
     "height": 661
    },
    "id": "-m7ifIrD3xwH",
    "outputId": "e3822e45-4900-48a7-ae08-a242628fd4b6"
   },
   "outputs": [
    {
     "data": {
      "text/html": [
       "<div>\n",
       "<style scoped>\n",
       "    .dataframe tbody tr th:only-of-type {\n",
       "        vertical-align: middle;\n",
       "    }\n",
       "\n",
       "    .dataframe tbody tr th {\n",
       "        vertical-align: top;\n",
       "    }\n",
       "\n",
       "    .dataframe thead th {\n",
       "        text-align: right;\n",
       "    }\n",
       "</style>\n",
       "<table border=\"1\" class=\"dataframe\">\n",
       "  <thead>\n",
       "    <tr style=\"text-align: right;\">\n",
       "      <th></th>\n",
       "      <th>Store</th>\n",
       "      <th>StoreType</th>\n",
       "      <th>Assortment</th>\n",
       "      <th>CompetitionDistance</th>\n",
       "      <th>Promo2</th>\n",
       "      <th>CompetitionDistance_log</th>\n",
       "      <th>Sales</th>\n",
       "      <th>Customers</th>\n",
       "      <th>Date</th>\n",
       "    </tr>\n",
       "  </thead>\n",
       "  <tbody>\n",
       "    <tr>\n",
       "      <th>0</th>\n",
       "      <td>1</td>\n",
       "      <td>c</td>\n",
       "      <td>a</td>\n",
       "      <td>1270.0</td>\n",
       "      <td>0</td>\n",
       "      <td>7.146772</td>\n",
       "      <td>3945.704883</td>\n",
       "      <td>467.646497</td>\n",
       "      <td>2013-12-23</td>\n",
       "    </tr>\n",
       "    <tr>\n",
       "      <th>1</th>\n",
       "      <td>2</td>\n",
       "      <td>a</td>\n",
       "      <td>a</td>\n",
       "      <td>570.0</td>\n",
       "      <td>1</td>\n",
       "      <td>6.345636</td>\n",
       "      <td>4122.991507</td>\n",
       "      <td>486.045648</td>\n",
       "      <td>2014-06-30</td>\n",
       "    </tr>\n",
       "    <tr>\n",
       "      <th>2</th>\n",
       "      <td>3</td>\n",
       "      <td>a</td>\n",
       "      <td>a</td>\n",
       "      <td>14130.0</td>\n",
       "      <td>1</td>\n",
       "      <td>9.556055</td>\n",
       "      <td>5741.253715</td>\n",
       "      <td>620.286624</td>\n",
       "      <td>2014-06-30</td>\n",
       "    </tr>\n",
       "    <tr>\n",
       "      <th>3</th>\n",
       "      <td>4</td>\n",
       "      <td>c</td>\n",
       "      <td>c</td>\n",
       "      <td>620.0</td>\n",
       "      <td>0</td>\n",
       "      <td>6.429719</td>\n",
       "      <td>8021.769639</td>\n",
       "      <td>1100.057325</td>\n",
       "      <td>2013-12-30</td>\n",
       "    </tr>\n",
       "    <tr>\n",
       "      <th>4</th>\n",
       "      <td>5</td>\n",
       "      <td>a</td>\n",
       "      <td>a</td>\n",
       "      <td>29910.0</td>\n",
       "      <td>0</td>\n",
       "      <td>10.305948</td>\n",
       "      <td>3867.110403</td>\n",
       "      <td>444.360934</td>\n",
       "      <td>2013-12-16</td>\n",
       "    </tr>\n",
       "    <tr>\n",
       "      <th>...</th>\n",
       "      <td>...</td>\n",
       "      <td>...</td>\n",
       "      <td>...</td>\n",
       "      <td>...</td>\n",
       "      <td>...</td>\n",
       "      <td>...</td>\n",
       "      <td>...</td>\n",
       "      <td>...</td>\n",
       "      <td>...</td>\n",
       "    </tr>\n",
       "    <tr>\n",
       "      <th>1110</th>\n",
       "      <td>1111</td>\n",
       "      <td>a</td>\n",
       "      <td>a</td>\n",
       "      <td>1900.0</td>\n",
       "      <td>1</td>\n",
       "      <td>7.549609</td>\n",
       "      <td>4342.968153</td>\n",
       "      <td>373.548832</td>\n",
       "      <td>2013-12-16</td>\n",
       "    </tr>\n",
       "    <tr>\n",
       "      <th>1111</th>\n",
       "      <td>1112</td>\n",
       "      <td>c</td>\n",
       "      <td>c</td>\n",
       "      <td>1880.0</td>\n",
       "      <td>0</td>\n",
       "      <td>7.539027</td>\n",
       "      <td>8465.280255</td>\n",
       "      <td>693.498938</td>\n",
       "      <td>2013-01-07</td>\n",
       "    </tr>\n",
       "    <tr>\n",
       "      <th>1112</th>\n",
       "      <td>1113</td>\n",
       "      <td>a</td>\n",
       "      <td>c</td>\n",
       "      <td>9260.0</td>\n",
       "      <td>0</td>\n",
       "      <td>9.133459</td>\n",
       "      <td>5516.180467</td>\n",
       "      <td>596.763270</td>\n",
       "      <td>2013-12-23</td>\n",
       "    </tr>\n",
       "    <tr>\n",
       "      <th>1113</th>\n",
       "      <td>1114</td>\n",
       "      <td>a</td>\n",
       "      <td>c</td>\n",
       "      <td>870.0</td>\n",
       "      <td>0</td>\n",
       "      <td>6.768493</td>\n",
       "      <td>17200.196391</td>\n",
       "      <td>2664.057325</td>\n",
       "      <td>2013-12-23</td>\n",
       "    </tr>\n",
       "    <tr>\n",
       "      <th>1114</th>\n",
       "      <td>1115</td>\n",
       "      <td>d</td>\n",
       "      <td>c</td>\n",
       "      <td>5350.0</td>\n",
       "      <td>1</td>\n",
       "      <td>8.584852</td>\n",
       "      <td>5225.296178</td>\n",
       "      <td>358.687898</td>\n",
       "      <td>2014-12-15</td>\n",
       "    </tr>\n",
       "  </tbody>\n",
       "</table>\n",
       "<p>1115 rows × 9 columns</p>\n",
       "</div>"
      ],
      "text/plain": [
       "      Store StoreType Assortment  CompetitionDistance  Promo2  \\\n",
       "0         1         c          a               1270.0       0   \n",
       "1         2         a          a                570.0       1   \n",
       "2         3         a          a              14130.0       1   \n",
       "3         4         c          c                620.0       0   \n",
       "4         5         a          a              29910.0       0   \n",
       "...     ...       ...        ...                  ...     ...   \n",
       "1110   1111         a          a               1900.0       1   \n",
       "1111   1112         c          c               1880.0       0   \n",
       "1112   1113         a          c               9260.0       0   \n",
       "1113   1114         a          c                870.0       0   \n",
       "1114   1115         d          c               5350.0       1   \n",
       "\n",
       "      CompetitionDistance_log         Sales    Customers        Date  \n",
       "0                    7.146772   3945.704883   467.646497  2013-12-23  \n",
       "1                    6.345636   4122.991507   486.045648  2014-06-30  \n",
       "2                    9.556055   5741.253715   620.286624  2014-06-30  \n",
       "3                    6.429719   8021.769639  1100.057325  2013-12-30  \n",
       "4                   10.305948   3867.110403   444.360934  2013-12-16  \n",
       "...                       ...           ...          ...         ...  \n",
       "1110                 7.549609   4342.968153   373.548832  2013-12-16  \n",
       "1111                 7.539027   8465.280255   693.498938  2013-01-07  \n",
       "1112                 9.133459   5516.180467   596.763270  2013-12-23  \n",
       "1113                 6.768493  17200.196391  2664.057325  2013-12-23  \n",
       "1114                 8.584852   5225.296178   358.687898  2014-12-15  \n",
       "\n",
       "[1115 rows x 9 columns]"
      ]
     },
     "metadata": {},
     "output_type": "display_data"
    },
    {
     "data": {
      "text/plain": [
       "'\\nPuesto que para las misiones que quedan se usara el Dataframe anterior, se creara una copia en cada mision para dejar intacto el original\\n'"
      ]
     },
     "execution_count": 348,
     "metadata": {},
     "output_type": "execute_result"
    }
   ],
   "source": [
    "df_p2 = df.copy()\n",
    "display(df_p2)\n",
    "\"\"\"\n",
    "Puesto que para las misiones que quedan se usara el Dataframe anterior, se creara una copia en cada mision para dejar intacto el original\n",
    "\"\"\""
   ]
  },
  {
   "cell_type": "code",
   "execution_count": 349,
   "metadata": {
    "colab": {
     "base_uri": "https://localhost:8080/",
     "height": 1000
    },
    "id": "QXUgl88GxhNZ",
    "outputId": "1cb9d8ae-6de0-42b0-e482-27eced250fd3"
   },
   "outputs": [
    {
     "data": {
      "text/html": [
       "<div>\n",
       "<style scoped>\n",
       "    .dataframe tbody tr th:only-of-type {\n",
       "        vertical-align: middle;\n",
       "    }\n",
       "\n",
       "    .dataframe tbody tr th {\n",
       "        vertical-align: top;\n",
       "    }\n",
       "\n",
       "    .dataframe thead th {\n",
       "        text-align: right;\n",
       "    }\n",
       "</style>\n",
       "<table border=\"1\" class=\"dataframe\">\n",
       "  <thead>\n",
       "    <tr style=\"text-align: right;\">\n",
       "      <th></th>\n",
       "      <th>Store</th>\n",
       "      <th>StoreType</th>\n",
       "      <th>Assortment</th>\n",
       "      <th>CompetitionDistance</th>\n",
       "      <th>Promo2</th>\n",
       "      <th>CompetitionDistance_log</th>\n",
       "      <th>Sales</th>\n",
       "      <th>Customers</th>\n",
       "      <th>Date</th>\n",
       "    </tr>\n",
       "  </thead>\n",
       "  <tbody>\n",
       "    <tr>\n",
       "      <th>24</th>\n",
       "      <td>25</td>\n",
       "      <td>c</td>\n",
       "      <td>a</td>\n",
       "      <td>430.0</td>\n",
       "      <td>0</td>\n",
       "      <td>6.063785</td>\n",
       "      <td>8892.311040</td>\n",
       "      <td>1250.288747</td>\n",
       "      <td>2014-02-14</td>\n",
       "    </tr>\n",
       "    <tr>\n",
       "      <th>1096</th>\n",
       "      <td>1097</td>\n",
       "      <td>b</td>\n",
       "      <td>b</td>\n",
       "      <td>720.0</td>\n",
       "      <td>0</td>\n",
       "      <td>6.579251</td>\n",
       "      <td>9744.599788</td>\n",
       "      <td>2420.921444</td>\n",
       "      <td>2015-05-01</td>\n",
       "    </tr>\n",
       "    <tr>\n",
       "      <th>467</th>\n",
       "      <td>468</td>\n",
       "      <td>c</td>\n",
       "      <td>c</td>\n",
       "      <td>5260.0</td>\n",
       "      <td>0</td>\n",
       "      <td>8.567886</td>\n",
       "      <td>5550.970276</td>\n",
       "      <td>628.019108</td>\n",
       "      <td>2013-12-23</td>\n",
       "    </tr>\n",
       "    <tr>\n",
       "      <th>917</th>\n",
       "      <td>918</td>\n",
       "      <td>a</td>\n",
       "      <td>c</td>\n",
       "      <td>18710.0</td>\n",
       "      <td>0</td>\n",
       "      <td>9.836813</td>\n",
       "      <td>4295.193206</td>\n",
       "      <td>457.851380</td>\n",
       "      <td>2013-12-23</td>\n",
       "    </tr>\n",
       "    <tr>\n",
       "      <th>504</th>\n",
       "      <td>505</td>\n",
       "      <td>a</td>\n",
       "      <td>a</td>\n",
       "      <td>350.0</td>\n",
       "      <td>1</td>\n",
       "      <td>5.857933</td>\n",
       "      <td>3939.670913</td>\n",
       "      <td>490.459660</td>\n",
       "      <td>2014-12-15</td>\n",
       "    </tr>\n",
       "    <tr>\n",
       "      <th>...</th>\n",
       "      <td>...</td>\n",
       "      <td>...</td>\n",
       "      <td>...</td>\n",
       "      <td>...</td>\n",
       "      <td>...</td>\n",
       "      <td>...</td>\n",
       "      <td>...</td>\n",
       "      <td>...</td>\n",
       "      <td>...</td>\n",
       "    </tr>\n",
       "    <tr>\n",
       "      <th>0</th>\n",
       "      <td>1</td>\n",
       "      <td>c</td>\n",
       "      <td>a</td>\n",
       "      <td>1270.0</td>\n",
       "      <td>0</td>\n",
       "      <td>7.146772</td>\n",
       "      <td>3945.704883</td>\n",
       "      <td>467.646497</td>\n",
       "      <td>2013-12-23</td>\n",
       "    </tr>\n",
       "    <tr>\n",
       "      <th>123</th>\n",
       "      <td>124</td>\n",
       "      <td>a</td>\n",
       "      <td>a</td>\n",
       "      <td>1410.0</td>\n",
       "      <td>0</td>\n",
       "      <td>7.251345</td>\n",
       "      <td>3658.609342</td>\n",
       "      <td>434.720807</td>\n",
       "      <td>2013-05-31</td>\n",
       "    </tr>\n",
       "    <tr>\n",
       "      <th>815</th>\n",
       "      <td>816</td>\n",
       "      <td>c</td>\n",
       "      <td>c</td>\n",
       "      <td>460.0</td>\n",
       "      <td>0</td>\n",
       "      <td>6.131226</td>\n",
       "      <td>4244.869427</td>\n",
       "      <td>614.125265</td>\n",
       "      <td>2013-05-31</td>\n",
       "    </tr>\n",
       "    <tr>\n",
       "      <th>65</th>\n",
       "      <td>66</td>\n",
       "      <td>d</td>\n",
       "      <td>a</td>\n",
       "      <td>7660.0</td>\n",
       "      <td>1</td>\n",
       "      <td>8.943767</td>\n",
       "      <td>5043.373673</td>\n",
       "      <td>432.263270</td>\n",
       "      <td>2013-12-23</td>\n",
       "    </tr>\n",
       "    <tr>\n",
       "      <th>56</th>\n",
       "      <td>57</td>\n",
       "      <td>d</td>\n",
       "      <td>c</td>\n",
       "      <td>420.0</td>\n",
       "      <td>0</td>\n",
       "      <td>6.040255</td>\n",
       "      <td>8657.784501</td>\n",
       "      <td>808.026539</td>\n",
       "      <td>2014-06-16</td>\n",
       "    </tr>\n",
       "  </tbody>\n",
       "</table>\n",
       "<p>892 rows × 9 columns</p>\n",
       "</div>"
      ],
      "text/plain": [
       "      Store StoreType Assortment  CompetitionDistance  Promo2  \\\n",
       "24       25         c          a                430.0       0   \n",
       "1096   1097         b          b                720.0       0   \n",
       "467     468         c          c               5260.0       0   \n",
       "917     918         a          c              18710.0       0   \n",
       "504     505         a          a                350.0       1   \n",
       "...     ...       ...        ...                  ...     ...   \n",
       "0         1         c          a               1270.0       0   \n",
       "123     124         a          a               1410.0       0   \n",
       "815     816         c          c                460.0       0   \n",
       "65       66         d          a               7660.0       1   \n",
       "56       57         d          c                420.0       0   \n",
       "\n",
       "      CompetitionDistance_log        Sales    Customers        Date  \n",
       "24                   6.063785  8892.311040  1250.288747  2014-02-14  \n",
       "1096                 6.579251  9744.599788  2420.921444  2015-05-01  \n",
       "467                  8.567886  5550.970276   628.019108  2013-12-23  \n",
       "917                  9.836813  4295.193206   457.851380  2013-12-23  \n",
       "504                  5.857933  3939.670913   490.459660  2014-12-15  \n",
       "...                       ...          ...          ...         ...  \n",
       "0                    7.146772  3945.704883   467.646497  2013-12-23  \n",
       "123                  7.251345  3658.609342   434.720807  2013-05-31  \n",
       "815                  6.131226  4244.869427   614.125265  2013-05-31  \n",
       "65                   8.943767  5043.373673   432.263270  2013-12-23  \n",
       "56                   6.040255  8657.784501   808.026539  2014-06-16  \n",
       "\n",
       "[892 rows x 9 columns]"
      ]
     },
     "metadata": {},
     "output_type": "display_data"
    },
    {
     "data": {
      "text/html": [
       "<div>\n",
       "<style scoped>\n",
       "    .dataframe tbody tr th:only-of-type {\n",
       "        vertical-align: middle;\n",
       "    }\n",
       "\n",
       "    .dataframe tbody tr th {\n",
       "        vertical-align: top;\n",
       "    }\n",
       "\n",
       "    .dataframe thead th {\n",
       "        text-align: right;\n",
       "    }\n",
       "</style>\n",
       "<table border=\"1\" class=\"dataframe\">\n",
       "  <thead>\n",
       "    <tr style=\"text-align: right;\">\n",
       "      <th></th>\n",
       "      <th>Store</th>\n",
       "      <th>StoreType</th>\n",
       "      <th>Assortment</th>\n",
       "      <th>CompetitionDistance</th>\n",
       "      <th>Promo2</th>\n",
       "      <th>CompetitionDistance_log</th>\n",
       "      <th>Sales</th>\n",
       "      <th>Customers</th>\n",
       "      <th>Date</th>\n",
       "    </tr>\n",
       "  </thead>\n",
       "  <tbody>\n",
       "    <tr>\n",
       "      <th>38</th>\n",
       "      <td>39</td>\n",
       "      <td>a</td>\n",
       "      <td>a</td>\n",
       "      <td>260.0</td>\n",
       "      <td>1</td>\n",
       "      <td>5.560682</td>\n",
       "      <td>4012.901274</td>\n",
       "      <td>520.669851</td>\n",
       "      <td>2015-04-30</td>\n",
       "    </tr>\n",
       "    <tr>\n",
       "      <th>411</th>\n",
       "      <td>412</td>\n",
       "      <td>d</td>\n",
       "      <td>c</td>\n",
       "      <td>4460.0</td>\n",
       "      <td>1</td>\n",
       "      <td>8.402904</td>\n",
       "      <td>7469.023747</td>\n",
       "      <td>529.040897</td>\n",
       "      <td>2015-05-02</td>\n",
       "    </tr>\n",
       "    <tr>\n",
       "      <th>285</th>\n",
       "      <td>286</td>\n",
       "      <td>a</td>\n",
       "      <td>a</td>\n",
       "      <td>1460.0</td>\n",
       "      <td>0</td>\n",
       "      <td>7.286192</td>\n",
       "      <td>4075.129512</td>\n",
       "      <td>355.971338</td>\n",
       "      <td>2013-12-16</td>\n",
       "    </tr>\n",
       "    <tr>\n",
       "      <th>689</th>\n",
       "      <td>690</td>\n",
       "      <td>a</td>\n",
       "      <td>a</td>\n",
       "      <td>100.0</td>\n",
       "      <td>0</td>\n",
       "      <td>4.605170</td>\n",
       "      <td>4622.717622</td>\n",
       "      <td>655.080679</td>\n",
       "      <td>2013-11-18</td>\n",
       "    </tr>\n",
       "    <tr>\n",
       "      <th>442</th>\n",
       "      <td>443</td>\n",
       "      <td>d</td>\n",
       "      <td>a</td>\n",
       "      <td>11400.0</td>\n",
       "      <td>0</td>\n",
       "      <td>9.341369</td>\n",
       "      <td>4348.041401</td>\n",
       "      <td>404.784501</td>\n",
       "      <td>2013-12-16</td>\n",
       "    </tr>\n",
       "    <tr>\n",
       "      <th>...</th>\n",
       "      <td>...</td>\n",
       "      <td>...</td>\n",
       "      <td>...</td>\n",
       "      <td>...</td>\n",
       "      <td>...</td>\n",
       "      <td>...</td>\n",
       "      <td>...</td>\n",
       "      <td>...</td>\n",
       "      <td>...</td>\n",
       "    </tr>\n",
       "    <tr>\n",
       "      <th>539</th>\n",
       "      <td>540</td>\n",
       "      <td>d</td>\n",
       "      <td>c</td>\n",
       "      <td>810.0</td>\n",
       "      <td>1</td>\n",
       "      <td>6.697034</td>\n",
       "      <td>4635.451187</td>\n",
       "      <td>321.102902</td>\n",
       "      <td>2014-06-30</td>\n",
       "    </tr>\n",
       "    <tr>\n",
       "      <th>775</th>\n",
       "      <td>776</td>\n",
       "      <td>c</td>\n",
       "      <td>a</td>\n",
       "      <td>700.0</td>\n",
       "      <td>1</td>\n",
       "      <td>6.551080</td>\n",
       "      <td>3958.099788</td>\n",
       "      <td>440.366242</td>\n",
       "      <td>2014-06-30</td>\n",
       "    </tr>\n",
       "    <tr>\n",
       "      <th>401</th>\n",
       "      <td>402</td>\n",
       "      <td>c</td>\n",
       "      <td>c</td>\n",
       "      <td>5830.0</td>\n",
       "      <td>1</td>\n",
       "      <td>8.670772</td>\n",
       "      <td>4850.565817</td>\n",
       "      <td>509.589172</td>\n",
       "      <td>2013-12-23</td>\n",
       "    </tr>\n",
       "    <tr>\n",
       "      <th>535</th>\n",
       "      <td>536</td>\n",
       "      <td>a</td>\n",
       "      <td>c</td>\n",
       "      <td>4700.0</td>\n",
       "      <td>1</td>\n",
       "      <td>8.455318</td>\n",
       "      <td>6883.328025</td>\n",
       "      <td>730.237792</td>\n",
       "      <td>2013-12-16</td>\n",
       "    </tr>\n",
       "    <tr>\n",
       "      <th>350</th>\n",
       "      <td>351</td>\n",
       "      <td>a</td>\n",
       "      <td>a</td>\n",
       "      <td>5290.0</td>\n",
       "      <td>1</td>\n",
       "      <td>8.573574</td>\n",
       "      <td>5000.541401</td>\n",
       "      <td>429.048832</td>\n",
       "      <td>2013-12-16</td>\n",
       "    </tr>\n",
       "  </tbody>\n",
       "</table>\n",
       "<p>223 rows × 9 columns</p>\n",
       "</div>"
      ],
      "text/plain": [
       "     Store StoreType Assortment  CompetitionDistance  Promo2  \\\n",
       "38      39         a          a                260.0       1   \n",
       "411    412         d          c               4460.0       1   \n",
       "285    286         a          a               1460.0       0   \n",
       "689    690         a          a                100.0       0   \n",
       "442    443         d          a              11400.0       0   \n",
       "..     ...       ...        ...                  ...     ...   \n",
       "539    540         d          c                810.0       1   \n",
       "775    776         c          a                700.0       1   \n",
       "401    402         c          c               5830.0       1   \n",
       "535    536         a          c               4700.0       1   \n",
       "350    351         a          a               5290.0       1   \n",
       "\n",
       "     CompetitionDistance_log        Sales   Customers        Date  \n",
       "38                  5.560682  4012.901274  520.669851  2015-04-30  \n",
       "411                 8.402904  7469.023747  529.040897  2015-05-02  \n",
       "285                 7.286192  4075.129512  355.971338  2013-12-16  \n",
       "689                 4.605170  4622.717622  655.080679  2013-11-18  \n",
       "442                 9.341369  4348.041401  404.784501  2013-12-16  \n",
       "..                       ...          ...         ...         ...  \n",
       "539                 6.697034  4635.451187  321.102902  2014-06-30  \n",
       "775                 6.551080  3958.099788  440.366242  2014-06-30  \n",
       "401                 8.670772  4850.565817  509.589172  2013-12-23  \n",
       "535                 8.455318  6883.328025  730.237792  2013-12-16  \n",
       "350                 8.573574  5000.541401  429.048832  2013-12-16  \n",
       "\n",
       "[223 rows x 9 columns]"
      ]
     },
     "metadata": {},
     "output_type": "display_data"
    },
    {
     "name": "stdout",
     "output_type": "stream",
     "text": [
      "Tamaño set entrenamiento: 892\n",
      "Tamaño set test: 223\n"
     ]
    },
    {
     "data": {
      "text/plain": [
       "'\\nSe crea el set de entrenamiento y el de prueba, con razon 80 a 20\\n'"
      ]
     },
     "execution_count": 349,
     "metadata": {},
     "output_type": "execute_result"
    }
   ],
   "source": [
    "training_set, test_set = train_test_split(df_p2.copy(), test_size = 0.2)\n",
    "display(training_set)\n",
    "display(test_set)\n",
    "print(f'Tamaño set entrenamiento: {len(training_set)}')\n",
    "print(f'Tamaño set test: {len(test_set)}')\n",
    "\"\"\"\n",
    "Se crea el set de entrenamiento y el de prueba, con razon 80 a 20\n",
    "\"\"\""
   ]
  },
  {
   "cell_type": "markdown",
   "metadata": {
    "id": "pGKzQO-ixAEB"
   },
   "source": [
    "### Clasificación: Predecir StoreType"
   ]
  },
  {
   "cell_type": "code",
   "execution_count": 350,
   "metadata": {},
   "outputs": [
    {
     "name": "stdout",
     "output_type": "stream",
     "text": [
      "Requirement already satisfied: seaborn in /Library/Frameworks/Python.framework/Versions/3.10/lib/python3.10/site-packages (0.12.0)\n",
      "Requirement already satisfied: numpy>=1.17 in /Library/Frameworks/Python.framework/Versions/3.10/lib/python3.10/site-packages (from seaborn) (1.23.3)\n",
      "Requirement already satisfied: pandas>=0.25 in /Library/Frameworks/Python.framework/Versions/3.10/lib/python3.10/site-packages (from seaborn) (1.5.0)\n",
      "Requirement already satisfied: matplotlib>=3.1 in /Library/Frameworks/Python.framework/Versions/3.10/lib/python3.10/site-packages (from seaborn) (3.6.0)\n",
      "Requirement already satisfied: contourpy>=1.0.1 in /Library/Frameworks/Python.framework/Versions/3.10/lib/python3.10/site-packages (from matplotlib>=3.1->seaborn) (1.0.5)\n",
      "Requirement already satisfied: pyparsing>=2.2.1 in /Library/Frameworks/Python.framework/Versions/3.10/lib/python3.10/site-packages (from matplotlib>=3.1->seaborn) (3.0.9)\n",
      "Requirement already satisfied: cycler>=0.10 in /Library/Frameworks/Python.framework/Versions/3.10/lib/python3.10/site-packages (from matplotlib>=3.1->seaborn) (0.11.0)\n",
      "Requirement already satisfied: python-dateutil>=2.7 in /Library/Frameworks/Python.framework/Versions/3.10/lib/python3.10/site-packages (from matplotlib>=3.1->seaborn) (2.8.2)\n",
      "Requirement already satisfied: packaging>=20.0 in /Library/Frameworks/Python.framework/Versions/3.10/lib/python3.10/site-packages (from matplotlib>=3.1->seaborn) (21.3)\n",
      "Requirement already satisfied: kiwisolver>=1.0.1 in /Library/Frameworks/Python.framework/Versions/3.10/lib/python3.10/site-packages (from matplotlib>=3.1->seaborn) (1.4.4)\n",
      "Requirement already satisfied: pillow>=6.2.0 in /Library/Frameworks/Python.framework/Versions/3.10/lib/python3.10/site-packages (from matplotlib>=3.1->seaborn) (9.2.0)\n",
      "Requirement already satisfied: fonttools>=4.22.0 in /Library/Frameworks/Python.framework/Versions/3.10/lib/python3.10/site-packages (from matplotlib>=3.1->seaborn) (4.37.4)\n",
      "Requirement already satisfied: pytz>=2020.1 in /Library/Frameworks/Python.framework/Versions/3.10/lib/python3.10/site-packages (from pandas>=0.25->seaborn) (2022.4)\n",
      "Requirement already satisfied: six>=1.5 in /Library/Frameworks/Python.framework/Versions/3.10/lib/python3.10/site-packages (from python-dateutil>=2.7->matplotlib>=3.1->seaborn) (1.16.0)\n",
      "\n",
      "\u001b[1m[\u001b[0m\u001b[34;49mnotice\u001b[0m\u001b[1;39;49m]\u001b[0m\u001b[39;49m A new release of pip available: \u001b[0m\u001b[31;49m22.2.1\u001b[0m\u001b[39;49m -> \u001b[0m\u001b[32;49m22.2.2\u001b[0m\n",
      "\u001b[1m[\u001b[0m\u001b[34;49mnotice\u001b[0m\u001b[1;39;49m]\u001b[0m\u001b[39;49m To update, run: \u001b[0m\u001b[32;49mpip3 install --upgrade pip\u001b[0m\n"
     ]
    }
   ],
   "source": [
    "!pip3 install seaborn"
   ]
  },
  {
   "cell_type": "code",
   "execution_count": 351,
   "metadata": {},
   "outputs": [],
   "source": [
    "from sklearn.decomposition import PCA #Importacion de PCA de sklearn.decomposition. Se usa para reducir el número de variables de un conjunto de datos manteniendo la mayoría de la varianza posible\n",
    "import seaborn as sns #Importacion de la libreria seaborn. Se usa para personalizar graficos.\n",
    "from sklearn.preprocessing import StandardScaler #Importacion de StandardScaler de sklearn.preprocessing. Se usa para estandarizar datos.\n",
    "from sklearn import metrics #Importacion de metrics de sklearn. Para medir rendimiento.\n",
    "from sklearn.metrics import confusion_matrix #Importacion de confusion_matrix de sklearn.metrics. Para crear la matriz de confusion.\n",
    "from sklearn.tree import DecisionTreeClassifier #Importacion de DecisionTreeClassifier de sklearn.tree. Para medir crear el arbol de clasificacion.\n",
    "from sklearn.svm import SVC #Importacion de SVC de sklearn.svm. Para crear modelo SVC.\n",
    "from sklearn.neighbors import KNeighborsClassifier #Importacion de KNeighborsClassifier de sklearn.neighbors. Para crear modelo KNN."
   ]
  },
  {
   "cell_type": "code",
   "execution_count": 352,
   "metadata": {
    "colab": {
     "base_uri": "https://localhost:8080/",
     "height": 442
    },
    "id": "U1VtM37UbVFJ",
    "outputId": "806bd1b0-cf49-4734-8202-33d794de85d0"
   },
   "outputs": [
    {
     "data": {
      "text/html": [
       "<div>\n",
       "<style scoped>\n",
       "    .dataframe tbody tr th:only-of-type {\n",
       "        vertical-align: middle;\n",
       "    }\n",
       "\n",
       "    .dataframe tbody tr th {\n",
       "        vertical-align: top;\n",
       "    }\n",
       "\n",
       "    .dataframe thead th {\n",
       "        text-align: right;\n",
       "    }\n",
       "</style>\n",
       "<table border=\"1\" class=\"dataframe\">\n",
       "  <thead>\n",
       "    <tr style=\"text-align: right;\">\n",
       "      <th></th>\n",
       "      <th>StoreType</th>\n",
       "      <th>Promo2</th>\n",
       "      <th>CompetitionDistance_log</th>\n",
       "      <th>Sales</th>\n",
       "      <th>Customers</th>\n",
       "    </tr>\n",
       "  </thead>\n",
       "  <tbody>\n",
       "    <tr>\n",
       "      <th>0</th>\n",
       "      <td>c</td>\n",
       "      <td>0</td>\n",
       "      <td>7.146772</td>\n",
       "      <td>3945.704883</td>\n",
       "      <td>467.646497</td>\n",
       "    </tr>\n",
       "    <tr>\n",
       "      <th>1</th>\n",
       "      <td>a</td>\n",
       "      <td>1</td>\n",
       "      <td>6.345636</td>\n",
       "      <td>4122.991507</td>\n",
       "      <td>486.045648</td>\n",
       "    </tr>\n",
       "    <tr>\n",
       "      <th>2</th>\n",
       "      <td>a</td>\n",
       "      <td>1</td>\n",
       "      <td>9.556055</td>\n",
       "      <td>5741.253715</td>\n",
       "      <td>620.286624</td>\n",
       "    </tr>\n",
       "    <tr>\n",
       "      <th>3</th>\n",
       "      <td>c</td>\n",
       "      <td>0</td>\n",
       "      <td>6.429719</td>\n",
       "      <td>8021.769639</td>\n",
       "      <td>1100.057325</td>\n",
       "    </tr>\n",
       "    <tr>\n",
       "      <th>4</th>\n",
       "      <td>a</td>\n",
       "      <td>0</td>\n",
       "      <td>10.305948</td>\n",
       "      <td>3867.110403</td>\n",
       "      <td>444.360934</td>\n",
       "    </tr>\n",
       "    <tr>\n",
       "      <th>...</th>\n",
       "      <td>...</td>\n",
       "      <td>...</td>\n",
       "      <td>...</td>\n",
       "      <td>...</td>\n",
       "      <td>...</td>\n",
       "    </tr>\n",
       "    <tr>\n",
       "      <th>1110</th>\n",
       "      <td>a</td>\n",
       "      <td>1</td>\n",
       "      <td>7.549609</td>\n",
       "      <td>4342.968153</td>\n",
       "      <td>373.548832</td>\n",
       "    </tr>\n",
       "    <tr>\n",
       "      <th>1111</th>\n",
       "      <td>c</td>\n",
       "      <td>0</td>\n",
       "      <td>7.539027</td>\n",
       "      <td>8465.280255</td>\n",
       "      <td>693.498938</td>\n",
       "    </tr>\n",
       "    <tr>\n",
       "      <th>1112</th>\n",
       "      <td>a</td>\n",
       "      <td>0</td>\n",
       "      <td>9.133459</td>\n",
       "      <td>5516.180467</td>\n",
       "      <td>596.763270</td>\n",
       "    </tr>\n",
       "    <tr>\n",
       "      <th>1113</th>\n",
       "      <td>a</td>\n",
       "      <td>0</td>\n",
       "      <td>6.768493</td>\n",
       "      <td>17200.196391</td>\n",
       "      <td>2664.057325</td>\n",
       "    </tr>\n",
       "    <tr>\n",
       "      <th>1114</th>\n",
       "      <td>d</td>\n",
       "      <td>1</td>\n",
       "      <td>8.584852</td>\n",
       "      <td>5225.296178</td>\n",
       "      <td>358.687898</td>\n",
       "    </tr>\n",
       "  </tbody>\n",
       "</table>\n",
       "<p>1115 rows × 5 columns</p>\n",
       "</div>"
      ],
      "text/plain": [
       "     StoreType  Promo2  CompetitionDistance_log         Sales    Customers\n",
       "0            c       0                 7.146772   3945.704883   467.646497\n",
       "1            a       1                 6.345636   4122.991507   486.045648\n",
       "2            a       1                 9.556055   5741.253715   620.286624\n",
       "3            c       0                 6.429719   8021.769639  1100.057325\n",
       "4            a       0                10.305948   3867.110403   444.360934\n",
       "...        ...     ...                      ...           ...          ...\n",
       "1110         a       1                 7.549609   4342.968153   373.548832\n",
       "1111         c       0                 7.539027   8465.280255   693.498938\n",
       "1112         a       0                 9.133459   5516.180467   596.763270\n",
       "1113         a       0                 6.768493  17200.196391  2664.057325\n",
       "1114         d       1                 8.584852   5225.296178   358.687898\n",
       "\n",
       "[1115 rows x 5 columns]"
      ]
     },
     "metadata": {},
     "output_type": "display_data"
    },
    {
     "data": {
      "text/plain": [
       "'\\nSe crea el data frame para esta parte del problema\\n'"
      ]
     },
     "execution_count": 352,
     "metadata": {},
     "output_type": "execute_result"
    }
   ],
   "source": [
    "df_p3 = df.copy()\n",
    "df_p3 = df_p3.drop([\"Store\", \"Assortment\", \"CompetitionDistance\", \"Date\"], axis = 1)\n",
    "display(df_p3)\n",
    "\"\"\"\n",
    "Se crea el data frame para esta parte del problema\n",
    "\"\"\""
   ]
  },
  {
   "cell_type": "code",
   "execution_count": 353,
   "metadata": {
    "colab": {
     "base_uri": "https://localhost:8080/",
     "height": 830
    },
    "id": "Rbr-W-o3bnpu",
    "outputId": "360f1f7b-8de6-49d9-cc16-3ce06233f5fc"
   },
   "outputs": [
    {
     "data": {
      "text/html": [
       "<div>\n",
       "<style scoped>\n",
       "    .dataframe tbody tr th:only-of-type {\n",
       "        vertical-align: middle;\n",
       "    }\n",
       "\n",
       "    .dataframe tbody tr th {\n",
       "        vertical-align: top;\n",
       "    }\n",
       "\n",
       "    .dataframe thead th {\n",
       "        text-align: right;\n",
       "    }\n",
       "</style>\n",
       "<table border=\"1\" class=\"dataframe\">\n",
       "  <thead>\n",
       "    <tr style=\"text-align: right;\">\n",
       "      <th></th>\n",
       "      <th>StoreType</th>\n",
       "    </tr>\n",
       "  </thead>\n",
       "  <tbody>\n",
       "    <tr>\n",
       "      <th>0</th>\n",
       "      <td>c</td>\n",
       "    </tr>\n",
       "    <tr>\n",
       "      <th>1</th>\n",
       "      <td>a</td>\n",
       "    </tr>\n",
       "    <tr>\n",
       "      <th>2</th>\n",
       "      <td>a</td>\n",
       "    </tr>\n",
       "    <tr>\n",
       "      <th>3</th>\n",
       "      <td>c</td>\n",
       "    </tr>\n",
       "    <tr>\n",
       "      <th>4</th>\n",
       "      <td>a</td>\n",
       "    </tr>\n",
       "    <tr>\n",
       "      <th>...</th>\n",
       "      <td>...</td>\n",
       "    </tr>\n",
       "    <tr>\n",
       "      <th>1110</th>\n",
       "      <td>a</td>\n",
       "    </tr>\n",
       "    <tr>\n",
       "      <th>1111</th>\n",
       "      <td>c</td>\n",
       "    </tr>\n",
       "    <tr>\n",
       "      <th>1112</th>\n",
       "      <td>a</td>\n",
       "    </tr>\n",
       "    <tr>\n",
       "      <th>1113</th>\n",
       "      <td>a</td>\n",
       "    </tr>\n",
       "    <tr>\n",
       "      <th>1114</th>\n",
       "      <td>d</td>\n",
       "    </tr>\n",
       "  </tbody>\n",
       "</table>\n",
       "<p>1115 rows × 1 columns</p>\n",
       "</div>"
      ],
      "text/plain": [
       "     StoreType\n",
       "0            c\n",
       "1            a\n",
       "2            a\n",
       "3            c\n",
       "4            a\n",
       "...        ...\n",
       "1110         a\n",
       "1111         c\n",
       "1112         a\n",
       "1113         a\n",
       "1114         d\n",
       "\n",
       "[1115 rows x 1 columns]"
      ]
     },
     "metadata": {},
     "output_type": "display_data"
    },
    {
     "data": {
      "text/html": [
       "<div>\n",
       "<style scoped>\n",
       "    .dataframe tbody tr th:only-of-type {\n",
       "        vertical-align: middle;\n",
       "    }\n",
       "\n",
       "    .dataframe tbody tr th {\n",
       "        vertical-align: top;\n",
       "    }\n",
       "\n",
       "    .dataframe thead th {\n",
       "        text-align: right;\n",
       "    }\n",
       "</style>\n",
       "<table border=\"1\" class=\"dataframe\">\n",
       "  <thead>\n",
       "    <tr style=\"text-align: right;\">\n",
       "      <th></th>\n",
       "      <th>Promo2</th>\n",
       "      <th>CompetitionDistance_log</th>\n",
       "      <th>Sales</th>\n",
       "      <th>Customers</th>\n",
       "    </tr>\n",
       "  </thead>\n",
       "  <tbody>\n",
       "    <tr>\n",
       "      <th>0</th>\n",
       "      <td>0</td>\n",
       "      <td>7.146772</td>\n",
       "      <td>3945.704883</td>\n",
       "      <td>467.646497</td>\n",
       "    </tr>\n",
       "    <tr>\n",
       "      <th>1</th>\n",
       "      <td>1</td>\n",
       "      <td>6.345636</td>\n",
       "      <td>4122.991507</td>\n",
       "      <td>486.045648</td>\n",
       "    </tr>\n",
       "    <tr>\n",
       "      <th>2</th>\n",
       "      <td>1</td>\n",
       "      <td>9.556055</td>\n",
       "      <td>5741.253715</td>\n",
       "      <td>620.286624</td>\n",
       "    </tr>\n",
       "    <tr>\n",
       "      <th>3</th>\n",
       "      <td>0</td>\n",
       "      <td>6.429719</td>\n",
       "      <td>8021.769639</td>\n",
       "      <td>1100.057325</td>\n",
       "    </tr>\n",
       "    <tr>\n",
       "      <th>4</th>\n",
       "      <td>0</td>\n",
       "      <td>10.305948</td>\n",
       "      <td>3867.110403</td>\n",
       "      <td>444.360934</td>\n",
       "    </tr>\n",
       "    <tr>\n",
       "      <th>...</th>\n",
       "      <td>...</td>\n",
       "      <td>...</td>\n",
       "      <td>...</td>\n",
       "      <td>...</td>\n",
       "    </tr>\n",
       "    <tr>\n",
       "      <th>1110</th>\n",
       "      <td>1</td>\n",
       "      <td>7.549609</td>\n",
       "      <td>4342.968153</td>\n",
       "      <td>373.548832</td>\n",
       "    </tr>\n",
       "    <tr>\n",
       "      <th>1111</th>\n",
       "      <td>0</td>\n",
       "      <td>7.539027</td>\n",
       "      <td>8465.280255</td>\n",
       "      <td>693.498938</td>\n",
       "    </tr>\n",
       "    <tr>\n",
       "      <th>1112</th>\n",
       "      <td>0</td>\n",
       "      <td>9.133459</td>\n",
       "      <td>5516.180467</td>\n",
       "      <td>596.763270</td>\n",
       "    </tr>\n",
       "    <tr>\n",
       "      <th>1113</th>\n",
       "      <td>0</td>\n",
       "      <td>6.768493</td>\n",
       "      <td>17200.196391</td>\n",
       "      <td>2664.057325</td>\n",
       "    </tr>\n",
       "    <tr>\n",
       "      <th>1114</th>\n",
       "      <td>1</td>\n",
       "      <td>8.584852</td>\n",
       "      <td>5225.296178</td>\n",
       "      <td>358.687898</td>\n",
       "    </tr>\n",
       "  </tbody>\n",
       "</table>\n",
       "<p>1115 rows × 4 columns</p>\n",
       "</div>"
      ],
      "text/plain": [
       "      Promo2  CompetitionDistance_log         Sales    Customers\n",
       "0          0                 7.146772   3945.704883   467.646497\n",
       "1          1                 6.345636   4122.991507   486.045648\n",
       "2          1                 9.556055   5741.253715   620.286624\n",
       "3          0                 6.429719   8021.769639  1100.057325\n",
       "4          0                10.305948   3867.110403   444.360934\n",
       "...      ...                      ...           ...          ...\n",
       "1110       1                 7.549609   4342.968153   373.548832\n",
       "1111       0                 7.539027   8465.280255   693.498938\n",
       "1112       0                 9.133459   5516.180467   596.763270\n",
       "1113       0                 6.768493  17200.196391  2664.057325\n",
       "1114       1                 8.584852   5225.296178   358.687898\n",
       "\n",
       "[1115 rows x 4 columns]"
      ]
     },
     "metadata": {},
     "output_type": "display_data"
    }
   ],
   "source": [
    "\"\"\"\n",
    "La primera columna corresponde al tipo de tienda, que es el atributo en torno al cual trabajaremos, por lo que se haran 2 tablas, una con los tipos de tienda y la otra con las demas caracteristicas\n",
    "\"\"\"\n",
    "store_type = pd.DataFrame(df_p3.iloc[:, 0])\n",
    "store_type.columns = [\"StoreType\"]\n",
    "display(store_type)\n",
    "df_p3.pop(\"StoreType\") \n",
    "display(df_p3)"
   ]
  },
  {
   "cell_type": "code",
   "execution_count": 354,
   "metadata": {
    "colab": {
     "base_uri": "https://localhost:8080/",
     "height": 459
    },
    "id": "3GpYQUTxfHoP",
    "outputId": "90890325-d590-4f4a-bf3c-cec5af4c7daa"
   },
   "outputs": [
    {
     "data": {
      "text/html": [
       "<div>\n",
       "<style scoped>\n",
       "    .dataframe tbody tr th:only-of-type {\n",
       "        vertical-align: middle;\n",
       "    }\n",
       "\n",
       "    .dataframe tbody tr th {\n",
       "        vertical-align: top;\n",
       "    }\n",
       "\n",
       "    .dataframe thead th {\n",
       "        text-align: right;\n",
       "    }\n",
       "</style>\n",
       "<table border=\"1\" class=\"dataframe\">\n",
       "  <thead>\n",
       "    <tr style=\"text-align: right;\">\n",
       "      <th></th>\n",
       "      <th>Promo2</th>\n",
       "      <th>CompetitionDistance_log</th>\n",
       "      <th>Sales</th>\n",
       "      <th>Customers</th>\n",
       "    </tr>\n",
       "  </thead>\n",
       "  <tbody>\n",
       "    <tr>\n",
       "      <th>0</th>\n",
       "      <td>-0.512108</td>\n",
       "      <td>-0.499535</td>\n",
       "      <td>-1817.567953</td>\n",
       "      <td>-161.846493</td>\n",
       "    </tr>\n",
       "    <tr>\n",
       "      <th>1</th>\n",
       "      <td>0.487892</td>\n",
       "      <td>-1.300671</td>\n",
       "      <td>-1640.281329</td>\n",
       "      <td>-143.447343</td>\n",
       "    </tr>\n",
       "    <tr>\n",
       "      <th>2</th>\n",
       "      <td>0.487892</td>\n",
       "      <td>1.909748</td>\n",
       "      <td>-22.019121</td>\n",
       "      <td>-9.206366</td>\n",
       "    </tr>\n",
       "    <tr>\n",
       "      <th>3</th>\n",
       "      <td>-0.512108</td>\n",
       "      <td>-1.216588</td>\n",
       "      <td>2258.496803</td>\n",
       "      <td>470.564335</td>\n",
       "    </tr>\n",
       "    <tr>\n",
       "      <th>4</th>\n",
       "      <td>-0.512108</td>\n",
       "      <td>2.659641</td>\n",
       "      <td>-1896.162433</td>\n",
       "      <td>-185.132056</td>\n",
       "    </tr>\n",
       "    <tr>\n",
       "      <th>...</th>\n",
       "      <td>...</td>\n",
       "      <td>...</td>\n",
       "      <td>...</td>\n",
       "      <td>...</td>\n",
       "    </tr>\n",
       "    <tr>\n",
       "      <th>1110</th>\n",
       "      <td>0.487892</td>\n",
       "      <td>-0.096698</td>\n",
       "      <td>-1420.304683</td>\n",
       "      <td>-255.944158</td>\n",
       "    </tr>\n",
       "    <tr>\n",
       "      <th>1111</th>\n",
       "      <td>-0.512108</td>\n",
       "      <td>-0.107280</td>\n",
       "      <td>2702.007419</td>\n",
       "      <td>64.005948</td>\n",
       "    </tr>\n",
       "    <tr>\n",
       "      <th>1112</th>\n",
       "      <td>-0.512108</td>\n",
       "      <td>1.487152</td>\n",
       "      <td>-247.092369</td>\n",
       "      <td>-32.729721</td>\n",
       "    </tr>\n",
       "    <tr>\n",
       "      <th>1113</th>\n",
       "      <td>-0.512108</td>\n",
       "      <td>-0.877814</td>\n",
       "      <td>11436.923555</td>\n",
       "      <td>2034.564335</td>\n",
       "    </tr>\n",
       "    <tr>\n",
       "      <th>1114</th>\n",
       "      <td>0.487892</td>\n",
       "      <td>0.938545</td>\n",
       "      <td>-537.976658</td>\n",
       "      <td>-270.805092</td>\n",
       "    </tr>\n",
       "  </tbody>\n",
       "</table>\n",
       "<p>1115 rows × 4 columns</p>\n",
       "</div>"
      ],
      "text/plain": [
       "        Promo2  CompetitionDistance_log         Sales    Customers\n",
       "0    -0.512108                -0.499535  -1817.567953  -161.846493\n",
       "1     0.487892                -1.300671  -1640.281329  -143.447343\n",
       "2     0.487892                 1.909748    -22.019121    -9.206366\n",
       "3    -0.512108                -1.216588   2258.496803   470.564335\n",
       "4    -0.512108                 2.659641  -1896.162433  -185.132056\n",
       "...        ...                      ...           ...          ...\n",
       "1110  0.487892                -0.096698  -1420.304683  -255.944158\n",
       "1111 -0.512108                -0.107280   2702.007419    64.005948\n",
       "1112 -0.512108                 1.487152   -247.092369   -32.729721\n",
       "1113 -0.512108                -0.877814  11436.923555  2034.564335\n",
       "1114  0.487892                 0.938545   -537.976658  -270.805092\n",
       "\n",
       "[1115 rows x 4 columns]"
      ]
     },
     "metadata": {},
     "output_type": "display_data"
    },
    {
     "data": {
      "text/plain": [
       "'\\nSe normalizan los datos, asi los resultados son dominados por una sola variable, ya que hay un gran rango de valores de datos\\n'"
      ]
     },
     "execution_count": 354,
     "metadata": {},
     "output_type": "execute_result"
    }
   ],
   "source": [
    "df_p3 = df_p3.sub(df_p3.mean(axis=0), axis=1)\n",
    "display(df_p3)\n",
    "\"\"\"\n",
    "Se normalizan los datos, asi los resultados son dominados por una sola variable, ya que hay un gran rango de valores de datos\n",
    "\"\"\""
   ]
  },
  {
   "cell_type": "code",
   "execution_count": 355,
   "metadata": {
    "colab": {
     "base_uri": "https://localhost:8080/",
     "height": 53
    },
    "id": "fahMZ8SRfQBG",
    "outputId": "eeb4d68c-ecb2-4289-efc7-cc9720168470"
   },
   "outputs": [
    {
     "data": {
      "text/plain": [
       "'\\nSe calcula la covarianza para luego calcular los valores y vectores propios. Para esto es necesario primero pasar los datos a una matriz\\n'"
      ]
     },
     "execution_count": 355,
     "metadata": {},
     "output_type": "execute_result"
    }
   ],
   "source": [
    "matriz_df_p3 = np.asmatrix(df_p3)\n",
    "sigma = np.cov(matriz_df_p3.T)\n",
    "\"\"\"\n",
    "Se calcula la covarianza para luego calcular los valores y vectores propios. Para esto es necesario primero pasar los datos a una matriz\n",
    "\"\"\""
   ]
  },
  {
   "cell_type": "code",
   "execution_count": 356,
   "metadata": {
    "colab": {
     "base_uri": "https://localhost:8080/",
     "height": 35
    },
    "id": "ctIpKTIrfUmA",
    "outputId": "23e4cf70-e24a-428d-dea5-733b7154ee02"
   },
   "outputs": [
    {
     "data": {
      "text/plain": [
       "'\\nSe calculan los valores y los vectores propios\\n'"
      ]
     },
     "execution_count": 356,
     "metadata": {},
     "output_type": "execute_result"
    }
   ],
   "source": [
    "valores_propios, vectores_propios = np.linalg.eig(sigma)\n",
    "\"\"\"\n",
    "Se calculan los valores y los vectores propios\n",
    "\"\"\""
   ]
  },
  {
   "cell_type": "code",
   "execution_count": 357,
   "metadata": {
    "colab": {
     "base_uri": "https://localhost:8080/",
     "height": 70
    },
    "id": "jnwx2y8Zfei_",
    "outputId": "7cff9a29-5225-48b1-900d-c302271015bf"
   },
   "outputs": [
    {
     "data": {
      "text/plain": [
       "'\\nSe ordenan los valores propios de mayor a menor, y los vectores propios a partir de la posicion de el valor propio asociado a cada uno. Esto se hace ya que se necesita saber que datos tienen la mayor varianza\\n'"
      ]
     },
     "execution_count": 357,
     "metadata": {},
     "output_type": "execute_result"
    }
   ],
   "source": [
    "sorted_index = valores_propios.argsort()[::-1] \n",
    "valores_propios = valores_propios[sorted_index]\n",
    "vectores_propios = vectores_propios[:,sorted_index]\n",
    "\"\"\"\n",
    "Se ordenan los valores propios de mayor a menor, y los vectores propios a partir de la posicion de el valor propio asociado a cada uno. Esto se hace ya que se necesita saber que datos tienen la mayor varianza\n",
    "\"\"\" \n"
   ]
  },
  {
   "cell_type": "code",
   "execution_count": 358,
   "metadata": {
    "colab": {
     "base_uri": "https://localhost:8080/",
     "height": 53
    },
    "id": "jGQAFjkEfmy0",
    "outputId": "64492518-2834-4ef8-d9d1-39479ed37e8e"
   },
   "outputs": [
    {
     "data": {
      "text/plain": [
       "'\\nPara pasar los datos a 2 dimensiones, se seleccionan los dos primeros valores propios con sus respectivos vectores propios\\n'"
      ]
     },
     "execution_count": 358,
     "metadata": {},
     "output_type": "execute_result"
    }
   ],
   "source": [
    "vectores_propios = vectores_propios[:,:2]\n",
    "\"\"\"\n",
    "Para pasar los datos a 2 dimensiones, se seleccionan los dos primeros valores propios con sus respectivos vectores propios\n",
    "\"\"\""
   ]
  },
  {
   "cell_type": "code",
   "execution_count": 359,
   "metadata": {
    "colab": {
     "base_uri": "https://localhost:8080/",
     "height": 53
    },
    "id": "aNnsua5wfoCC",
    "outputId": "199b2430-0255-44ec-db99-17e2072fdd22"
   },
   "outputs": [
    {
     "data": {
      "text/plain": [
       "'\\nPara transformar el data frame se hace el producto punto entre la matriz del data frame original y los dos vectores propios seleccionados anteriormente\\n'"
      ]
     },
     "execution_count": 359,
     "metadata": {},
     "output_type": "execute_result"
    }
   ],
   "source": [
    "transformada = matriz_df_p3.dot(vectores_propios)\n",
    "\"\"\"\n",
    "Para transformar el data frame se hace el producto punto entre la matriz del data frame original y los dos vectores propios seleccionados anteriormente\n",
    "\"\"\""
   ]
  },
  {
   "cell_type": "code",
   "execution_count": 360,
   "metadata": {
    "colab": {
     "base_uri": "https://localhost:8080/",
     "height": 442
    },
    "id": "KZYEWVaSfr89",
    "outputId": "447500f8-b52c-40a3-f7e6-00937168f381"
   },
   "outputs": [
    {
     "data": {
      "text/html": [
       "<div>\n",
       "<style scoped>\n",
       "    .dataframe tbody tr th:only-of-type {\n",
       "        vertical-align: middle;\n",
       "    }\n",
       "\n",
       "    .dataframe tbody tr th {\n",
       "        vertical-align: top;\n",
       "    }\n",
       "\n",
       "    .dataframe thead th {\n",
       "        text-align: right;\n",
       "    }\n",
       "</style>\n",
       "<table border=\"1\" class=\"dataframe\">\n",
       "  <thead>\n",
       "    <tr style=\"text-align: right;\">\n",
       "      <th></th>\n",
       "      <th>StoreType</th>\n",
       "      <th>x</th>\n",
       "      <th>y</th>\n",
       "    </tr>\n",
       "  </thead>\n",
       "  <tbody>\n",
       "    <tr>\n",
       "      <th>0</th>\n",
       "      <td>c</td>\n",
       "      <td>1823.163318</td>\n",
       "      <td>76.309326</td>\n",
       "    </tr>\n",
       "    <tr>\n",
       "      <th>1</th>\n",
       "      <td>a</td>\n",
       "      <td>1644.990553</td>\n",
       "      <td>71.458847</td>\n",
       "    </tr>\n",
       "    <tr>\n",
       "      <th>2</th>\n",
       "      <td>a</td>\n",
       "      <td>23.030976</td>\n",
       "      <td>-6.266114</td>\n",
       "    </tr>\n",
       "    <tr>\n",
       "      <th>3</th>\n",
       "      <td>c</td>\n",
       "      <td>-2300.551684</td>\n",
       "      <td>172.34261</td>\n",
       "    </tr>\n",
       "    <tr>\n",
       "      <th>4</th>\n",
       "      <td>a</td>\n",
       "      <td>1904.121728</td>\n",
       "      <td>63.450077</td>\n",
       "    </tr>\n",
       "    <tr>\n",
       "      <th>...</th>\n",
       "      <td>...</td>\n",
       "      <td>...</td>\n",
       "      <td>...</td>\n",
       "    </tr>\n",
       "    <tr>\n",
       "      <th>1110</th>\n",
       "      <td>a</td>\n",
       "      <td>1441.543492</td>\n",
       "      <td>-68.739027</td>\n",
       "    </tr>\n",
       "    <tr>\n",
       "      <th>1111</th>\n",
       "      <td>c</td>\n",
       "      <td>-2687.320474</td>\n",
       "      <td>-288.528646</td>\n",
       "    </tr>\n",
       "    <tr>\n",
       "      <th>1112</th>\n",
       "      <td>a</td>\n",
       "      <td>249.250584</td>\n",
       "      <td>-0.266848</td>\n",
       "    </tr>\n",
       "    <tr>\n",
       "      <th>1113</th>\n",
       "      <td>a</td>\n",
       "      <td>-11604.507217</td>\n",
       "      <td>527.33502</td>\n",
       "    </tr>\n",
       "    <tr>\n",
       "      <th>1114</th>\n",
       "      <td>d</td>\n",
       "      <td>568.670203</td>\n",
       "      <td>-198.41725</td>\n",
       "    </tr>\n",
       "  </tbody>\n",
       "</table>\n",
       "<p>1115 rows × 3 columns</p>\n",
       "</div>"
      ],
      "text/plain": [
       "     StoreType             x           y\n",
       "0            c   1823.163318   76.309326\n",
       "1            a   1644.990553   71.458847\n",
       "2            a     23.030976   -6.266114\n",
       "3            c  -2300.551684   172.34261\n",
       "4            a   1904.121728   63.450077\n",
       "...        ...           ...         ...\n",
       "1110         a   1441.543492  -68.739027\n",
       "1111         c  -2687.320474 -288.528646\n",
       "1112         a    249.250584   -0.266848\n",
       "1113         a -11604.507217   527.33502\n",
       "1114         d    568.670203  -198.41725\n",
       "\n",
       "[1115 rows x 3 columns]"
      ]
     },
     "metadata": {},
     "output_type": "display_data"
    },
    {
     "data": {
      "text/plain": [
       "'\\nSe definen los nombres para cada columna\\n'"
      ]
     },
     "execution_count": 360,
     "metadata": {},
     "output_type": "execute_result"
    }
   ],
   "source": [
    "df_final = np.hstack((store_type, transformada))\n",
    "\"\"\"\n",
    "Se le agrega en la primera columna el tipo de tienda correspondiente a la fila\n",
    "\"\"\"\n",
    "df_final = pd.DataFrame(df_final)\n",
    "\"\"\"\n",
    "Se convierte la matriz en un data frame\n",
    "\"\"\"\n",
    "df_final.columns = [\"StoreType\", \"x\", \"y\"]\n",
    "display(df_final)\n",
    "\"\"\"\n",
    "Se definen los nombres para cada columna\n",
    "\"\"\""
   ]
  },
  {
   "cell_type": "code",
   "execution_count": 361,
   "metadata": {
    "colab": {
     "base_uri": "https://localhost:8080/",
     "height": 295
    },
    "id": "UDU06Y-lgHnB",
    "outputId": "1cf93282-ee0a-4fea-9000-415dc91634b0"
   },
   "outputs": [
    {
     "data": {
      "image/png": "[encoded data removed]",
      "text/plain": [
       "<Figure size 432x288 with 1 Axes>"
      ]
     },
     "metadata": {
      "needs_background": "light"
     },
     "output_type": "display_data"
    }
   ],
   "source": [
    "grupos = df_final.groupby(\"StoreType\")\n",
    "figure, axis = plt.subplots()\n",
    "axis.margins(0.05)\n",
    "for tipo, grupo in grupos:\n",
    "    axis.plot(grupo.x, grupo.y, marker = 'o', linestyle = '', ms = 6, label = tipo)\n",
    "    axis.set_title(\"PCA por tipo de tienda\")\n",
    "axis.legend()\n",
    "plt.xlabel(\"Componente Principal 1\")\n",
    "plt.ylabel(\"Componente Principal 2\")\n",
    "plt.show()"
   ]
  },
  {
   "cell_type": "markdown",
   "metadata": {
    "id": "_E2lvoGShmcG"
   },
   "source": [
    "De: https://code.likeagirl.io/principal-component-analysis-dimensionality-reduction-technique-step-by-step-approach-ffd46623ff67"
   ]
  },
  {
   "cell_type": "markdown",
   "metadata": {},
   "source": [
    "Para entrenar y evaluer los modelos de clasificacón se usarán los set de entrenamiento y prueba creados en la misión anterior, pero se modificarán dejandolos solo con las columnas usadas en esta misión."
   ]
  },
  {
   "cell_type": "code",
   "execution_count": 362,
   "metadata": {
    "id": "HhHJxy8g2fcX"
   },
   "outputs": [
    {
     "data": {
      "text/html": [
       "<div>\n",
       "<style scoped>\n",
       "    .dataframe tbody tr th:only-of-type {\n",
       "        vertical-align: middle;\n",
       "    }\n",
       "\n",
       "    .dataframe tbody tr th {\n",
       "        vertical-align: top;\n",
       "    }\n",
       "\n",
       "    .dataframe thead th {\n",
       "        text-align: right;\n",
       "    }\n",
       "</style>\n",
       "<table border=\"1\" class=\"dataframe\">\n",
       "  <thead>\n",
       "    <tr style=\"text-align: right;\">\n",
       "      <th></th>\n",
       "      <th>StoreType</th>\n",
       "      <th>Promo2</th>\n",
       "      <th>CompetitionDistance_log</th>\n",
       "      <th>Sales</th>\n",
       "      <th>Customers</th>\n",
       "    </tr>\n",
       "  </thead>\n",
       "  <tbody>\n",
       "    <tr>\n",
       "      <th>24</th>\n",
       "      <td>c</td>\n",
       "      <td>0</td>\n",
       "      <td>6.063785</td>\n",
       "      <td>8892.311040</td>\n",
       "      <td>1250.288747</td>\n",
       "    </tr>\n",
       "    <tr>\n",
       "      <th>1096</th>\n",
       "      <td>b</td>\n",
       "      <td>0</td>\n",
       "      <td>6.579251</td>\n",
       "      <td>9744.599788</td>\n",
       "      <td>2420.921444</td>\n",
       "    </tr>\n",
       "    <tr>\n",
       "      <th>467</th>\n",
       "      <td>c</td>\n",
       "      <td>0</td>\n",
       "      <td>8.567886</td>\n",
       "      <td>5550.970276</td>\n",
       "      <td>628.019108</td>\n",
       "    </tr>\n",
       "    <tr>\n",
       "      <th>917</th>\n",
       "      <td>a</td>\n",
       "      <td>0</td>\n",
       "      <td>9.836813</td>\n",
       "      <td>4295.193206</td>\n",
       "      <td>457.851380</td>\n",
       "    </tr>\n",
       "    <tr>\n",
       "      <th>504</th>\n",
       "      <td>a</td>\n",
       "      <td>1</td>\n",
       "      <td>5.857933</td>\n",
       "      <td>3939.670913</td>\n",
       "      <td>490.459660</td>\n",
       "    </tr>\n",
       "    <tr>\n",
       "      <th>...</th>\n",
       "      <td>...</td>\n",
       "      <td>...</td>\n",
       "      <td>...</td>\n",
       "      <td>...</td>\n",
       "      <td>...</td>\n",
       "    </tr>\n",
       "    <tr>\n",
       "      <th>0</th>\n",
       "      <td>c</td>\n",
       "      <td>0</td>\n",
       "      <td>7.146772</td>\n",
       "      <td>3945.704883</td>\n",
       "      <td>467.646497</td>\n",
       "    </tr>\n",
       "    <tr>\n",
       "      <th>123</th>\n",
       "      <td>a</td>\n",
       "      <td>0</td>\n",
       "      <td>7.251345</td>\n",
       "      <td>3658.609342</td>\n",
       "      <td>434.720807</td>\n",
       "    </tr>\n",
       "    <tr>\n",
       "      <th>815</th>\n",
       "      <td>c</td>\n",
       "      <td>0</td>\n",
       "      <td>6.131226</td>\n",
       "      <td>4244.869427</td>\n",
       "      <td>614.125265</td>\n",
       "    </tr>\n",
       "    <tr>\n",
       "      <th>65</th>\n",
       "      <td>d</td>\n",
       "      <td>1</td>\n",
       "      <td>8.943767</td>\n",
       "      <td>5043.373673</td>\n",
       "      <td>432.263270</td>\n",
       "    </tr>\n",
       "    <tr>\n",
       "      <th>56</th>\n",
       "      <td>d</td>\n",
       "      <td>0</td>\n",
       "      <td>6.040255</td>\n",
       "      <td>8657.784501</td>\n",
       "      <td>808.026539</td>\n",
       "    </tr>\n",
       "  </tbody>\n",
       "</table>\n",
       "<p>892 rows × 5 columns</p>\n",
       "</div>"
      ],
      "text/plain": [
       "     StoreType  Promo2  CompetitionDistance_log        Sales    Customers\n",
       "24           c       0                 6.063785  8892.311040  1250.288747\n",
       "1096         b       0                 6.579251  9744.599788  2420.921444\n",
       "467          c       0                 8.567886  5550.970276   628.019108\n",
       "917          a       0                 9.836813  4295.193206   457.851380\n",
       "504          a       1                 5.857933  3939.670913   490.459660\n",
       "...        ...     ...                      ...          ...          ...\n",
       "0            c       0                 7.146772  3945.704883   467.646497\n",
       "123          a       0                 7.251345  3658.609342   434.720807\n",
       "815          c       0                 6.131226  4244.869427   614.125265\n",
       "65           d       1                 8.943767  5043.373673   432.263270\n",
       "56           d       0                 6.040255  8657.784501   808.026539\n",
       "\n",
       "[892 rows x 5 columns]"
      ]
     },
     "metadata": {},
     "output_type": "display_data"
    },
    {
     "data": {
      "text/html": [
       "<div>\n",
       "<style scoped>\n",
       "    .dataframe tbody tr th:only-of-type {\n",
       "        vertical-align: middle;\n",
       "    }\n",
       "\n",
       "    .dataframe tbody tr th {\n",
       "        vertical-align: top;\n",
       "    }\n",
       "\n",
       "    .dataframe thead th {\n",
       "        text-align: right;\n",
       "    }\n",
       "</style>\n",
       "<table border=\"1\" class=\"dataframe\">\n",
       "  <thead>\n",
       "    <tr style=\"text-align: right;\">\n",
       "      <th></th>\n",
       "      <th>StoreType</th>\n",
       "      <th>Promo2</th>\n",
       "      <th>CompetitionDistance_log</th>\n",
       "      <th>Sales</th>\n",
       "      <th>Customers</th>\n",
       "    </tr>\n",
       "  </thead>\n",
       "  <tbody>\n",
       "    <tr>\n",
       "      <th>38</th>\n",
       "      <td>a</td>\n",
       "      <td>1</td>\n",
       "      <td>5.560682</td>\n",
       "      <td>4012.901274</td>\n",
       "      <td>520.669851</td>\n",
       "    </tr>\n",
       "    <tr>\n",
       "      <th>411</th>\n",
       "      <td>d</td>\n",
       "      <td>1</td>\n",
       "      <td>8.402904</td>\n",
       "      <td>7469.023747</td>\n",
       "      <td>529.040897</td>\n",
       "    </tr>\n",
       "    <tr>\n",
       "      <th>285</th>\n",
       "      <td>a</td>\n",
       "      <td>0</td>\n",
       "      <td>7.286192</td>\n",
       "      <td>4075.129512</td>\n",
       "      <td>355.971338</td>\n",
       "    </tr>\n",
       "    <tr>\n",
       "      <th>689</th>\n",
       "      <td>a</td>\n",
       "      <td>0</td>\n",
       "      <td>4.605170</td>\n",
       "      <td>4622.717622</td>\n",
       "      <td>655.080679</td>\n",
       "    </tr>\n",
       "    <tr>\n",
       "      <th>442</th>\n",
       "      <td>d</td>\n",
       "      <td>0</td>\n",
       "      <td>9.341369</td>\n",
       "      <td>4348.041401</td>\n",
       "      <td>404.784501</td>\n",
       "    </tr>\n",
       "    <tr>\n",
       "      <th>...</th>\n",
       "      <td>...</td>\n",
       "      <td>...</td>\n",
       "      <td>...</td>\n",
       "      <td>...</td>\n",
       "      <td>...</td>\n",
       "    </tr>\n",
       "    <tr>\n",
       "      <th>539</th>\n",
       "      <td>d</td>\n",
       "      <td>1</td>\n",
       "      <td>6.697034</td>\n",
       "      <td>4635.451187</td>\n",
       "      <td>321.102902</td>\n",
       "    </tr>\n",
       "    <tr>\n",
       "      <th>775</th>\n",
       "      <td>c</td>\n",
       "      <td>1</td>\n",
       "      <td>6.551080</td>\n",
       "      <td>3958.099788</td>\n",
       "      <td>440.366242</td>\n",
       "    </tr>\n",
       "    <tr>\n",
       "      <th>401</th>\n",
       "      <td>c</td>\n",
       "      <td>1</td>\n",
       "      <td>8.670772</td>\n",
       "      <td>4850.565817</td>\n",
       "      <td>509.589172</td>\n",
       "    </tr>\n",
       "    <tr>\n",
       "      <th>535</th>\n",
       "      <td>a</td>\n",
       "      <td>1</td>\n",
       "      <td>8.455318</td>\n",
       "      <td>6883.328025</td>\n",
       "      <td>730.237792</td>\n",
       "    </tr>\n",
       "    <tr>\n",
       "      <th>350</th>\n",
       "      <td>a</td>\n",
       "      <td>1</td>\n",
       "      <td>8.573574</td>\n",
       "      <td>5000.541401</td>\n",
       "      <td>429.048832</td>\n",
       "    </tr>\n",
       "  </tbody>\n",
       "</table>\n",
       "<p>223 rows × 5 columns</p>\n",
       "</div>"
      ],
      "text/plain": [
       "    StoreType  Promo2  CompetitionDistance_log        Sales   Customers\n",
       "38          a       1                 5.560682  4012.901274  520.669851\n",
       "411         d       1                 8.402904  7469.023747  529.040897\n",
       "285         a       0                 7.286192  4075.129512  355.971338\n",
       "689         a       0                 4.605170  4622.717622  655.080679\n",
       "442         d       0                 9.341369  4348.041401  404.784501\n",
       "..        ...     ...                      ...          ...         ...\n",
       "539         d       1                 6.697034  4635.451187  321.102902\n",
       "775         c       1                 6.551080  3958.099788  440.366242\n",
       "401         c       1                 8.670772  4850.565817  509.589172\n",
       "535         a       1                 8.455318  6883.328025  730.237792\n",
       "350         a       1                 8.573574  5000.541401  429.048832\n",
       "\n",
       "[223 rows x 5 columns]"
      ]
     },
     "metadata": {},
     "output_type": "display_data"
    }
   ],
   "source": [
    "training_set3 = training_set.copy()\n",
    "training_set3 = training_set3.drop([\"Store\", \"Assortment\", \"CompetitionDistance\", \"Date\"], axis = 1)\n",
    "test_set3 = test_set.copy()\n",
    "test_set3 = test_set3.drop([\"Store\", \"Assortment\", \"CompetitionDistance\", \"Date\"], axis = 1)\n",
    "display(training_set3)\n",
    "display(test_set3)"
   ]
  },
  {
   "cell_type": "code",
   "execution_count": 363,
   "metadata": {
    "colab": {
     "base_uri": "https://localhost:8080/",
     "height": 35
    },
    "id": "89qA6mDxhoFF",
    "outputId": "8ba871c2-d6c5-4159-b696-206858606043"
   },
   "outputs": [
    {
     "data": {
      "text/plain": [
       "'\\nSe normalizan los datos de cada set, para que todos esten en la misma escala\\n'"
      ]
     },
     "execution_count": 363,
     "metadata": {},
     "output_type": "execute_result"
    }
   ],
   "source": [
    "scaler = StandardScaler()\n",
    "features3 = [\"CompetitionDistance_log\",\"Promo2\", \"Sales\", \"Customers\"]\n",
    "\n",
    "training_set3[features3] = scaler.fit_transform(training_set3[features3])\n",
    "test_set3[features3] = scaler.transform(test_set3[features3])\n",
    "\n",
    "\"\"\"\n",
    "Se normalizan los datos de cada set, para que todos esten en la misma escala\n",
    "\"\"\"\n"
   ]
  },
  {
   "cell_type": "code",
   "execution_count": 364,
   "metadata": {
    "colab": {
     "base_uri": "https://localhost:8080/",
     "height": 53
    },
    "id": "61uh4BsuopYr",
    "outputId": "18411089-ba6b-491c-fa1b-4c9143e25237"
   },
   "outputs": [
    {
     "data": {
      "text/plain": [
       "'\\nEsta funcion realiza el entrenamiento entrenamiento y la evaluacion de rendimiento en un set separado, para cualqueir modelo que se le entregue como parámetro.\\n'"
      ]
     },
     "execution_count": 364,
     "metadata": {},
     "output_type": "execute_result"
    }
   ],
   "source": [
    "def training_and_eval(model, training, eval, features, target):\n",
    "    model.fit(training[features3], training[target])\n",
    "    predictions = model.predict(training[features3])\n",
    "    accuracy = metrics.accuracy_score(predictions, training[target])\n",
    "    print(f\"Accuracy training_set: {accuracy: .2}\")\n",
    "    predictions = model.predict(eval[features3])\n",
    "    accuracy = metrics.accuracy_score(predictions, eval[target])\n",
    "    print(f\"Accuracy test_set: {accuracy: .2}\")\n",
    "    matriz = confusion_matrix(eval[\"StoreType\"], predictions)\n",
    "    print(matriz)\n",
    "    sns.heatmap(matriz, annot=True)\n",
    "\"\"\"\n",
    "Esta funcion realiza el entrenamiento entrenamiento y la evaluacion de rendimiento en un set separado, para cualqueir modelo que se le entregue como parámetro.\n",
    "\"\"\""
   ]
  },
  {
   "cell_type": "markdown",
   "metadata": {
    "id": "1C3Q-_jA_-0z"
   },
   "source": [
    "De https://github.com/IIC2115/Syllabus/blob/main/Material%20de%20clases/Cap%C3%ADtulo%202/Parte%20B/Notebooks%20Ejemplo/01%20-%20Modelos%20predictivos%20de%20aprendizaje%20de%20m%C3%A1quina.ipynb"
   ]
  },
  {
   "cell_type": "markdown",
   "metadata": {
    "id": "bDwBLDERAEH3"
   },
   "source": [
    "Modelo: Arbol de decisión"
   ]
  },
  {
   "cell_type": "code",
   "execution_count": 365,
   "metadata": {
    "colab": {
     "base_uri": "https://localhost:8080/"
    },
    "id": "HZDM3qbvoxKm",
    "outputId": "7089c16f-9c6f-4412-f193-28779d2b778c"
   },
   "outputs": [
    {
     "name": "stdout",
     "output_type": "stream",
     "text": [
      "Accuracy training_set:  1.0\n",
      "Accuracy test_set:  0.57\n",
      "[[82  0 18 27]\n",
      " [ 1  3  2  0]\n",
      " [17  1  8  2]\n",
      " [25  0  3 34]]\n"
     ]
    },
    {
     "data": {
      "image/png": "[encoded data removed]",
      "text/plain": [
       "<Figure size 432x288 with 2 Axes>"
      ]
     },
     "metadata": {
      "needs_background": "light"
     },
     "output_type": "display_data"
    }
   ],
   "source": [
    "target = \"StoreType\"\n",
    "model = DecisionTreeClassifier()\n",
    "training_and_eval(model, training_set3, test_set3, features3, target)"
   ]
  },
  {
   "cell_type": "markdown",
   "metadata": {},
   "source": [
    "En este modelo, al evaluar el training set, tienen una exactitud del 100%, mientras que el de prueba de 57%. Esto se puede deber a que los datos de prueba son datos nuevos."
   ]
  },
  {
   "cell_type": "markdown",
   "metadata": {
    "id": "xU_2M-geAMoh"
   },
   "source": [
    "Modelo: SVC"
   ]
  },
  {
   "cell_type": "code",
   "execution_count": 366,
   "metadata": {
    "colab": {
     "base_uri": "https://localhost:8080/"
    },
    "id": "TxNllaE-oxTK",
    "outputId": "639d1abb-dcfb-43d9-d692-efae8977dbf6"
   },
   "outputs": [
    {
     "name": "stdout",
     "output_type": "stream",
     "text": [
      "Accuracy training_set:  0.68\n",
      "Accuracy test_set:  0.69\n",
      "[[108   0   0  19]\n",
      " [  4   2   0   0]\n",
      " [ 25   0   0   3]\n",
      " [ 18   0   0  44]]\n"
     ]
    },
    {
     "data": {
      "image/png": "[encoded data removed]",
      "text/plain": [
       "<Figure size 432x288 with 2 Axes>"
      ]
     },
     "metadata": {
      "needs_background": "light"
     },
     "output_type": "display_data"
    }
   ],
   "source": [
    "model = SVC()\n",
    "training_and_eval(model, training_set3, test_set3, features3, target)"
   ]
  },
  {
   "cell_type": "markdown",
   "metadata": {},
   "source": [
    "En este modelo, al evaluar el training set y el set de prueba, se tienen exactitudes similares, de 68% y 69%, respectivamente."
   ]
  },
  {
   "cell_type": "markdown",
   "metadata": {
    "id": "2ong1oJhAQyM"
   },
   "source": [
    "Modelo: KNN"
   ]
  },
  {
   "cell_type": "code",
   "execution_count": 367,
   "metadata": {
    "colab": {
     "base_uri": "https://localhost:8080/"
    },
    "id": "1BrvBhvwoxad",
    "outputId": "c786b17b-1858-4fe5-e2ab-ddbae7243b56"
   },
   "outputs": [
    {
     "name": "stdout",
     "output_type": "stream",
     "text": [
      "Accuracy training_set:  0.7\n",
      "Accuracy test_set:  0.61\n",
      "[[100   0   5  22]\n",
      " [  5   1   0   0]\n",
      " [ 21   0   3   4]\n",
      " [ 26   0   4  32]]\n"
     ]
    },
    {
     "data": {
      "image/png": "[encoded data removed]",
      "text/plain": [
       "<Figure size 432x288 with 2 Axes>"
      ]
     },
     "metadata": {
      "needs_background": "light"
     },
     "output_type": "display_data"
    }
   ],
   "source": [
    "model = KNeighborsClassifier()\n",
    "training_and_eval(model, training_set3, test_set3, features3, target)"
   ]
  },
  {
   "cell_type": "markdown",
   "metadata": {},
   "source": [
    "En este modelo, al evaluar el training set, tienen una exactitud del 70%, mientras que el de prueba de 61%. Que no son tan distintas"
   ]
  },
  {
   "cell_type": "markdown",
   "metadata": {},
   "source": [
    "El modelo que tiene mejor rendimiento es el SVC, puesto que es el que las exactitudes del set de prueba y de entrenamiento son mas similares, y, ademas, teniendo en cuenta las dos, son las mas altas."
   ]
  },
  {
   "cell_type": "markdown",
   "metadata": {
    "id": "OsbThNOh1mgq"
   },
   "source": [
    "### Resgresión: predecir Sales"
   ]
  },
  {
   "cell_type": "code",
   "execution_count": 368,
   "metadata": {},
   "outputs": [],
   "source": [
    "from sklearn.preprocessing import LabelEncoder #Se importa LabelEncoder de sklearn.preprocessing, la cual  codifica etiquetas de una característica categórica en valores numéricos entre 0 y el número de clases menos 1.\n",
    "from sklearn.linear_model import LinearRegression #Se importa LinearRegression de sklearn.linear_model. Para crear el modelo de regresion lineal.\n",
    "from sklearn.tree import DecisionTreeRegressor #Se importa DecisionTreeRegressor de sklearn.tree. Para crear el modelo de arbol de regresion.\n",
    "from sklearn.ensemble import RandomForestRegressor #Se importa RandomForestRegressor de sklearn.ensemble. Para crear el modelo de RFR.\n",
    "\n"
   ]
  },
  {
   "cell_type": "code",
   "execution_count": 369,
   "metadata": {
    "colab": {
     "base_uri": "https://localhost:8080/",
     "height": 424
    },
    "id": "g3Apkp801zbr",
    "outputId": "ecc00a62-ff71-4a83-bfbc-e8590be99290"
   },
   "outputs": [
    {
     "data": {
      "text/html": [
       "<div>\n",
       "<style scoped>\n",
       "    .dataframe tbody tr th:only-of-type {\n",
       "        vertical-align: middle;\n",
       "    }\n",
       "\n",
       "    .dataframe tbody tr th {\n",
       "        vertical-align: top;\n",
       "    }\n",
       "\n",
       "    .dataframe thead th {\n",
       "        text-align: right;\n",
       "    }\n",
       "</style>\n",
       "<table border=\"1\" class=\"dataframe\">\n",
       "  <thead>\n",
       "    <tr style=\"text-align: right;\">\n",
       "      <th></th>\n",
       "      <th>StoreType</th>\n",
       "      <th>Assortment</th>\n",
       "      <th>Promo2</th>\n",
       "      <th>CompetitionDistance_log</th>\n",
       "      <th>Sales</th>\n",
       "      <th>Customers</th>\n",
       "    </tr>\n",
       "  </thead>\n",
       "  <tbody>\n",
       "    <tr>\n",
       "      <th>0</th>\n",
       "      <td>c</td>\n",
       "      <td>a</td>\n",
       "      <td>0</td>\n",
       "      <td>7.146772</td>\n",
       "      <td>3945.704883</td>\n",
       "      <td>467.646497</td>\n",
       "    </tr>\n",
       "    <tr>\n",
       "      <th>1</th>\n",
       "      <td>a</td>\n",
       "      <td>a</td>\n",
       "      <td>1</td>\n",
       "      <td>6.345636</td>\n",
       "      <td>4122.991507</td>\n",
       "      <td>486.045648</td>\n",
       "    </tr>\n",
       "    <tr>\n",
       "      <th>2</th>\n",
       "      <td>a</td>\n",
       "      <td>a</td>\n",
       "      <td>1</td>\n",
       "      <td>9.556055</td>\n",
       "      <td>5741.253715</td>\n",
       "      <td>620.286624</td>\n",
       "    </tr>\n",
       "    <tr>\n",
       "      <th>3</th>\n",
       "      <td>c</td>\n",
       "      <td>c</td>\n",
       "      <td>0</td>\n",
       "      <td>6.429719</td>\n",
       "      <td>8021.769639</td>\n",
       "      <td>1100.057325</td>\n",
       "    </tr>\n",
       "    <tr>\n",
       "      <th>4</th>\n",
       "      <td>a</td>\n",
       "      <td>a</td>\n",
       "      <td>0</td>\n",
       "      <td>10.305948</td>\n",
       "      <td>3867.110403</td>\n",
       "      <td>444.360934</td>\n",
       "    </tr>\n",
       "    <tr>\n",
       "      <th>...</th>\n",
       "      <td>...</td>\n",
       "      <td>...</td>\n",
       "      <td>...</td>\n",
       "      <td>...</td>\n",
       "      <td>...</td>\n",
       "      <td>...</td>\n",
       "    </tr>\n",
       "    <tr>\n",
       "      <th>1110</th>\n",
       "      <td>a</td>\n",
       "      <td>a</td>\n",
       "      <td>1</td>\n",
       "      <td>7.549609</td>\n",
       "      <td>4342.968153</td>\n",
       "      <td>373.548832</td>\n",
       "    </tr>\n",
       "    <tr>\n",
       "      <th>1111</th>\n",
       "      <td>c</td>\n",
       "      <td>c</td>\n",
       "      <td>0</td>\n",
       "      <td>7.539027</td>\n",
       "      <td>8465.280255</td>\n",
       "      <td>693.498938</td>\n",
       "    </tr>\n",
       "    <tr>\n",
       "      <th>1112</th>\n",
       "      <td>a</td>\n",
       "      <td>c</td>\n",
       "      <td>0</td>\n",
       "      <td>9.133459</td>\n",
       "      <td>5516.180467</td>\n",
       "      <td>596.763270</td>\n",
       "    </tr>\n",
       "    <tr>\n",
       "      <th>1113</th>\n",
       "      <td>a</td>\n",
       "      <td>c</td>\n",
       "      <td>0</td>\n",
       "      <td>6.768493</td>\n",
       "      <td>17200.196391</td>\n",
       "      <td>2664.057325</td>\n",
       "    </tr>\n",
       "    <tr>\n",
       "      <th>1114</th>\n",
       "      <td>d</td>\n",
       "      <td>c</td>\n",
       "      <td>1</td>\n",
       "      <td>8.584852</td>\n",
       "      <td>5225.296178</td>\n",
       "      <td>358.687898</td>\n",
       "    </tr>\n",
       "  </tbody>\n",
       "</table>\n",
       "<p>1115 rows × 6 columns</p>\n",
       "</div>"
      ],
      "text/plain": [
       "     StoreType Assortment  Promo2  CompetitionDistance_log         Sales  \\\n",
       "0            c          a       0                 7.146772   3945.704883   \n",
       "1            a          a       1                 6.345636   4122.991507   \n",
       "2            a          a       1                 9.556055   5741.253715   \n",
       "3            c          c       0                 6.429719   8021.769639   \n",
       "4            a          a       0                10.305948   3867.110403   \n",
       "...        ...        ...     ...                      ...           ...   \n",
       "1110         a          a       1                 7.549609   4342.968153   \n",
       "1111         c          c       0                 7.539027   8465.280255   \n",
       "1112         a          c       0                 9.133459   5516.180467   \n",
       "1113         a          c       0                 6.768493  17200.196391   \n",
       "1114         d          c       1                 8.584852   5225.296178   \n",
       "\n",
       "        Customers  \n",
       "0      467.646497  \n",
       "1      486.045648  \n",
       "2      620.286624  \n",
       "3     1100.057325  \n",
       "4      444.360934  \n",
       "...           ...  \n",
       "1110   373.548832  \n",
       "1111   693.498938  \n",
       "1112   596.763270  \n",
       "1113  2664.057325  \n",
       "1114   358.687898  \n",
       "\n",
       "[1115 rows x 6 columns]"
      ]
     },
     "metadata": {},
     "output_type": "display_data"
    }
   ],
   "source": [
    "df_p4 = df.copy()\n",
    "df_p4 = df_p4.drop([\"Store\", \"CompetitionDistance\", \"Date\"], axis = 1)\n",
    "display(df_p4)"
   ]
  },
  {
   "cell_type": "markdown",
   "metadata": {
    "id": "cHrYrX_23s3R"
   },
   "source": [
    "El metodo que se utilizara sera convertir las variables categoricas a numeros, puesto que, para mi, es la opcion mas simple y con menos probabilidad de comete errores en el analisis, ya que los datos quedan practicamente iguales, solo que con numeros en lugar de letras para esos datos.\n",
    "https://scikit-learn.org/stable/modules/generated/sklearn.preprocessing.LabelEncoder.html"
   ]
  },
  {
   "cell_type": "code",
   "execution_count": 370,
   "metadata": {
    "colab": {
     "base_uri": "https://localhost:8080/"
    },
    "id": "OtYvbUH1-0VW",
    "outputId": "a4c332b2-c170-4b5d-b47d-80a97d2c0297"
   },
   "outputs": [
    {
     "data": {
      "text/plain": [
       "StoreType                    int64\n",
       "Assortment                   int64\n",
       "Promo2                       int64\n",
       "CompetitionDistance_log    float64\n",
       "Sales                      float64\n",
       "Customers                  float64\n",
       "dtype: object"
      ]
     },
     "execution_count": 370,
     "metadata": {},
     "output_type": "execute_result"
    }
   ],
   "source": [
    "variables_categoricas = [\"StoreType\"]\n",
    "label_encoder = LabelEncoder()\n",
    "for i in variables_categoricas:\n",
    "    df_p4[i] = label_encoder.fit_transform(df_p4[i])\n",
    "\"\"\"\n",
    "Se le asigna un numero diferente a cada variable en la columna StoreType y se cambia la variable al numero asociado.\n",
    "\"\"\"\n",
    "\"\"\"\n",
    "Luago se hace lo mismo para la otra columna con variables categoricas, Assortment\n",
    "\"\"\"\n",
    "variables_categoricas = [\"Assortment\"]\n",
    "label_encoder = LabelEncoder()\n",
    "for i in variables_categoricas:\n",
    "    df_p4[i] = label_encoder.fit_transform(df_p4[i])\n",
    "df_p4.dtypes "
   ]
  },
  {
   "cell_type": "code",
   "execution_count": 371,
   "metadata": {
    "colab": {
     "base_uri": "https://localhost:8080/",
     "height": 424
    },
    "id": "jINXkjWe_mFg",
    "outputId": "77739345-5721-43fa-925c-82ba497a9743"
   },
   "outputs": [
    {
     "data": {
      "text/html": [
       "<div>\n",
       "<style scoped>\n",
       "    .dataframe tbody tr th:only-of-type {\n",
       "        vertical-align: middle;\n",
       "    }\n",
       "\n",
       "    .dataframe tbody tr th {\n",
       "        vertical-align: top;\n",
       "    }\n",
       "\n",
       "    .dataframe thead th {\n",
       "        text-align: right;\n",
       "    }\n",
       "</style>\n",
       "<table border=\"1\" class=\"dataframe\">\n",
       "  <thead>\n",
       "    <tr style=\"text-align: right;\">\n",
       "      <th></th>\n",
       "      <th>StoreType</th>\n",
       "      <th>Assortment</th>\n",
       "      <th>Promo2</th>\n",
       "      <th>CompetitionDistance_log</th>\n",
       "      <th>Sales</th>\n",
       "      <th>Customers</th>\n",
       "    </tr>\n",
       "  </thead>\n",
       "  <tbody>\n",
       "    <tr>\n",
       "      <th>0</th>\n",
       "      <td>2</td>\n",
       "      <td>0</td>\n",
       "      <td>0</td>\n",
       "      <td>7.146772</td>\n",
       "      <td>3945.704883</td>\n",
       "      <td>467.646497</td>\n",
       "    </tr>\n",
       "    <tr>\n",
       "      <th>1</th>\n",
       "      <td>0</td>\n",
       "      <td>0</td>\n",
       "      <td>1</td>\n",
       "      <td>6.345636</td>\n",
       "      <td>4122.991507</td>\n",
       "      <td>486.045648</td>\n",
       "    </tr>\n",
       "    <tr>\n",
       "      <th>2</th>\n",
       "      <td>0</td>\n",
       "      <td>0</td>\n",
       "      <td>1</td>\n",
       "      <td>9.556055</td>\n",
       "      <td>5741.253715</td>\n",
       "      <td>620.286624</td>\n",
       "    </tr>\n",
       "    <tr>\n",
       "      <th>3</th>\n",
       "      <td>2</td>\n",
       "      <td>2</td>\n",
       "      <td>0</td>\n",
       "      <td>6.429719</td>\n",
       "      <td>8021.769639</td>\n",
       "      <td>1100.057325</td>\n",
       "    </tr>\n",
       "    <tr>\n",
       "      <th>4</th>\n",
       "      <td>0</td>\n",
       "      <td>0</td>\n",
       "      <td>0</td>\n",
       "      <td>10.305948</td>\n",
       "      <td>3867.110403</td>\n",
       "      <td>444.360934</td>\n",
       "    </tr>\n",
       "    <tr>\n",
       "      <th>...</th>\n",
       "      <td>...</td>\n",
       "      <td>...</td>\n",
       "      <td>...</td>\n",
       "      <td>...</td>\n",
       "      <td>...</td>\n",
       "      <td>...</td>\n",
       "    </tr>\n",
       "    <tr>\n",
       "      <th>1110</th>\n",
       "      <td>0</td>\n",
       "      <td>0</td>\n",
       "      <td>1</td>\n",
       "      <td>7.549609</td>\n",
       "      <td>4342.968153</td>\n",
       "      <td>373.548832</td>\n",
       "    </tr>\n",
       "    <tr>\n",
       "      <th>1111</th>\n",
       "      <td>2</td>\n",
       "      <td>2</td>\n",
       "      <td>0</td>\n",
       "      <td>7.539027</td>\n",
       "      <td>8465.280255</td>\n",
       "      <td>693.498938</td>\n",
       "    </tr>\n",
       "    <tr>\n",
       "      <th>1112</th>\n",
       "      <td>0</td>\n",
       "      <td>2</td>\n",
       "      <td>0</td>\n",
       "      <td>9.133459</td>\n",
       "      <td>5516.180467</td>\n",
       "      <td>596.763270</td>\n",
       "    </tr>\n",
       "    <tr>\n",
       "      <th>1113</th>\n",
       "      <td>0</td>\n",
       "      <td>2</td>\n",
       "      <td>0</td>\n",
       "      <td>6.768493</td>\n",
       "      <td>17200.196391</td>\n",
       "      <td>2664.057325</td>\n",
       "    </tr>\n",
       "    <tr>\n",
       "      <th>1114</th>\n",
       "      <td>3</td>\n",
       "      <td>2</td>\n",
       "      <td>1</td>\n",
       "      <td>8.584852</td>\n",
       "      <td>5225.296178</td>\n",
       "      <td>358.687898</td>\n",
       "    </tr>\n",
       "  </tbody>\n",
       "</table>\n",
       "<p>1115 rows × 6 columns</p>\n",
       "</div>"
      ],
      "text/plain": [
       "      StoreType  Assortment  Promo2  CompetitionDistance_log         Sales  \\\n",
       "0             2           0       0                 7.146772   3945.704883   \n",
       "1             0           0       1                 6.345636   4122.991507   \n",
       "2             0           0       1                 9.556055   5741.253715   \n",
       "3             2           2       0                 6.429719   8021.769639   \n",
       "4             0           0       0                10.305948   3867.110403   \n",
       "...         ...         ...     ...                      ...           ...   \n",
       "1110          0           0       1                 7.549609   4342.968153   \n",
       "1111          2           2       0                 7.539027   8465.280255   \n",
       "1112          0           2       0                 9.133459   5516.180467   \n",
       "1113          0           2       0                 6.768493  17200.196391   \n",
       "1114          3           2       1                 8.584852   5225.296178   \n",
       "\n",
       "        Customers  \n",
       "0      467.646497  \n",
       "1      486.045648  \n",
       "2      620.286624  \n",
       "3     1100.057325  \n",
       "4      444.360934  \n",
       "...           ...  \n",
       "1110   373.548832  \n",
       "1111   693.498938  \n",
       "1112   596.763270  \n",
       "1113  2664.057325  \n",
       "1114   358.687898  \n",
       "\n",
       "[1115 rows x 6 columns]"
      ]
     },
     "metadata": {},
     "output_type": "display_data"
    }
   ],
   "source": [
    "display(df_p4)"
   ]
  },
  {
   "cell_type": "markdown",
   "metadata": {},
   "source": [
    "Para crear los sets de entrenamiento y prueba para esta mision, se usaran los sets creados en la misión 3.2, pero se le quitaran las columnas que no seran usadas en esta misión."
   ]
  },
  {
   "cell_type": "code",
   "execution_count": 372,
   "metadata": {
    "id": "LBcoXFkcQACZ"
   },
   "outputs": [],
   "source": [
    "training_set4 = training_set.copy()\n",
    "training_set4 = training_set4.drop([\"Store\", \"CompetitionDistance\", \"Date\"], axis = 1)\n",
    "test_set4 = test_set.copy()\n",
    "test_set4 = test_set4.drop([\"Store\", \"CompetitionDistance\", \"Date\"], axis = 1)"
   ]
  },
  {
   "cell_type": "code",
   "execution_count": 373,
   "metadata": {
    "colab": {
     "base_uri": "https://localhost:8080/",
     "height": 260
    },
    "id": "yH-vkuYx5aXJ",
    "outputId": "6098ac6b-58a6-4519-fa26-9b63ce17d69c"
   },
   "outputs": [
    {
     "data": {
      "text/plain": [
       "StoreType                    int64\n",
       "Assortment                   int64\n",
       "Promo2                       int64\n",
       "CompetitionDistance_log    float64\n",
       "Sales                      float64\n",
       "Customers                  float64\n",
       "dtype: object"
      ]
     },
     "metadata": {},
     "output_type": "display_data"
    },
    {
     "data": {
      "text/plain": [
       "StoreType                    int64\n",
       "Assortment                   int64\n",
       "Promo2                       int64\n",
       "CompetitionDistance_log    float64\n",
       "Sales                      float64\n",
       "Customers                  float64\n",
       "dtype: object"
      ]
     },
     "metadata": {},
     "output_type": "display_data"
    }
   ],
   "source": [
    "variables_categoricas = [\"StoreType\"]\n",
    "label_encoder = LabelEncoder()\n",
    "for i in variables_categoricas:\n",
    "    training_set4[i] = label_encoder.fit_transform(training_set4[i])\n",
    "    test_set4[i] = label_encoder.fit_transform(test_set4[i])\n",
    "\n",
    "variables_categoricas = [\"Assortment\"]\n",
    "label_encoder = LabelEncoder()\n",
    "for i in variables_categoricas:\n",
    "    training_set4[i] = label_encoder.fit_transform(training_set4[i])\n",
    "    test_set4[i] = label_encoder.fit_transform(test_set4[i])\n",
    "\n",
    "\n",
    "display(training_set4.dtypes) \n",
    "display(test_set4.dtypes)"
   ]
  },
  {
   "cell_type": "code",
   "execution_count": 374,
   "metadata": {
    "id": "_sMbUr2zPm2q"
   },
   "outputs": [],
   "source": [
    "features = [\"StoreType\", \"Assortment\", \"Promo2\", \"CompetitionDistance_log\", \"Customers\"]\n",
    "target = \"Sales\""
   ]
  },
  {
   "cell_type": "code",
   "execution_count": 375,
   "metadata": {
    "id": "J9jM6dLs5dXL"
   },
   "outputs": [],
   "source": [
    "x_train, y_train = training_set4[features], training_set4[target]\n",
    "x_test, y_test = test_set4[features], test_set4[target]"
   ]
  },
  {
   "cell_type": "code",
   "execution_count": 376,
   "metadata": {
    "colab": {
     "base_uri": "https://localhost:8080/",
     "height": 260
    },
    "id": "NYZFjlRoQPSF",
    "outputId": "02545fb8-9e1f-4da1-ee89-91024cef292e"
   },
   "outputs": [],
   "source": [
    "scaler = StandardScaler()\n",
    "\n",
    "x_train = scaler.fit_transform(x_train)\n",
    "x_test = scaler.transform(x_test)\n"
   ]
  },
  {
   "cell_type": "code",
   "execution_count": 377,
   "metadata": {
    "id": "fCem8CaFQUKP"
   },
   "outputs": [],
   "source": [
    "def training_and_eval(model, x_train, y_train, x_test, y_test, transform=None):\n",
    "    model.fit(x_train, y_train)\n",
    "\n",
    "    train_pred = model.predict(x_train)\n",
    "    test_pred = model.predict(x_test)\n",
    "    \n",
    "    if transform is not None:\n",
    "        train_pred = transform(train_pred)\n",
    "        test_pred = transform(test_pred)\n",
    "\n",
    "    train_mse = metrics.mean_squared_error(y_train, train_pred)\n",
    "    test_mse = metrics.mean_squared_error(y_test, test_pred)\n",
    "    print(f\"Train MSE: {train_mse:.2f}\\nTest MSE: {test_mse:.2f}\")"
   ]
  },
  {
   "cell_type": "markdown",
   "metadata": {},
   "source": [
    "Modelo: Regresión Lineal"
   ]
  },
  {
   "cell_type": "code",
   "execution_count": 378,
   "metadata": {
    "colab": {
     "base_uri": "https://localhost:8080/"
    },
    "id": "UBbah3AsQeb3",
    "outputId": "83076fb7-2198-4d16-a7d6-8263ad90d67a"
   },
   "outputs": [
    {
     "name": "stdout",
     "output_type": "stream",
     "text": [
      "Train MSE: 1085435.47\n",
      "Test MSE: 928143.53\n"
     ]
    }
   ],
   "source": [
    "lr_model = LinearRegression()\n",
    "training_and_eval(lr_model, x_train, y_train, x_test, y_test)"
   ]
  },
  {
   "cell_type": "markdown",
   "metadata": {
    "id": "y0oxd-znmWgX"
   },
   "source": [
    "El MSE del set de entrenamiento es 1085435.47, mientras que en del set de prueba es 928143.53. Se puede notar que el set de prueba tiene menor MSE. La diferencia entre los MSE es 157291.94."
   ]
  },
  {
   "cell_type": "markdown",
   "metadata": {},
   "source": [
    "Modelo: Arbol de Regresión"
   ]
  },
  {
   "cell_type": "code",
   "execution_count": 379,
   "metadata": {
    "colab": {
     "base_uri": "https://localhost:8080/"
    },
    "id": "XeByI2P6Qjzy",
    "outputId": "4e1d6f26-1d5d-4dce-accf-4a587bc47db2"
   },
   "outputs": [
    {
     "name": "stdout",
     "output_type": "stream",
     "text": [
      "Train MSE: 0.00\n",
      "Test MSE: 1481869.57\n"
     ]
    }
   ],
   "source": [
    "dtr_model = DecisionTreeRegressor()\n",
    "training_and_eval(dtr_model, x_train, y_train, x_test, y_test)"
   ]
  },
  {
   "cell_type": "markdown",
   "metadata": {
    "id": "WRsQskbqnTxX"
   },
   "source": [
    "El MSE del set de entrenamiento es 0, por lo tanto este modelo no tiene error para el set de entrenamiento, mientras que en del set de prueba es 1481869.57. Se puede notar que el set de entrenamiento tiene menor MSE. La diferencia entre los MSE es 1481869.57."
   ]
  },
  {
   "cell_type": "markdown",
   "metadata": {},
   "source": [
    "Modelo: RFR"
   ]
  },
  {
   "cell_type": "code",
   "execution_count": 380,
   "metadata": {
    "colab": {
     "base_uri": "https://localhost:8080/"
    },
    "id": "rgG_IZyLQle1",
    "outputId": "9c8d6195-1c13-4492-c070-2d046133595b"
   },
   "outputs": [
    {
     "name": "stdout",
     "output_type": "stream",
     "text": [
      "Train MSE: 140538.34\n",
      "Test MSE: 764555.47\n"
     ]
    }
   ],
   "source": [
    "rfr_model = RandomForestRegressor()\n",
    "training_and_eval(rfr_model, x_train, y_train, x_test, y_test)"
   ]
  },
  {
   "cell_type": "markdown",
   "metadata": {
    "id": "Ckzd-womnnQU"
   },
   "source": [
    "El MSE del set de entrenamiento es 140538.34, mientras que en del set de prueba es 764555.47. Se puede notar que el set de entrenamiento tiene menor MSE. La diferencia entre los MSE es 624017,13."
   ]
  },
  {
   "cell_type": "markdown",
   "metadata": {
    "id": "M_asiqldoAWO"
   },
   "source": [
    "El menor MSE de los test de prueba es el modelo de RFR, el cual tiene una diferencia de 764555.47 entre MSEs. Aun que no sea el que menos diferencia tiene entre MSEs, por la razon anterior, es el que tiene mejor rendimiento."
   ]
  },
  {
   "cell_type": "markdown",
   "metadata": {
    "id": "2Uyxkib-TvVj"
   },
   "source": [
    "De: https://github.com/IIC2115/Syllabus-2021-2/blob/main/Ayudant%C3%ADas/T4b/T4b_pauta.ipynb"
   ]
  }
 ],
 "metadata": {
  "colab": {
   "collapsed_sections": [],
   "provenance": []
  },
  "kernelspec": {
   "display_name": "Python 3 (ipykernel)",
   "language": "python",
   "name": "python3"
  },
  "language_info": {
   "codemirror_mode": {
    "name": "ipython",
    "version": 3
   },
   "file_extension": ".py",
   "mimetype": "text/x-python",
   "name": "python",
   "nbconvert_exporter": "python",
   "pygments_lexer": "ipython3",
   "version": "3.10.6"
  }
 },
 "nbformat": 4,
 "nbformat_minor": 1
}
