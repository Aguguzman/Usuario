{
 "cells": [
  {
   "cell_type": "code",
   "execution_count": 1,
   "metadata": {},
   "outputs": [
    {
     "name": "stdout",
     "output_type": "stream",
     "text": [
      "['[', '{', '5', ' ', '+', '8', ']', ' ', '-', '3', ')', ' ', '*', ' ', '4', '}']\n",
      "['[', '{', '5', '+', '8', ']', '-', '3', ')', '*', '4', '}']\n",
      "abierto ['[', '{']\n",
      "cerrado [')', ']', '}']\n",
      "False\n",
      "True\n",
      "True\n",
      "False\n"
     ]
    }
   ],
   "source": [
    "ecuacion = (\"[{5 +8] -3) * 4}\")\n",
    "lista_abrir = [\"(\",\"[\",\"{\"]\n",
    "lista_cerrar = [\")\",\"]\",\"}\"]\n",
    "lista = list(ecuacion)\n",
    "print(lista)\n",
    "\n",
    "for i in lista:\n",
    "  if i == \" \":\n",
    "    lista.remove(i)\n",
    "print(lista)\n",
    "\n",
    "def chequear(lista):\n",
    "  abierto = []\n",
    "  cerrado = []\n",
    "  for i in lista_abrir:\n",
    "    for e in lista:\n",
    "      if e == i:\n",
    "        abierto.append(i)\n",
    "  for i in lista_cerrar:\n",
    "    for e in lista:\n",
    "      if e == i:\n",
    "          cerrado.append(i)\n",
    "  print(\"abierto\" , abierto)\n",
    "  print(\"cerrado\" , cerrado)\n",
    "  abrir_redondo = 0\n",
    "  cerrar_redondo = 0\n",
    "  abrir_cuadrado = 0\n",
    "  cerrar_cuadrado = 0\n",
    "  abrir_llave = 0\n",
    "  cerrar_llave = 0\n",
    "  for i in abierto:\n",
    "    if i == \"(\":\n",
    "      abrir_redondo = abrir_redondo + 1\n",
    "    elif i  == \"[\":\n",
    "      abrir_cuadrado = abrir_cuadrado + 1\n",
    "    elif i  == \"{\":\n",
    "      abrir_llave = abrir_llave + 1\n",
    "  for e in cerrado:\n",
    "    if e == \")\":\n",
    "      cerrar_redondo = cerrar_redondo + 1\n",
    "    elif e == \"]\":\n",
    "      cerrar_cuadrado = cerrar_cuadrado + 1\n",
    "    elif e == \"}\":\n",
    "      cerrar_llave = cerrar_llave + 1\n",
    "  redondo = abrir_redondo - cerrar_redondo == 0\n",
    "  print(redondo)\n",
    "  cuadrado = abrir_cuadrado - cerrar_cuadrado == 0\n",
    "  print(cuadrado)\n",
    "  llave = abrir_llave - cerrar_llave == 0\n",
    "  print(llave)\n",
    "  balanceado = redondo and cuadrado and llave\n",
    "  print(balanceado)    \n",
    "\n",
    "chequear(lista)"
   ]
  }
 ],
 "metadata": {
  "kernelspec": {
   "display_name": "Python 3.10.6 64-bit",
   "language": "python",
   "name": "python3"
  },
  "language_info": {
   "codemirror_mode": {
    "name": "ipython",
    "version": 3
   },
   "file_extension": ".py",
   "mimetype": "text/x-python",
   "name": "python",
   "nbconvert_exporter": "python",
   "pygments_lexer": "ipython3",
   "version": "3.10.6"
  },
  "orig_nbformat": 4,
  "vscode": {
   "interpreter": {
    "hash": "aee8b7b246df8f9039afb4144a1f6fd8d2ca17a180786b69acc140d282b71a49"
   }
  }
 },
 "nbformat": 4,
 "nbformat_minor": 2
}
